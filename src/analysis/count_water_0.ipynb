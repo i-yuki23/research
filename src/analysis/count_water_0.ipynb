{
 "cells": [
  {
   "cell_type": "code",
   "execution_count": 1,
   "metadata": {},
   "outputs": [],
   "source": [
    "import sys \n",
    "sys.path.append('..')"
   ]
  },
  {
   "cell_type": "code",
   "execution_count": 2,
   "metadata": {},
   "outputs": [],
   "source": [
    "import numpy as np\n",
    "import os\n",
    "from lib.pdb import get_atom_id_from_pdb, get_all_pdb_names\n",
    "from lib.plot import plot_histogram\n",
    "import matplotlib.pyplot as plt"
   ]
  },
  {
   "cell_type": "code",
   "execution_count": 3,
   "metadata": {},
   "outputs": [],
   "source": [
    "LIGAND_VOXEL_NUM = 6"
   ]
  },
  {
   "cell_type": "code",
   "execution_count": 4,
   "metadata": {},
   "outputs": [],
   "source": [
    "def count_water_number(pdb_file):\n",
    "    ids = get_atom_id_from_pdb(pdb_file)\n",
    "    return len(ids)"
   ]
  },
  {
   "cell_type": "code",
   "execution_count": 5,
   "metadata": {},
   "outputs": [],
   "source": [
    "pdb_names = get_all_pdb_names()\n",
    "\n",
    "displaceable_water_0_pdb = []\n",
    "non_displaceable_water_0_pdb = []\n",
    "\n",
    "for pdb_name in pdb_names:\n",
    "    displaceable_water_num = count_water_number(f'/home/ito/research/data/LIGAND_POCKET_VOXEL_NUM_{LIGAND_VOXEL_NUM}/labeled_water/displaceable/{pdb_name}/pred_O_placed_{pdb_name}_3.0.pdb')\n",
    "    if displaceable_water_num == 0:\n",
    "        displaceable_water_0_pdb.append(pdb_name)\n",
    "        \n",
    "    non_displaceable_water_num = count_water_number(f'/home/ito/research/data/LIGAND_POCKET_VOXEL_NUM_{LIGAND_VOXEL_NUM}/labeled_water/non_displaceable/{pdb_name}/pred_O_placed_{pdb_name}_3.0.pdb')\n",
    "    if non_displaceable_water_num == 0:\n",
    "        non_displaceable_water_0_pdb.append(pdb_name)\n"
   ]
  },
  {
   "cell_type": "code",
   "execution_count": 6,
   "metadata": {},
   "outputs": [],
   "source": [
    "displaceable_water_0_pdb_set = set(displaceable_water_0_pdb)"
   ]
  },
  {
   "cell_type": "code",
   "execution_count": 7,
   "metadata": {},
   "outputs": [],
   "source": [
    "non_displaceable_water_0_pdb_set = set(non_displaceable_water_0_pdb)"
   ]
  },
  {
   "cell_type": "code",
   "execution_count": 8,
   "metadata": {},
   "outputs": [],
   "source": [
    "common_pdb = displaceable_water_0_pdb_set & non_displaceable_water_0_pdb_set"
   ]
  },
  {
   "cell_type": "code",
   "execution_count": 9,
   "metadata": {},
   "outputs": [],
   "source": [
    "only_displaceable_water_0_pdb = list(displaceable_water_0_pdb_set - common_pdb)"
   ]
  },
  {
   "cell_type": "code",
   "execution_count": 10,
   "metadata": {},
   "outputs": [],
   "source": [
    "only_non_displaceable_water_0_pdb = list(non_displaceable_water_0_pdb_set - common_pdb)"
   ]
  },
  {
   "cell_type": "code",
   "execution_count": 11,
   "metadata": {},
   "outputs": [
    {
     "name": "stdout",
     "output_type": "stream",
     "text": [
      "common: 122 only_dis: 62 only_non: 15 dis: 184 non: 137\n"
     ]
    }
   ],
   "source": [
    "print(\"common:\", len(common_pdb), \"only_dis:\", len(only_displaceable_water_0_pdb), \"only_non:\", len(only_non_displaceable_water_0_pdb), \"dis:\", len(displaceable_water_0_pdb), \"non:\", len(non_displaceable_water_0_pdb))"
   ]
  },
  {
   "cell_type": "code",
   "execution_count": 13,
   "metadata": {},
   "outputs": [
    {
     "name": "stdout",
     "output_type": "stream",
     "text": [
      "['4pmm', '4io7', '5dqe', '2wyg', '4m0r', '3egt', '2jg0', '4qd6', '4n7m', '5f9b', '1p57', '3kjd', '2a5s', '4d8z', '2vh6', '1bcu', '2wyj', '2uyq', '4pp3', '4kao', '4dkr', '3o5x', '4gah', '1b57', '3ug2', '4a4v', '2jjb', '2uwo', '1qk4', '4i54', '4pp5', '4dkq', '4zzd', '2j4i', '5gs9', '4br3', '3gnw', '2zb1', '3umq', '1pb8', '4m8h', '4nbn', '1ghw', '2xog', '2on6', '2q7q', '4zji', '2j2u', '4n8q', '2b9a', '3pce', '2vwm', '4btk', '3ifl', '3hkw', '3gcs', '4ysl', '4io3', '3zi0', '3ies', '2oxy', '4daf']\n"
     ]
    }
   ],
   "source": [
    "print(only_displaceable_water_0_pdb)"
   ]
  },
  {
   "cell_type": "code",
   "execution_count": null,
   "metadata": {},
   "outputs": [],
   "source": []
  }
 ],
 "metadata": {
  "kernelspec": {
   "display_name": "yuki_research",
   "language": "python",
   "name": "python3"
  },
  "language_info": {
   "codemirror_mode": {
    "name": "ipython",
    "version": 3
   },
   "file_extension": ".py",
   "mimetype": "text/x-python",
   "name": "python",
   "nbconvert_exporter": "python",
   "pygments_lexer": "ipython3",
   "version": "3.10.13"
  }
 },
 "nbformat": 4,
 "nbformat_minor": 2
}
