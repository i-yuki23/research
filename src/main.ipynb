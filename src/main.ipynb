{
 "cells": [
  {
   "cell_type": "code",
   "execution_count": 1,
   "metadata": {},
   "outputs": [
    {
     "name": "stderr",
     "output_type": "stream",
     "text": [
      "2024-04-29 12:37:50.587277: I tensorflow/core/util/port.cc:113] oneDNN custom operations are on. You may see slightly different numerical results due to floating-point round-off errors from different computation orders. To turn them off, set the environment variable `TF_ENABLE_ONEDNN_OPTS=0`.\n",
      "2024-04-29 12:37:50.587667: I external/local_tsl/tsl/cuda/cudart_stub.cc:32] Could not find cuda drivers on your machine, GPU will not be used.\n",
      "2024-04-29 12:37:50.590632: I external/local_tsl/tsl/cuda/cudart_stub.cc:32] Could not find cuda drivers on your machine, GPU will not be used.\n",
      "2024-04-29 12:37:50.627478: I tensorflow/core/platform/cpu_feature_guard.cc:210] This TensorFlow binary is optimized to use available CPU instructions in performance-critical operations.\n",
      "To enable the following instructions: AVX2 AVX512F AVX512_VNNI FMA, in other operations, rebuild TensorFlow with the appropriate compiler flags.\n",
      "2024-04-29 12:37:51.222099: W tensorflow/compiler/tf2tensorrt/utils/py_utils.cc:38] TF-TRT Warning: Could not find TensorRT\n"
     ]
    }
   ],
   "source": [
    "import os\n",
    "import json\n",
    "from data_loader.SingleDataLoader import SingleDataLoader\n",
    "from data_loader.DoubleDataLoader import DoubleDataLoader\n",
    "from models.LeNet import LeNet\n",
    "from models.AlexNet import Alexnet\n",
    "from trainer.train import train_func\n",
    "from lib.path import get_training_data_dir\n",
    "from custom_losses.dice import dice_loss, dice_coefficient\n",
    "from tensorflow.keras.metrics import Recall, Precision\n",
    "from tensorflow.keras.losses import BinaryFocalCrossentropy, BinaryCrossentropy"
   ]
  },
  {
   "cell_type": "code",
   "execution_count": 2,
   "metadata": {},
   "outputs": [],
   "source": [
    "data_dir = '../data'\n",
    "train_list = os.path.join(data_dir, 'train_list')\n",
    "test_list = os.path.join(data_dir, 'test_list')\n",
    "val_list = os.path.join(data_dir, 'val_list')"
   ]
  },
  {
   "cell_type": "code",
   "execution_count": 3,
   "metadata": {},
   "outputs": [
    {
     "name": "stdout",
     "output_type": "stream",
     "text": [
      "/home/ito/research/data/training_data/gr/data_voxel_num_10/LigandPocketDefinerOriginal/ligand_pocket_voxel_num_8/WaterClassifyingRuleSurface/ \n",
      " /home/ito/research/data/training_data/gist/data_voxel_num_10/LigandPocketDefinerOriginal/ligand_pocket_voxel_num_8/WaterClassifyingRuleSurface/\n"
     ]
    }
   ],
   "source": [
    "DATA_TYPE1 = 'gr'\n",
    "DATA_TYPE2 = 'gist'\n",
    "DATA_VOXEL_NUM = 10\n",
    "CLASSIFYING_RULE = 'WaterClassifyingRuleSurface'\n",
    "LIGAND_POCKET_DEFINER = 'LigandPocketDefinerOriginal'\n",
    "LIGAND_VOXEL_NUM = 8\n",
    "\n",
    "training_data_dir1 = get_training_data_dir(DATA_TYPE1, DATA_VOXEL_NUM, CLASSIFYING_RULE, LIGAND_POCKET_DEFINER, LIGAND_VOXEL_NUM)\n",
    "training_data_dir2 = get_training_data_dir(DATA_TYPE2, DATA_VOXEL_NUM, CLASSIFYING_RULE, LIGAND_POCKET_DEFINER, LIGAND_VOXEL_NUM)\n",
    "\n",
    "print(training_data_dir1, \"\\n\", training_data_dir2)"
   ]
  },
  {
   "cell_type": "code",
   "execution_count": 4,
   "metadata": {},
   "outputs": [],
   "source": [
    "data_loader = SingleDataLoader(training_data_dir1)"
   ]
  },
  {
   "cell_type": "code",
   "execution_count": 5,
   "metadata": {},
   "outputs": [],
   "source": [
    "# data_loader = DoubleDataLoader(training_data_dir1, training_data_dir2)"
   ]
  },
  {
   "cell_type": "code",
   "execution_count": 6,
   "metadata": {},
   "outputs": [
    {
     "name": "stdout",
     "output_type": "stream",
     "text": [
      "Error processing 1nhu: No data found for 1nhu\n",
      "Error processing 1np0: No data found for 1np0\n",
      "Error processing 1olu: No data found for 1olu\n",
      "Error processing 1pb8: This is empty data: 1pb8\n",
      "Error processing 1pb9: This is empty data: 1pb9\n",
      "Error processing 1y1z: This is empty data: 1y1z\n",
      "Error processing 1yq7: No data found for 1yq7\n",
      "Error processing 2d3u: No data found for 2d3u\n",
      "Error processing 2d3z: No data found for 2d3z\n",
      "Error processing 2epn: No data found for 2epn\n",
      "Error processing 2j47: No data found for 2j47\n",
      "Error processing 2oax: This is empty data: 2oax\n",
      "Error processing 2p15: This is empty data: 2p15\n",
      "Error processing 2pog: This is empty data: 2pog\n",
      "Error processing 2q8h: No data found for 2q8h\n",
      "Error processing 2vt3: No data found for 2vt3\n",
      "Error processing 2vvs: No data found for 2vvs\n",
      "Error processing 2xm2: No data found for 2xm2\n",
      "Error processing 2ypo: This is empty data: 2ypo\n",
      "Error processing 2yxj: No data found for 2yxj\n",
      "Error processing 2zkj: No data found for 2zkj\n",
      "Error processing 3f70: No data found for 3f70\n",
      "Error processing 3fee: No data found for 3fee\n",
      "Error processing 3jvr: No data found for 3jvr\n",
      "Error processing 3jvs: No data found for 3jvs\n",
      "Error processing 3kr4: No data found for 3kr4\n",
      "Error processing 3mf5: No data found for 3mf5\n",
      "Error processing 3ozj: No data found for 3ozj\n",
      "Error processing 3qkd: No data found for 3qkd\n",
      "Error processing 3qox: No data found for 3qox\n",
      "Error processing 3t60: No data found for 3t60\n",
      "Error processing 3t70: No data found for 3t70\n",
      "Error processing 3w37: No data found for 3w37\n",
      "Error processing 3zi0: This is empty data: 3zi0\n",
      "Error processing 3zk6: This is empty data: 3zk6\n",
      "Error processing 3zln: This is empty data: 3zln\n",
      "Error processing 4abg: No data found for 4abg\n",
      "Error processing 4aje: No data found for 4aje\n",
      "Error processing 4aji: No data found for 4aji\n",
      "Error processing 4ajl: No data found for 4ajl\n",
      "Error processing 4b1j: No data found for 4b1j\n",
      "Error processing 4b9z: No data found for 4b9z\n",
      "Error processing 4cg8: This is empty data: 4cg8\n",
      "Error processing 4cg9: No data found for 4cg9\n",
      "Error processing 4cga: No data found for 4cga\n",
      "Error processing 4da5: This is empty data: 4da5\n",
      "Error processing 4dcs: No data found for 4dcs\n",
      "Error processing 4e70: No data found for 4e70\n",
      "Error processing 4ek9: No data found for 4ek9\n",
      "Error processing 4eo6: No data found for 4eo6\n",
      "Error processing 4eo8: No data found for 4eo8\n",
      "Error processing 4ieh: No data found for 4ieh\n",
      "Error processing 4ih5: No data found for 4ih5\n",
      "Error processing 4ih6: No data found for 4ih6\n",
      "Error processing 4io4: This is empty data: 4io4\n",
      "Error processing 4io5: This is empty data: 4io5\n",
      "Error processing 4io6: This is empty data: 4io6\n",
      "Error processing 4k6i: This is empty data: 4k6i\n",
      "Error processing 4lvt: No data found for 4lvt\n",
      "Error processing 4lxd: No data found for 4lxd\n",
      "Error processing 4m8e: No data found for 4m8e\n",
      "Error processing 4mhz: No data found for 4mhz\n",
      "Error processing 4o9w: No data found for 4o9w\n",
      "Error processing 4oiv: No data found for 4oiv\n",
      "Error processing 4p58: This is empty data: 4p58\n",
      "Error processing 4poh: This is empty data: 4poh\n",
      "Error processing 4poj: This is empty data: 4poj\n",
      "Error processing 4pp3: This is empty data: 4pp3\n",
      "Error processing 4pp5: This is empty data: 4pp5\n",
      "Error processing 4r76: No data found for 4r76\n",
      "Error processing 4z93: No data found for 4z93\n",
      "Error processing 4zji: This is empty data: 4zji\n",
      "Error processing 5afv: This is empty data: 5afv\n",
      "Error processing 5bv3: This is empty data: 5bv3\n",
      "Error processing 5dxt: No data found for 5dxt\n",
      "Error processing 5egu: This is empty data: 5egu\n",
      "Error processing 5ehr: No data found for 5ehr\n",
      "Error processing 5eqe: No data found for 5eqe\n",
      "Error processing 5eqy: This is empty data: 5eqy\n",
      "Error processing 5ftg: No data found for 5ftg\n",
      "Error processing 5hcv: This is empty data: 5hcv\n",
      "Error processing 5ime: No data found for 5ime\n",
      "Error processing 5kby: No data found for 5kby\n",
      "Error processing 5l7h: No data found for 5l7h\n",
      "Error processing 184l: This is empty data: 184l\n",
      "Error processing 186l: This is empty data: 186l\n",
      "Error processing 187l: This is empty data: 187l\n",
      "Error processing 1nhu: No data found for 1nhu\n",
      "Error processing 1np0: No data found for 1np0\n",
      "Error processing 1olu: No data found for 1olu\n",
      "Error processing 1uwu: This is empty data: 1uwu\n",
      "Error processing 1yq7: No data found for 1yq7\n",
      "Error processing 2d3u: No data found for 2d3u\n",
      "Error processing 2d3z: No data found for 2d3z\n",
      "Error processing 2epn: No data found for 2epn\n",
      "Error processing 2j47: No data found for 2j47\n",
      "Error processing 2q8h: No data found for 2q8h\n",
      "Error processing 2vt3: No data found for 2vt3\n",
      "Error processing 2vvs: No data found for 2vvs\n",
      "Error processing 2xm2: No data found for 2xm2\n",
      "Error processing 2yxj: No data found for 2yxj\n",
      "Error processing 2zkj: No data found for 2zkj\n",
      "Error processing 3f70: No data found for 3f70\n",
      "Error processing 3fee: No data found for 3fee\n",
      "Error processing 3jvr: No data found for 3jvr\n",
      "Error processing 3jvs: No data found for 3jvs\n",
      "Error processing 3kr4: No data found for 3kr4\n",
      "Error processing 3mf5: No data found for 3mf5\n",
      "Error processing 3ozj: No data found for 3ozj\n",
      "Error processing 3qkd: No data found for 3qkd\n",
      "Error processing 3qox: No data found for 3qox\n",
      "Error processing 3t60: No data found for 3t60\n",
      "Error processing 3t70: No data found for 3t70\n",
      "Error processing 3w37: No data found for 3w37\n",
      "Error processing 4abg: No data found for 4abg\n",
      "Error processing 4aje: No data found for 4aje\n",
      "Error processing 4aji: No data found for 4aji\n",
      "Error processing 4ajl: No data found for 4ajl\n",
      "Error processing 4b1j: No data found for 4b1j\n",
      "Error processing 4b9z: No data found for 4b9z\n",
      "Error processing 4cg9: No data found for 4cg9\n",
      "Error processing 4cga: No data found for 4cga\n",
      "Error processing 4dcs: No data found for 4dcs\n",
      "Error processing 4e70: No data found for 4e70\n",
      "Error processing 4ek9: No data found for 4ek9\n",
      "Error processing 4eo6: No data found for 4eo6\n",
      "Error processing 4eo8: No data found for 4eo8\n",
      "Error processing 4ieh: No data found for 4ieh\n",
      "Error processing 4ih5: No data found for 4ih5\n",
      "Error processing 4ih6: No data found for 4ih6\n",
      "Error processing 4k4j: This is empty data: 4k4j\n",
      "Error processing 4lvt: No data found for 4lvt\n",
      "Error processing 4lxd: No data found for 4lxd\n",
      "Error processing 4m8e: No data found for 4m8e\n",
      "Error processing 4mhz: No data found for 4mhz\n",
      "Error processing 4o9w: No data found for 4o9w\n",
      "Error processing 4oiv: No data found for 4oiv\n",
      "Error processing 4owv: This is empty data: 4owv\n",
      "Error processing 4r76: No data found for 4r76\n",
      "Error processing 4xaq: This is empty data: 4xaq\n",
      "Error processing 4xmr: This is empty data: 4xmr\n",
      "Error processing 4ykj: This is empty data: 4ykj\n",
      "Error processing 4z93: No data found for 4z93\n",
      "Error processing 5dxt: No data found for 5dxt\n",
      "Error processing 5ehr: No data found for 5ehr\n",
      "Error processing 5eqe: No data found for 5eqe\n",
      "Error processing 5ftg: No data found for 5ftg\n",
      "Error processing 5gs9: This is empty data: 5gs9\n",
      "Error processing 5ime: No data found for 5ime\n",
      "Error processing 5kby: No data found for 5kby\n",
      "Error processing 5l7h: No data found for 5l7h\n",
      "Error processing 2bys: No data found for 2bys\n",
      "Error processing 2jke: No data found for 2jke\n",
      "Error processing 2jkp: No data found for 2jkp\n",
      "Error processing 2xp7: No data found for 2xp7\n",
      "Error processing 2zq0: No data found for 2zq0\n",
      "Error processing 3i4b: No data found for 3i4b\n",
      "Error processing 4jn2: No data found for 4jn2\n",
      "Error processing 4l50: No data found for 4l50\n",
      "Error processing 4l51: No data found for 4l51\n",
      "Error processing 4n9c: No data found for 4n9c\n",
      "Error processing 4r0a: No data found for 4r0a\n",
      "Error processing 4u0f: No data found for 4u0f\n",
      "Error processing 5fsx: No data found for 5fsx\n",
      "Error processing 5fsy: No data found for 5fsy\n",
      "Error processing 2bys: No data found for 2bys\n",
      "Error processing 2jke: No data found for 2jke\n",
      "Error processing 2jkp: No data found for 2jkp\n",
      "Error processing 2xp7: No data found for 2xp7\n",
      "Error processing 2zq0: No data found for 2zq0\n",
      "Error processing 3i4b: No data found for 3i4b\n",
      "Error processing 4jn2: No data found for 4jn2\n",
      "Error processing 4l50: No data found for 4l50\n",
      "Error processing 4l51: No data found for 4l51\n",
      "Error processing 4n9c: No data found for 4n9c\n",
      "Error processing 4r0a: No data found for 4r0a\n",
      "Error processing 4u0f: No data found for 4u0f\n",
      "Error processing 5fsx: No data found for 5fsx\n",
      "Error processing 5fsy: No data found for 5fsy\n",
      "Error processing 1vfn: This is empty data: 1vfn\n",
      "Error processing 3b2q: No data found for 3b2q\n",
      "Error processing 3ccz: No data found for 3ccz\n",
      "Error processing 3cd7: No data found for 3cd7\n",
      "Error processing 3ebo: No data found for 3ebo\n",
      "Error processing 3ebp: No data found for 3ebp\n",
      "Error processing 3fur: This is empty data: 3fur\n",
      "Error processing 3k5v: No data found for 3k5v\n",
      "Error processing 3ms9: No data found for 3ms9\n",
      "Error processing 3mss: No data found for 3mss\n",
      "Error processing 3pyy: No data found for 3pyy\n",
      "Error processing 3u9q: No data found for 3u9q\n",
      "Error processing 4lj5: No data found for 4lj5\n",
      "Error processing 4lj8: No data found for 4lj8\n",
      "Error processing 4mpn: No data found for 4mpn\n",
      "Error processing 4r06: No data found for 4r06\n",
      "Error processing 5jy3: This is empty data: 5jy3\n",
      "Error processing 3b2q: No data found for 3b2q\n",
      "Error processing 3ccz: No data found for 3ccz\n",
      "Error processing 3cd7: No data found for 3cd7\n",
      "Error processing 3ebo: No data found for 3ebo\n",
      "Error processing 3ebp: No data found for 3ebp\n",
      "Error processing 3f3c: This is empty data: 3f3c\n",
      "Error processing 3k5v: No data found for 3k5v\n",
      "Error processing 3ms9: No data found for 3ms9\n",
      "Error processing 3mss: No data found for 3mss\n",
      "Error processing 3pyy: No data found for 3pyy\n",
      "Error processing 3u9q: No data found for 3u9q\n",
      "Error processing 4lj5: No data found for 4lj5\n",
      "Error processing 4lj8: No data found for 4lj8\n",
      "Error processing 4mpn: No data found for 4mpn\n",
      "Error processing 4r06: No data found for 4r06\n",
      "Error processing 5dq8: This is empty data: 5dq8\n"
     ]
    }
   ],
   "source": [
    "train_data, train_labels = data_loader.load_data(train_list)\n",
    "test_data, test_labels = data_loader.load_data(test_list)\n",
    "val_data, val_labels = data_loader.load_data(val_list)"
   ]
  },
  {
   "cell_type": "code",
   "execution_count": 7,
   "metadata": {},
   "outputs": [
    {
     "name": "stdout",
     "output_type": "stream",
     "text": [
      "Train data shape:  (50275, 21, 21, 21, 1)\n",
      "Train labels shape:  (50275,)\n",
      "Test data shape:  (13510, 21, 21, 21, 1)\n",
      "Test labels shape:  (13510,)\n",
      "Val data shape:  (10317, 21, 21, 21, 1)\n",
      "Val labels shape:  (10317,)\n"
     ]
    }
   ],
   "source": [
    "print('Train data shape: ', train_data.shape)\n",
    "print('Train labels shape: ', train_labels.shape)\n",
    "print('Test data shape: ', test_data.shape)\n",
    "print('Test labels shape: ', test_labels.shape)\n",
    "print('Val data shape: ', val_data.shape)\n",
    "print('Val labels shape: ', val_labels.shape)"
   ]
  },
  {
   "cell_type": "code",
   "execution_count": 11,
   "metadata": {},
   "outputs": [],
   "source": [
    "input_shape = (DATA_VOXEL_NUM*2+1, DATA_VOXEL_NUM*2+1, DATA_VOXEL_NUM*2+1, 1)\n",
    "epochs = 5\n",
    "batch_size = 128\n",
    "n_base = 16\n",
    "learning_rate = 1e-4\n",
    "early_stopping = 300\n",
    "BN = True\n",
    "dropout = 0.5\n",
    "model_func = LeNet\n",
    "losses = [BinaryCrossentropy(), dice_loss]\n",
    "loss= losses[0]\n",
    "metrics = ['accuracy', dice_coefficient, Recall(), Precision()]\n",
    "path_type = '/'.join(training_data_dir1.split('/')[6:11])\n",
    "checkpoint_path = f\"./checkpoints/{path_type}/LeNet/\" + \"cp-{epoch:04d}.weights.h5\"\n",
    "model_checkpoint = True"
   ]
  },
  {
   "cell_type": "code",
   "execution_count": 12,
   "metadata": {},
   "outputs": [
    {
     "name": "stdout",
     "output_type": "stream",
     "text": [
      "{0: 1.0425306901128069, 1: 0.9608034246837136}\n"
     ]
    }
   ],
   "source": [
    "pos = train_labels.sum()\n",
    "neg = train_labels.shape[0] - pos\n",
    "total = train_labels.shape[0]\n",
    "\n",
    "weight_for_0 = (1 / neg) * (total / 2.0)\n",
    "weight_for_1 = (1 / pos) * (total / 2.0)\n",
    "class_weight = {0: weight_for_0, 1: weight_for_1}\n",
    "print(class_weight)"
   ]
  },
  {
   "cell_type": "code",
   "execution_count": 13,
   "metadata": {},
   "outputs": [
    {
     "data": {
      "text/html": [
       "<pre style=\"white-space:pre;overflow-x:auto;line-height:normal;font-family:Menlo,'DejaVu Sans Mono',consolas,'Courier New',monospace\"><span style=\"font-weight: bold\">Model: \"sequential_1\"</span>\n",
       "</pre>\n"
      ],
      "text/plain": [
       "\u001b[1mModel: \"sequential_1\"\u001b[0m\n"
      ]
     },
     "metadata": {},
     "output_type": "display_data"
    },
    {
     "data": {
      "text/html": [
       "<pre style=\"white-space:pre;overflow-x:auto;line-height:normal;font-family:Menlo,'DejaVu Sans Mono',consolas,'Courier New',monospace\">┏━━━━━━━━━━━━━━━━━━━━━━━━━━━━━━━━━┳━━━━━━━━━━━━━━━━━━━━━━━━┳━━━━━━━━━━━━━━━┓\n",
       "┃<span style=\"font-weight: bold\"> Layer (type)                    </span>┃<span style=\"font-weight: bold\"> Output Shape           </span>┃<span style=\"font-weight: bold\">       Param # </span>┃\n",
       "┡━━━━━━━━━━━━━━━━━━━━━━━━━━━━━━━━━╇━━━━━━━━━━━━━━━━━━━━━━━━╇━━━━━━━━━━━━━━━┩\n",
       "│ conv3d_2 (<span style=\"color: #0087ff; text-decoration-color: #0087ff\">Conv3D</span>)               │ (<span style=\"color: #00d7ff; text-decoration-color: #00d7ff\">None</span>, <span style=\"color: #00af00; text-decoration-color: #00af00\">21</span>, <span style=\"color: #00af00; text-decoration-color: #00af00\">21</span>, <span style=\"color: #00af00; text-decoration-color: #00af00\">21</span>, <span style=\"color: #00af00; text-decoration-color: #00af00\">16</span>) │           <span style=\"color: #00af00; text-decoration-color: #00af00\">448</span> │\n",
       "├─────────────────────────────────┼────────────────────────┼───────────────┤\n",
       "│ batch_normalization_2           │ (<span style=\"color: #00d7ff; text-decoration-color: #00d7ff\">None</span>, <span style=\"color: #00af00; text-decoration-color: #00af00\">21</span>, <span style=\"color: #00af00; text-decoration-color: #00af00\">21</span>, <span style=\"color: #00af00; text-decoration-color: #00af00\">21</span>, <span style=\"color: #00af00; text-decoration-color: #00af00\">16</span>) │            <span style=\"color: #00af00; text-decoration-color: #00af00\">64</span> │\n",
       "│ (<span style=\"color: #0087ff; text-decoration-color: #0087ff\">BatchNormalization</span>)            │                        │               │\n",
       "├─────────────────────────────────┼────────────────────────┼───────────────┤\n",
       "│ max_pooling3d_2 (<span style=\"color: #0087ff; text-decoration-color: #0087ff\">MaxPooling3D</span>)  │ (<span style=\"color: #00d7ff; text-decoration-color: #00d7ff\">None</span>, <span style=\"color: #00af00; text-decoration-color: #00af00\">10</span>, <span style=\"color: #00af00; text-decoration-color: #00af00\">10</span>, <span style=\"color: #00af00; text-decoration-color: #00af00\">10</span>, <span style=\"color: #00af00; text-decoration-color: #00af00\">16</span>) │             <span style=\"color: #00af00; text-decoration-color: #00af00\">0</span> │\n",
       "├─────────────────────────────────┼────────────────────────┼───────────────┤\n",
       "│ conv3d_3 (<span style=\"color: #0087ff; text-decoration-color: #0087ff\">Conv3D</span>)               │ (<span style=\"color: #00d7ff; text-decoration-color: #00d7ff\">None</span>, <span style=\"color: #00af00; text-decoration-color: #00af00\">10</span>, <span style=\"color: #00af00; text-decoration-color: #00af00\">10</span>, <span style=\"color: #00af00; text-decoration-color: #00af00\">10</span>, <span style=\"color: #00af00; text-decoration-color: #00af00\">32</span>) │        <span style=\"color: #00af00; text-decoration-color: #00af00\">13,856</span> │\n",
       "├─────────────────────────────────┼────────────────────────┼───────────────┤\n",
       "│ batch_normalization_3           │ (<span style=\"color: #00d7ff; text-decoration-color: #00d7ff\">None</span>, <span style=\"color: #00af00; text-decoration-color: #00af00\">10</span>, <span style=\"color: #00af00; text-decoration-color: #00af00\">10</span>, <span style=\"color: #00af00; text-decoration-color: #00af00\">10</span>, <span style=\"color: #00af00; text-decoration-color: #00af00\">32</span>) │           <span style=\"color: #00af00; text-decoration-color: #00af00\">128</span> │\n",
       "│ (<span style=\"color: #0087ff; text-decoration-color: #0087ff\">BatchNormalization</span>)            │                        │               │\n",
       "├─────────────────────────────────┼────────────────────────┼───────────────┤\n",
       "│ max_pooling3d_3 (<span style=\"color: #0087ff; text-decoration-color: #0087ff\">MaxPooling3D</span>)  │ (<span style=\"color: #00d7ff; text-decoration-color: #00d7ff\">None</span>, <span style=\"color: #00af00; text-decoration-color: #00af00\">5</span>, <span style=\"color: #00af00; text-decoration-color: #00af00\">5</span>, <span style=\"color: #00af00; text-decoration-color: #00af00\">5</span>, <span style=\"color: #00af00; text-decoration-color: #00af00\">32</span>)    │             <span style=\"color: #00af00; text-decoration-color: #00af00\">0</span> │\n",
       "├─────────────────────────────────┼────────────────────────┼───────────────┤\n",
       "│ flatten_1 (<span style=\"color: #0087ff; text-decoration-color: #0087ff\">Flatten</span>)             │ (<span style=\"color: #00d7ff; text-decoration-color: #00d7ff\">None</span>, <span style=\"color: #00af00; text-decoration-color: #00af00\">4000</span>)           │             <span style=\"color: #00af00; text-decoration-color: #00af00\">0</span> │\n",
       "├─────────────────────────────────┼────────────────────────┼───────────────┤\n",
       "│ dense_2 (<span style=\"color: #0087ff; text-decoration-color: #0087ff\">Dense</span>)                 │ (<span style=\"color: #00d7ff; text-decoration-color: #00d7ff\">None</span>, <span style=\"color: #00af00; text-decoration-color: #00af00\">32</span>)             │       <span style=\"color: #00af00; text-decoration-color: #00af00\">128,032</span> │\n",
       "├─────────────────────────────────┼────────────────────────┼───────────────┤\n",
       "│ dropout_1 (<span style=\"color: #0087ff; text-decoration-color: #0087ff\">Dropout</span>)             │ (<span style=\"color: #00d7ff; text-decoration-color: #00d7ff\">None</span>, <span style=\"color: #00af00; text-decoration-color: #00af00\">32</span>)             │             <span style=\"color: #00af00; text-decoration-color: #00af00\">0</span> │\n",
       "├─────────────────────────────────┼────────────────────────┼───────────────┤\n",
       "│ dense_3 (<span style=\"color: #0087ff; text-decoration-color: #0087ff\">Dense</span>)                 │ (<span style=\"color: #00d7ff; text-decoration-color: #00d7ff\">None</span>, <span style=\"color: #00af00; text-decoration-color: #00af00\">1</span>)              │            <span style=\"color: #00af00; text-decoration-color: #00af00\">33</span> │\n",
       "└─────────────────────────────────┴────────────────────────┴───────────────┘\n",
       "</pre>\n"
      ],
      "text/plain": [
       "┏━━━━━━━━━━━━━━━━━━━━━━━━━━━━━━━━━┳━━━━━━━━━━━━━━━━━━━━━━━━┳━━━━━━━━━━━━━━━┓\n",
       "┃\u001b[1m \u001b[0m\u001b[1mLayer (type)                   \u001b[0m\u001b[1m \u001b[0m┃\u001b[1m \u001b[0m\u001b[1mOutput Shape          \u001b[0m\u001b[1m \u001b[0m┃\u001b[1m \u001b[0m\u001b[1m      Param #\u001b[0m\u001b[1m \u001b[0m┃\n",
       "┡━━━━━━━━━━━━━━━━━━━━━━━━━━━━━━━━━╇━━━━━━━━━━━━━━━━━━━━━━━━╇━━━━━━━━━━━━━━━┩\n",
       "│ conv3d_2 (\u001b[38;5;33mConv3D\u001b[0m)               │ (\u001b[38;5;45mNone\u001b[0m, \u001b[38;5;34m21\u001b[0m, \u001b[38;5;34m21\u001b[0m, \u001b[38;5;34m21\u001b[0m, \u001b[38;5;34m16\u001b[0m) │           \u001b[38;5;34m448\u001b[0m │\n",
       "├─────────────────────────────────┼────────────────────────┼───────────────┤\n",
       "│ batch_normalization_2           │ (\u001b[38;5;45mNone\u001b[0m, \u001b[38;5;34m21\u001b[0m, \u001b[38;5;34m21\u001b[0m, \u001b[38;5;34m21\u001b[0m, \u001b[38;5;34m16\u001b[0m) │            \u001b[38;5;34m64\u001b[0m │\n",
       "│ (\u001b[38;5;33mBatchNormalization\u001b[0m)            │                        │               │\n",
       "├─────────────────────────────────┼────────────────────────┼───────────────┤\n",
       "│ max_pooling3d_2 (\u001b[38;5;33mMaxPooling3D\u001b[0m)  │ (\u001b[38;5;45mNone\u001b[0m, \u001b[38;5;34m10\u001b[0m, \u001b[38;5;34m10\u001b[0m, \u001b[38;5;34m10\u001b[0m, \u001b[38;5;34m16\u001b[0m) │             \u001b[38;5;34m0\u001b[0m │\n",
       "├─────────────────────────────────┼────────────────────────┼───────────────┤\n",
       "│ conv3d_3 (\u001b[38;5;33mConv3D\u001b[0m)               │ (\u001b[38;5;45mNone\u001b[0m, \u001b[38;5;34m10\u001b[0m, \u001b[38;5;34m10\u001b[0m, \u001b[38;5;34m10\u001b[0m, \u001b[38;5;34m32\u001b[0m) │        \u001b[38;5;34m13,856\u001b[0m │\n",
       "├─────────────────────────────────┼────────────────────────┼───────────────┤\n",
       "│ batch_normalization_3           │ (\u001b[38;5;45mNone\u001b[0m, \u001b[38;5;34m10\u001b[0m, \u001b[38;5;34m10\u001b[0m, \u001b[38;5;34m10\u001b[0m, \u001b[38;5;34m32\u001b[0m) │           \u001b[38;5;34m128\u001b[0m │\n",
       "│ (\u001b[38;5;33mBatchNormalization\u001b[0m)            │                        │               │\n",
       "├─────────────────────────────────┼────────────────────────┼───────────────┤\n",
       "│ max_pooling3d_3 (\u001b[38;5;33mMaxPooling3D\u001b[0m)  │ (\u001b[38;5;45mNone\u001b[0m, \u001b[38;5;34m5\u001b[0m, \u001b[38;5;34m5\u001b[0m, \u001b[38;5;34m5\u001b[0m, \u001b[38;5;34m32\u001b[0m)    │             \u001b[38;5;34m0\u001b[0m │\n",
       "├─────────────────────────────────┼────────────────────────┼───────────────┤\n",
       "│ flatten_1 (\u001b[38;5;33mFlatten\u001b[0m)             │ (\u001b[38;5;45mNone\u001b[0m, \u001b[38;5;34m4000\u001b[0m)           │             \u001b[38;5;34m0\u001b[0m │\n",
       "├─────────────────────────────────┼────────────────────────┼───────────────┤\n",
       "│ dense_2 (\u001b[38;5;33mDense\u001b[0m)                 │ (\u001b[38;5;45mNone\u001b[0m, \u001b[38;5;34m32\u001b[0m)             │       \u001b[38;5;34m128,032\u001b[0m │\n",
       "├─────────────────────────────────┼────────────────────────┼───────────────┤\n",
       "│ dropout_1 (\u001b[38;5;33mDropout\u001b[0m)             │ (\u001b[38;5;45mNone\u001b[0m, \u001b[38;5;34m32\u001b[0m)             │             \u001b[38;5;34m0\u001b[0m │\n",
       "├─────────────────────────────────┼────────────────────────┼───────────────┤\n",
       "│ dense_3 (\u001b[38;5;33mDense\u001b[0m)                 │ (\u001b[38;5;45mNone\u001b[0m, \u001b[38;5;34m1\u001b[0m)              │            \u001b[38;5;34m33\u001b[0m │\n",
       "└─────────────────────────────────┴────────────────────────┴───────────────┘\n"
      ]
     },
     "metadata": {},
     "output_type": "display_data"
    },
    {
     "data": {
      "text/html": [
       "<pre style=\"white-space:pre;overflow-x:auto;line-height:normal;font-family:Menlo,'DejaVu Sans Mono',consolas,'Courier New',monospace\"><span style=\"font-weight: bold\"> Total params: </span><span style=\"color: #00af00; text-decoration-color: #00af00\">142,561</span> (556.88 KB)\n",
       "</pre>\n"
      ],
      "text/plain": [
       "\u001b[1m Total params: \u001b[0m\u001b[38;5;34m142,561\u001b[0m (556.88 KB)\n"
      ]
     },
     "metadata": {},
     "output_type": "display_data"
    },
    {
     "data": {
      "text/html": [
       "<pre style=\"white-space:pre;overflow-x:auto;line-height:normal;font-family:Menlo,'DejaVu Sans Mono',consolas,'Courier New',monospace\"><span style=\"font-weight: bold\"> Trainable params: </span><span style=\"color: #00af00; text-decoration-color: #00af00\">142,465</span> (556.50 KB)\n",
       "</pre>\n"
      ],
      "text/plain": [
       "\u001b[1m Trainable params: \u001b[0m\u001b[38;5;34m142,465\u001b[0m (556.50 KB)\n"
      ]
     },
     "metadata": {},
     "output_type": "display_data"
    },
    {
     "data": {
      "text/html": [
       "<pre style=\"white-space:pre;overflow-x:auto;line-height:normal;font-family:Menlo,'DejaVu Sans Mono',consolas,'Courier New',monospace\"><span style=\"font-weight: bold\"> Non-trainable params: </span><span style=\"color: #00af00; text-decoration-color: #00af00\">96</span> (384.00 B)\n",
       "</pre>\n"
      ],
      "text/plain": [
       "\u001b[1m Non-trainable params: \u001b[0m\u001b[38;5;34m96\u001b[0m (384.00 B)\n"
      ]
     },
     "metadata": {},
     "output_type": "display_data"
    },
    {
     "name": "stdout",
     "output_type": "stream",
     "text": [
      "Epoch 1/5\n",
      "\u001b[1m393/393\u001b[0m \u001b[32m━━━━━━━━━━━━━━━━━━━━\u001b[0m\u001b[37m\u001b[0m \u001b[1m24s\u001b[0m 58ms/step - accuracy: 0.5526 - dice_coefficient: 0.5329 - loss: 0.7568 - precision_1: 0.5763 - recall_1: 0.5257 - val_accuracy: 0.6202 - val_dice_coefficient: 0.5283 - val_loss: 0.6526 - val_precision_1: 0.7039 - val_recall_1: 0.4725\n",
      "Epoch 2/5\n",
      "\u001b[1m393/393\u001b[0m \u001b[32m━━━━━━━━━━━━━━━━━━━━\u001b[0m\u001b[37m\u001b[0m \u001b[1m22s\u001b[0m 57ms/step - accuracy: 0.6446 - dice_coefficient: 0.5684 - loss: 0.6328 - precision_1: 0.6674 - recall_1: 0.6285 - val_accuracy: 0.6625 - val_dice_coefficient: 0.5819 - val_loss: 0.6191 - val_precision_1: 0.6796 - val_recall_1: 0.6710\n",
      "Epoch 3/5\n",
      "\u001b[1m393/393\u001b[0m \u001b[32m━━━━━━━━━━━━━━━━━━━━\u001b[0m\u001b[37m\u001b[0m \u001b[1m22s\u001b[0m 56ms/step - accuracy: 0.6684 - dice_coefficient: 0.5859 - loss: 0.6104 - precision_1: 0.6966 - recall_1: 0.6395 - val_accuracy: 0.6691 - val_dice_coefficient: 0.5936 - val_loss: 0.6132 - val_precision_1: 0.6884 - val_recall_1: 0.6708\n",
      "Epoch 4/5\n",
      "\u001b[1m393/393\u001b[0m \u001b[32m━━━━━━━━━━━━━━━━━━━━\u001b[0m\u001b[37m\u001b[0m \u001b[1m22s\u001b[0m 56ms/step - accuracy: 0.6796 - dice_coefficient: 0.5976 - loss: 0.5957 - precision_1: 0.7088 - recall_1: 0.6486 - val_accuracy: 0.6699 - val_dice_coefficient: 0.5944 - val_loss: 0.6089 - val_precision_1: 0.7036 - val_recall_1: 0.6371\n",
      "Epoch 5/5\n",
      "\u001b[1m393/393\u001b[0m \u001b[32m━━━━━━━━━━━━━━━━━━━━\u001b[0m\u001b[37m\u001b[0m \u001b[1m22s\u001b[0m 57ms/step - accuracy: 0.6885 - dice_coefficient: 0.6008 - loss: 0.5904 - precision_1: 0.7210 - recall_1: 0.6500 - val_accuracy: 0.6740 - val_dice_coefficient: 0.5964 - val_loss: 0.6038 - val_precision_1: 0.7022 - val_recall_1: 0.6539\n",
      "Restoring model weights from the end of the best epoch: 5.\n",
      "start to evaluate the model\n"
     ]
    }
   ],
   "source": [
    "clf, clf_hist, clf_eval = train_func(\n",
    "                                    x_train=train_data,\n",
    "                                    y_train=train_labels,\n",
    "                                    x_test=test_data,\n",
    "                                    y_test=test_labels,\n",
    "                                    x_val=val_data,\n",
    "                                    y_val=val_labels,\n",
    "                                    input_shape=input_shape,\n",
    "                                    model_func=model_func,\n",
    "                                    loss=loss,\n",
    "                                    metrics=metrics,\n",
    "                                    epochs=epochs,\n",
    "                                    batch_size=batch_size,\n",
    "                                    n_base=n_base,\n",
    "                                    learning_rate=learning_rate,\n",
    "                                    early_stopping=early_stopping,\n",
    "                                    checkpoint_path=checkpoint_path,\n",
    "                                    model_checkpoint=model_checkpoint,\n",
    "                                    class_weight=class_weight,\n",
    "                                    BN = BN,\n",
    "                                    dropout=dropout\n",
    "                                )"
   ]
  },
  {
   "cell_type": "code",
   "execution_count": null,
   "metadata": {},
   "outputs": [],
   "source": [
    "from lib.helper import make_dir\n",
    "\n",
    "history_save_path = f\"./history/{path_type}/LeNet/training_history.json\"\n",
    "make_dir(history_save_path)\n",
    "with open(history_save_path, 'w') as f:\n",
    "    json.dump(clf_hist.history, f)"
   ]
  },
  {
   "cell_type": "code",
   "execution_count": null,
   "metadata": {},
   "outputs": [
    {
     "name": "stdout",
     "output_type": "stream",
     "text": [
      "\u001b[1m524/524\u001b[0m \u001b[32m━━━━━━━━━━━━━━━━━━━━\u001b[0m\u001b[37m\u001b[0m \u001b[1m1s\u001b[0m 3ms/step\n"
     ]
    }
   ],
   "source": [
    "prediction = clf.predict(test_data)"
   ]
  },
  {
   "cell_type": "markdown",
   "metadata": {},
   "source": []
  },
  {
   "cell_type": "code",
   "execution_count": null,
   "metadata": {},
   "outputs": [
    {
     "data": {
      "text/plain": [
       "2417.0"
      ]
     },
     "execution_count": 11,
     "metadata": {},
     "output_type": "execute_result"
    }
   ],
   "source": [
    "prediction.round().sum()"
   ]
  }
 ],
 "metadata": {
  "kernelspec": {
   "display_name": "yuki_research",
   "language": "python",
   "name": "python3"
  },
  "language_info": {
   "codemirror_mode": {
    "name": "ipython",
    "version": 3
   },
   "file_extension": ".py",
   "mimetype": "text/x-python",
   "name": "python",
   "nbconvert_exporter": "python",
   "pygments_lexer": "ipython3",
   "version": "3.10.13"
  }
 },
 "nbformat": 4,
 "nbformat_minor": 2
}
