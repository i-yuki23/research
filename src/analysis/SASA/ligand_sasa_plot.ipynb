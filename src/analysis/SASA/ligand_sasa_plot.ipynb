{
 "cells": [
  {
   "cell_type": "code",
   "execution_count": 41,
   "metadata": {},
   "outputs": [],
   "source": [
    "import sys\n",
    "sys.path.append('../..')"
   ]
  },
  {
   "cell_type": "code",
   "execution_count": 42,
   "metadata": {},
   "outputs": [],
   "source": [
    "from lib.pdb import get_pdb_names_by_txt"
   ]
  },
  {
   "cell_type": "code",
   "execution_count": 43,
   "metadata": {},
   "outputs": [],
   "source": [
    "import matplotlib.pyplot as plt\n",
    "import numpy as np\n",
    "\n",
    "ligand_sasa = np.load('ligand_sasa.npy')"
   ]
  },
  {
   "cell_type": "code",
   "execution_count": 44,
   "metadata": {},
   "outputs": [
    {
     "name": "stdout",
     "output_type": "stream",
     "text": [
      "\n"
     ]
    }
   ],
   "source": [
    "single_pocket_proteins = np.array(get_pdb_names_by_txt('/home/ito/research/data/single_pocket_protein.txt'))\n",
    "print()"
   ]
  },
  {
   "cell_type": "code",
   "execution_count": 45,
   "metadata": {},
   "outputs": [],
   "source": [
    "indices = np.where(ligand_sasa < 0.01256868)[0]\n",
    "fully_surrounded_proteins = np.array(single_pocket_proteins)[indices]"
   ]
  },
  {
   "cell_type": "code",
   "execution_count": 46,
   "metadata": {},
   "outputs": [
    {
     "name": "stdout",
     "output_type": "stream",
     "text": [
      "1757\n"
     ]
    }
   ],
   "source": [
    "valid_proteins = single_pocket_proteins[~np.isin(single_pocket_proteins, fully_surrounded_proteins)]\n",
    "print(single_pocket_proteins.shape[0] - fully_surrounded_proteins.shape[0])"
   ]
  },
  {
   "cell_type": "code",
   "execution_count": 30,
   "metadata": {},
   "outputs": [],
   "source": [
    "with open('/home/ito/research/data/valid_proteins.txt', 'w') as f:\n",
    "    for protein in valid_proteins:\n",
    "        if protein == '3ppm':\n",
    "            continue\n",
    "        f.write(f'{protein}\\n')"
   ]
  },
  {
   "cell_type": "code",
   "execution_count": 38,
   "metadata": {},
   "outputs": [
    {
     "data": {
      "text/plain": [
       "(191,)"
      ]
     },
     "execution_count": 38,
     "metadata": {},
     "output_type": "execute_result"
    }
   ],
   "source": [
    "ligand_sasa[ligand_sasa < 0.01256868].shape\n",
    "# 0.05, 0.1"
   ]
  },
  {
   "cell_type": "code",
   "execution_count": 5,
   "metadata": {},
   "outputs": [
    {
     "data": {
      "text/plain": [
       "array([], dtype=int64)"
      ]
     },
     "execution_count": 5,
     "metadata": {},
     "output_type": "execute_result"
    }
   ],
   "source": [
    "indices = np.where((ligand_sasa > 49) & (ligand_sasa < 50))[0]\n",
    "indices"
   ]
  },
  {
   "cell_type": "code",
   "execution_count": 6,
   "metadata": {},
   "outputs": [],
   "source": []
  },
  {
   "cell_type": "code",
   "execution_count": 7,
   "metadata": {},
   "outputs": [
    {
     "data": {
      "text/plain": [
       "'1c5x'"
      ]
     },
     "execution_count": 7,
     "metadata": {},
     "output_type": "execute_result"
    }
   ],
   "source": [
    "all_protein[852]"
   ]
  },
  {
   "cell_type": "code",
   "execution_count": 8,
   "metadata": {},
   "outputs": [
    {
     "data": {
      "text/plain": [
       "array([], dtype=float64)"
      ]
     },
     "execution_count": 8,
     "metadata": {},
     "output_type": "execute_result"
    }
   ],
   "source": [
    "ligand_sasa[indices]"
   ]
  },
  {
   "cell_type": "code",
   "execution_count": 9,
   "metadata": {},
   "outputs": [
    {
     "name": "stdout",
     "output_type": "stream",
     "text": [
      "[0.         0.01256868 0.02513736 0.03770604 0.05027472 0.0628434\n",
      " 0.07541208 0.08798076 0.10054944 0.11311812 0.1256868  0.13825549\n",
      " 0.15082417 0.16339285 0.17596153 0.18853021 0.20109889 0.21366757\n",
      " 0.22623625 0.23880493 0.25137361 0.26394229 0.27651097 0.28907965\n",
      " 0.30164833 0.31421701 0.32678569 0.33935437 0.35192305 0.36449173\n",
      " 0.37706041 0.38962909 0.40219778 0.41476646 0.42733514 0.43990382\n",
      " 0.4524725  0.46504118 0.47760986 0.49017854 0.50274722 0.5153159\n",
      " 0.52788458 0.54045326 0.55302194 0.56559062 0.5781593  0.59072798\n",
      " 0.60329666 0.61586534 0.62843402]\n"
     ]
    },
    {
     "data": {
      "image/png": "[encoded data removed]",
      "text/plain": [
       "<Figure size 1000x600 with 1 Axes>"
      ]
     },
     "metadata": {},
     "output_type": "display_data"
    },
    {
     "name": "stdout",
     "output_type": "stream",
     "text": [
      "0.006284340237588606\n"
     ]
    }
   ],
   "source": [
    "plt.figure(figsize=(10, 6))\n",
    "counts, bins, _ = plt.hist(ligand_sasa, bins=50, color='skyblue', edgecolor='black')\n",
    "print(bins)\n",
    "peak_index = np.argmax(counts)\n",
    "peak_x = (bins[peak_index] + bins[peak_index + 1]) / 2\n",
    "plt.title('Distribution of Ligand SASA')\n",
    "plt.xlabel('Ligand SASA')\n",
    "plt.ylabel('Frequency')\n",
    "plt.show()\n",
    "print(peak_x)"
   ]
  },
  {
   "cell_type": "code",
   "execution_count": 4,
   "metadata": {},
   "outputs": [],
   "source": [
    "from lib.pdb import get_all_pdb_names"
   ]
  },
  {
   "cell_type": "code",
   "execution_count": 5,
   "metadata": {},
   "outputs": [],
   "source": [
    "hydrophobic = []\n",
    "hydrophilic = []\n",
    "neutral = []\n",
    "\n",
    "for pdb_name, hydrophobicity in zip(get_all_pdb_names(), hydrophobicities):\n",
    "    if hydrophobicity > 9:\n",
    "        hydrophobic.append(pdb_name)\n",
    "    else:\n",
    "        hydrophilic.append(pdb_name)"
   ]
  },
  {
   "cell_type": "code",
   "execution_count": 6,
   "metadata": {},
   "outputs": [
    {
     "data": {
      "text/plain": [
       "(2354, 365, 0)"
      ]
     },
     "execution_count": 6,
     "metadata": {},
     "output_type": "execute_result"
    }
   ],
   "source": [
    "len(hydrophilic) ,len(hydrophobic), len(neutral)"
   ]
  },
  {
   "cell_type": "code",
   "execution_count": 6,
   "metadata": {},
   "outputs": [],
   "source": [
    "with open('../../../data/pdb_group/ave_SASA_large_9_pdb', mode='w') as f:\n",
    "    for pdb in hydrophobic:\n",
    "        f.write(pdb + '\\n')"
   ]
  },
  {
   "cell_type": "code",
   "execution_count": 7,
   "metadata": {},
   "outputs": [],
   "source": [
    "with open('../../../data/pdb_group/ave_SASA_small_9_pdb', mode='w') as f:\n",
    "    for pdb in hydrophilic:\n",
    "        f.write(pdb + '\\n')"
   ]
  },
  {
   "cell_type": "code",
   "execution_count": 93,
   "metadata": {},
   "outputs": [],
   "source": [
    "with open('../../data/neutral_500_pdb', mode='w') as f:\n",
    "    for pdb in neutral:\n",
    "        f.write(pdb + '\\n')"
   ]
  },
  {
   "cell_type": "code",
   "execution_count": 8,
   "metadata": {},
   "outputs": [],
   "source": [
    "with open('../../../data/train_list', mode='r') as f:\n",
    "    train_pdb_list = f.read().splitlines()\n",
    "with open('../../../data/val_list', mode='r') as f:\n",
    "    val_pdb_list = f.read().splitlines()\n",
    "train_pdb_set = set(train_pdb_list)\n",
    "val_pdb_set = set(val_pdb_list)"
   ]
  },
  {
   "cell_type": "code",
   "execution_count": 8,
   "metadata": {},
   "outputs": [],
   "source": [
    "with open('../../../data/test_list', mode='r') as f:\n",
    "    test_pdb_list = f.read().splitlines()\n",
    "test_pdb_set = set(test_pdb_list)\n"
   ]
  },
  {
   "cell_type": "code",
   "execution_count": 9,
   "metadata": {},
   "outputs": [],
   "source": [
    "hydrophobic_set = set(hydrophobic)\n",
    "hydrophilic_set = set(hydrophilic)\n",
    "# neutral_set = set(neutral)"
   ]
  },
  {
   "cell_type": "code",
   "execution_count": 10,
   "metadata": {},
   "outputs": [],
   "source": [
    "test_hydrophobic = list(((train_pdb_set | val_pdb_set) & hydrophobic_set))\n",
    "test_hydrophilic = list(((train_pdb_set | val_pdb_set) & hydrophilic_set))\n",
    "# test_neutral = list(((train_pdb_set | val_pdb_set) & neutral_set))"
   ]
  },
  {
   "cell_type": "code",
   "execution_count": 10,
   "metadata": {},
   "outputs": [],
   "source": [
    "test_hydrophobic = list((test_pdb_set & hydrophobic_set))\n",
    "test_hydrophilic = list((test_pdb_set & hydrophilic_set))"
   ]
  },
  {
   "cell_type": "code",
   "execution_count": 11,
   "metadata": {},
   "outputs": [],
   "source": [
    "with open('../../../data/test_ave_SASA_large_9_pdb', mode='w') as f:\n",
    "    for pdb in test_hydrophobic:\n",
    "        f.write(pdb + '\\n')"
   ]
  },
  {
   "cell_type": "code",
   "execution_count": 12,
   "metadata": {},
   "outputs": [],
   "source": [
    "with open('../../../data/test_ave_SASA_small_9_pdb', mode='w') as f:\n",
    "    for pdb in test_hydrophilic:\n",
    "        f.write(pdb + '\\n')"
   ]
  },
  {
   "cell_type": "code",
   "execution_count": 98,
   "metadata": {},
   "outputs": [],
   "source": [
    "with open('../../data/test_neutral_500_pdb', mode='w') as f:\n",
    "    for pdb in test_neutral:\n",
    "        f.write(pdb + '\\n')"
   ]
  },
  {
   "cell_type": "code",
   "execution_count": null,
   "metadata": {},
   "outputs": [],
   "source": []
  }
 ],
 "metadata": {
  "kernelspec": {
   "display_name": "yuki_research",
   "language": "python",
   "name": "python3"
  },
  "language_info": {
   "codemirror_mode": {
    "name": "ipython",
    "version": 3
   },
   "file_extension": ".py",
   "mimetype": "text/x-python",
   "name": "python",
   "nbconvert_exporter": "python",
   "pygments_lexer": "ipython3",
   "version": "3.11.9"
  }
 },
 "nbformat": 4,
 "nbformat_minor": 2
}
