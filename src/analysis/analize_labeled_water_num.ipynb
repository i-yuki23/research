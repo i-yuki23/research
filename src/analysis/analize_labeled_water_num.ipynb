{
 "cells": [
  {
   "cell_type": "markdown",
   "metadata": {},
   "source": [
    "### 分類した水分子を表にする"
   ]
  },
  {
   "cell_type": "code",
   "execution_count": 1,
   "metadata": {},
   "outputs": [],
   "source": [
    "import sys \n",
    "sys.path.append('..')"
   ]
  },
  {
   "cell_type": "code",
   "execution_count": 2,
   "metadata": {},
   "outputs": [],
   "source": [
    "import numpy as np\n",
    "import os\n",
    "import pandas as pd\n",
    "from lib.plot import plot_histogram\n",
    "import matplotlib.pyplot as plt\n",
    "from lib.path import get_analysis_results_labeled_water_path"
   ]
  },
  {
   "cell_type": "code",
   "execution_count": 3,
   "metadata": {},
   "outputs": [],
   "source": [
    "DATA_INFO_START = 7\n",
    "DATA_INFO_END = 10"
   ]
  },
  {
   "cell_type": "code",
   "execution_count": 4,
   "metadata": {},
   "outputs": [],
   "source": [
    "def get_df_info(labeled_water_num_path):\n",
    "    df = pd.read_csv(labeled_water_num_path)\n",
    "    \n",
    "    total_displaceable = df['displaceable_water_num'].sum()\n",
    "    total_non_displaceable = df['non_displaceable_water_num'].sum()\n",
    "    total_water_num = total_displaceable + total_non_displaceable\n",
    "\n",
    "    summary_stats = df.describe()\n",
    "    dis_mean = summary_stats['displaceable_water_num']['mean']\n",
    "    dis_std = summary_stats['displaceable_water_num']['std']\n",
    "\n",
    "    non_dis_mean = summary_stats['non_displaceable_water_num']['mean']\n",
    "    non_dis_std = summary_stats['non_displaceable_water_num']['std']\n",
    "\n",
    "    path_info = labeled_water_num_path.split(\"/\")\n",
    "\n",
    "    return df, path_info[DATA_INFO_START:DATA_INFO_END], int(total_water_num), f\"dis: {int(total_displaceable)} ({dis_mean:.2f}±{dis_std:.2f})\", f\"non: {int(total_non_displaceable)} ({non_dis_mean:.2f}±{non_dis_std:.2f})\""
   ]
  },
  {
   "cell_type": "code",
   "execution_count": 5,
   "metadata": {},
   "outputs": [],
   "source": [
    "ligand_voxel_nums = [10, 9, 8, 6, 4]\n",
    "classifying_rule_names = [\"WaterClassifyingRuleCenter\", \"WaterClassifyingRuleSurface\"]\n",
    "ligand_pocket_definer_names = [\"LigandPocketDefinerGhecom\", \"LigandPocketDefinerOriginal\"]"
   ]
  },
  {
   "cell_type": "code",
   "execution_count": 55,
   "metadata": {},
   "outputs": [],
   "source": [
    "ligand_voxel_num = ligand_voxel_nums[4]\n",
    "classifying_rule = classifying_rule_names[0]\n",
    "ligand_pocket_definer = ligand_pocket_definer_names[0]\n",
    "\n",
    "labeled_water_num_path = get_analysis_results_labeled_water_path(ligand_voxel_num, classifying_rule, ligand_pocket_definer)\n",
    "df_info = get_df_info(labeled_water_num_path)"
   ]
  },
  {
   "cell_type": "code",
   "execution_count": 56,
   "metadata": {},
   "outputs": [
    {
     "data": {
      "text/plain": [
       "(['LigandPocketDefinerGhecom',\n",
       "  'ligand_pocket_voxel_num_4',\n",
       "  'WaterClassifyingRuleCenter'],\n",
       " 25315,\n",
       " 'dis: 16288 (5.99±3.19)',\n",
       " 'non: 9027 (3.32±2.54)')"
      ]
     },
     "execution_count": 56,
     "metadata": {},
     "output_type": "execute_result"
    }
   ],
   "source": [
    "df_info[1:]"
   ]
  },
  {
   "cell_type": "code",
   "execution_count": 8,
   "metadata": {},
   "outputs": [],
   "source": [
    "df = df_info[0]"
   ]
  },
  {
   "cell_type": "code",
   "execution_count": 9,
   "metadata": {},
   "outputs": [
    {
     "data": {
      "text/html": [
       "<div>\n",
       "<style scoped>\n",
       "    .dataframe tbody tr th:only-of-type {\n",
       "        vertical-align: middle;\n",
       "    }\n",
       "\n",
       "    .dataframe tbody tr th {\n",
       "        vertical-align: top;\n",
       "    }\n",
       "\n",
       "    .dataframe thead th {\n",
       "        text-align: right;\n",
       "    }\n",
       "</style>\n",
       "<table border=\"1\" class=\"dataframe\">\n",
       "  <thead>\n",
       "    <tr style=\"text-align: right;\">\n",
       "      <th></th>\n",
       "      <th>pdb_name</th>\n",
       "      <th>displaceable_water_num</th>\n",
       "      <th>non_displaceable_water_num</th>\n",
       "    </tr>\n",
       "  </thead>\n",
       "  <tbody>\n",
       "    <tr>\n",
       "      <th>0</th>\n",
       "      <td>1qan</td>\n",
       "      <td>8.0</td>\n",
       "      <td>35.0</td>\n",
       "    </tr>\n",
       "    <tr>\n",
       "      <th>1</th>\n",
       "      <td>2oxd</td>\n",
       "      <td>6.0</td>\n",
       "      <td>25.0</td>\n",
       "    </tr>\n",
       "    <tr>\n",
       "      <th>2</th>\n",
       "      <td>3t0b</td>\n",
       "      <td>5.0</td>\n",
       "      <td>21.0</td>\n",
       "    </tr>\n",
       "    <tr>\n",
       "      <th>3</th>\n",
       "      <td>4sga</td>\n",
       "      <td>8.0</td>\n",
       "      <td>34.0</td>\n",
       "    </tr>\n",
       "    <tr>\n",
       "      <th>4</th>\n",
       "      <td>10gs</td>\n",
       "      <td>11.0</td>\n",
       "      <td>49.0</td>\n",
       "    </tr>\n",
       "    <tr>\n",
       "      <th>...</th>\n",
       "      <td>...</td>\n",
       "      <td>...</td>\n",
       "      <td>...</td>\n",
       "    </tr>\n",
       "    <tr>\n",
       "      <th>2714</th>\n",
       "      <td>5dey</td>\n",
       "      <td>9.0</td>\n",
       "      <td>43.0</td>\n",
       "    </tr>\n",
       "    <tr>\n",
       "      <th>2715</th>\n",
       "      <td>5dhu</td>\n",
       "      <td>4.0</td>\n",
       "      <td>14.0</td>\n",
       "    </tr>\n",
       "    <tr>\n",
       "      <th>2716</th>\n",
       "      <td>5dit</td>\n",
       "      <td>17.0</td>\n",
       "      <td>46.0</td>\n",
       "    </tr>\n",
       "    <tr>\n",
       "      <th>2717</th>\n",
       "      <td>5dlx</td>\n",
       "      <td>8.0</td>\n",
       "      <td>42.0</td>\n",
       "    </tr>\n",
       "    <tr>\n",
       "      <th>2718</th>\n",
       "      <td>5dq8</td>\n",
       "      <td>3.0</td>\n",
       "      <td>9.0</td>\n",
       "    </tr>\n",
       "  </tbody>\n",
       "</table>\n",
       "<p>2719 rows × 3 columns</p>\n",
       "</div>"
      ],
      "text/plain": [
       "     pdb_name  displaceable_water_num  non_displaceable_water_num\n",
       "0        1qan                     8.0                        35.0\n",
       "1        2oxd                     6.0                        25.0\n",
       "2        3t0b                     5.0                        21.0\n",
       "3        4sga                     8.0                        34.0\n",
       "4        10gs                    11.0                        49.0\n",
       "...       ...                     ...                         ...\n",
       "2714     5dey                     9.0                        43.0\n",
       "2715     5dhu                     4.0                        14.0\n",
       "2716     5dit                    17.0                        46.0\n",
       "2717     5dlx                     8.0                        42.0\n",
       "2718     5dq8                     3.0                         9.0\n",
       "\n",
       "[2719 rows x 3 columns]"
      ]
     },
     "execution_count": 9,
     "metadata": {},
     "output_type": "execute_result"
    }
   ],
   "source": [
    "df"
   ]
  },
  {
   "cell_type": "markdown",
   "metadata": {},
   "source": [
    "### dis, nonの水分子のpdbをゲット→たんぱく質ごとに数を数える→個数が違うやつを見つける"
   ]
  },
  {
   "cell_type": "code",
   "execution_count": 10,
   "metadata": {},
   "outputs": [],
   "source": [
    "labeled_water_num_path_center = get_analysis_results_labeled_water_path(ligand_voxel_nums[0], classifying_rule_names[0], ligand_pocket_definer_names[1])\n",
    "df_info_center = get_df_info(labeled_water_num_path_center)\n",
    "\n",
    "center_total_water_nums = {}\n",
    "for row in df_info_center[0].iterrows():\n",
    "    total_water_num_in_protein = row[1]['displaceable_water_num'] + row[1]['non_displaceable_water_num']\n",
    "    center_total_water_nums[row[1]['pdb_name']] = total_water_num_in_protein\n"
   ]
  },
  {
   "cell_type": "code",
   "execution_count": 11,
   "metadata": {},
   "outputs": [],
   "source": [
    "labeled_water_num_path_surface = get_analysis_results_labeled_water_path(ligand_voxel_nums[0], classifying_rule_names[1], ligand_pocket_definer_names[1])\n",
    "df_info_surface = get_df_info(labeled_water_num_path_surface)\n",
    "\n",
    "surface_total_water_nums = {}\n",
    "for row in df_info_surface[0].iterrows():\n",
    "    total_water_num_in_protein = row[1]['displaceable_water_num'] + row[1]['non_displaceable_water_num']\n",
    "    surface_total_water_nums[row[1]['pdb_name']] = total_water_num_in_protein"
   ]
  },
  {
   "cell_type": "code",
   "execution_count": 12,
   "metadata": {},
   "outputs": [
    {
     "data": {
      "text/plain": [
       "104483.0"
      ]
     },
     "execution_count": 12,
     "metadata": {},
     "output_type": "execute_result"
    }
   ],
   "source": [
    "sum(center_total_water_nums.values())"
   ]
  },
  {
   "cell_type": "code",
   "execution_count": 13,
   "metadata": {},
   "outputs": [
    {
     "data": {
      "text/plain": [
       "104483.0"
      ]
     },
     "execution_count": 13,
     "metadata": {},
     "output_type": "execute_result"
    }
   ],
   "source": [
    "sum(surface_total_water_nums.values())"
   ]
  },
  {
   "cell_type": "code",
   "execution_count": 14,
   "metadata": {},
   "outputs": [],
   "source": [
    "for center_total_water_num, surface_total_water_num in zip(center_total_water_nums.items(), surface_total_water_nums.items()):\n",
    "    if center_total_water_num[1] != surface_total_water_num[1]:\n",
    "        print(center_total_water_num[0])\n",
    "        print(center_total_water_num[1], surface_total_water_num[1])\n",
    "        # if center_total_water_num.values() != surface_total_water_num.values():\n",
    "        #     print(f\"{center_total_water_num}\")\n"
   ]
  },
  {
   "cell_type": "code",
   "execution_count": null,
   "metadata": {},
   "outputs": [],
   "source": []
  }
 ],
 "metadata": {
  "kernelspec": {
   "display_name": "yuki_research",
   "language": "python",
   "name": "python3"
  },
  "language_info": {
   "codemirror_mode": {
    "name": "ipython",
    "version": 3
   },
   "file_extension": ".py",
   "mimetype": "text/x-python",
   "name": "python",
   "nbconvert_exporter": "python",
   "pygments_lexer": "ipython3",
   "version": "3.10.13"
  }
 },
 "nbformat": 4,
 "nbformat_minor": 2
}
