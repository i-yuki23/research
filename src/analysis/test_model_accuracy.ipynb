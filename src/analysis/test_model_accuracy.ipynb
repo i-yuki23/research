{
 "cells": [
  {
   "cell_type": "code",
   "execution_count": 16,
   "metadata": {},
   "outputs": [],
   "source": [
    "import sys\n",
    "import os\n",
    "sys.path.append('..')\n",
    "from lib.path import get_training_data_dir, get_predicted_labeled_water_path, get_displaceable_water_path, get_non_displaceable_water_path\n",
    "from lib.pdb import filter_atoms_and_create_new_pdb\n",
    "from data_loader.SingleDataLoader import SingleDataLoader\n",
    "from data_loader.DoubleDataLoader import DoubleDataLoader\n",
    "from models.LeNet import LeNet\n",
    "from models.ResNet import ResNet, ResNet1\n",
    "from lib.helper import get_latest_checkpoint\n",
    "from tensorflow.keras.losses import BinaryCrossentropy\n",
    "from custom_losses.dice import dice_loss, dice_coefficient\n",
    "from tensorflow.keras.metrics import Recall, Precision, Accuracy, SpecificityAtSensitivity, AUC, F1Score\n",
    "from sklearn.metrics import confusion_matrix\n",
    "\n",
    "\n",
    "import numpy as np"
   ]
  },
  {
   "cell_type": "code",
   "execution_count": 2,
   "metadata": {},
   "outputs": [
    {
     "name": "stdout",
     "output_type": "stream",
     "text": [
      "Error processing 2bys: No data found for 2bys\n",
      "Error processing 2jke: No data found for 2jke\n",
      "Error processing 2jkp: No data found for 2jkp\n",
      "Error processing 2xp7: No data found for 2xp7\n",
      "Error processing 2zq0: No data found for 2zq0\n",
      "Error processing 3i4b: No data found for 3i4b\n",
      "Error processing 4jn2: No data found for 4jn2\n",
      "Error processing 4l50: No data found for 4l50\n",
      "Error processing 4l51: No data found for 4l51\n",
      "Error processing 4n9c: No data found for 4n9c\n",
      "Error processing 4r0a: No data found for 4r0a\n",
      "Error processing 4u0f: No data found for 4u0f\n",
      "Error processing 5fsx: No data found for 5fsx\n",
      "Error processing 5fsy: No data found for 5fsy\n",
      "Error processing 2bys: No data found for 2bys\n",
      "Error processing 2jke: No data found for 2jke\n",
      "Error processing 2jkp: No data found for 2jkp\n",
      "Error processing 2xp7: No data found for 2xp7\n",
      "Error processing 2zq0: No data found for 2zq0\n",
      "Error processing 3i4b: No data found for 3i4b\n",
      "Error processing 4jn2: No data found for 4jn2\n",
      "Error processing 4l50: No data found for 4l50\n",
      "Error processing 4l51: No data found for 4l51\n",
      "Error processing 4n9c: No data found for 4n9c\n",
      "Error processing 4r0a: No data found for 4r0a\n",
      "Error processing 4u0f: No data found for 4u0f\n",
      "Error processing 5fsx: No data found for 5fsx\n",
      "Error processing 5fsy: No data found for 5fsy\n"
     ]
    },
    {
     "name": "stderr",
     "output_type": "stream",
     "text": [
      "2024-06-16 10:53:43.629554: W tensorflow/core/common_runtime/gpu/gpu_device.cc:2256] Cannot dlopen some GPU libraries. Please make sure the missing libraries mentioned above are installed properly if you would like to use GPU. Follow the guide at https://www.tensorflow.org/install/gpu for how to download and setup the required libraries for your platform.\n",
      "Skipping registering GPU devices...\n"
     ]
    }
   ],
   "source": [
    "DATA_TYPE1 = 'Protein'\n",
    "# DATA_TYPE2 = 'Protein'\n",
    "DATA_VOXEL_NUM = 10\n",
    "CLASSIFYING_RULE = 'WaterClassifyingRuleSurface'\n",
    "LIGAND_POCKET_DEFINER = 'LigandPocketDefinerOriginal'\n",
    "LIGAND_VOXEL_NUM = 8\n",
    "MODEL_NAME = 'ResNet1'\n",
    "TRAINER_NAME = 'aug_train_90'\n",
    "training_data_dir1 = get_training_data_dir(DATA_TYPE1, DATA_VOXEL_NUM, CLASSIFYING_RULE, LIGAND_POCKET_DEFINER, LIGAND_VOXEL_NUM)\n",
    "# training_data_dir2 = get_training_data_dir(DATA_TYPE2, DATA_VOXEL_NUM, CLASSIFYING_RULE, LIGAND_POCKET_DEFINER, LIGAND_VOXEL_NUM)\n",
    "\n",
    "data_dir = '../../data'\n",
    "test_list = os.path.join(data_dir, 'test_list')\n",
    "data_loader = SingleDataLoader(training_data_dir1)\n",
    "# data_loader = DoubleDataLoader(training_data_dir1, training_data_dir2)\n",
    "test_data, test_data_label = data_loader.load_data(test_list)"
   ]
  },
  {
   "cell_type": "code",
   "execution_count": 3,
   "metadata": {},
   "outputs": [],
   "source": [
    "input_shape = (DATA_VOXEL_NUM*2+1, DATA_VOXEL_NUM*2+1, DATA_VOXEL_NUM*2+1, test_data.shape[-1])\n",
    "n_base = 8\n",
    "learning_rate = 1e-4\n",
    "metrics = ['accuracy', dice_coefficient, Recall(), Precision()]\n",
    "BN = True"
   ]
  },
  {
   "cell_type": "code",
   "execution_count": 4,
   "metadata": {},
   "outputs": [
    {
     "name": "stdout",
     "output_type": "stream",
     "text": [
      "Model: \"model\"\n",
      "__________________________________________________________________________________________________\n",
      " Layer (type)                Output Shape                 Param #   Connected to                  \n",
      "==================================================================================================\n",
      " input_1 (InputLayer)        [(None, 21, 21, 21, 5)]      0         []                            \n",
      "                                                                                                  \n",
      " conv3d (Conv3D)             (None, 21, 21, 21, 8)        1088      ['input_1[0][0]']             \n",
      "                                                                                                  \n",
      " batch_normalization (Batch  (None, 21, 21, 21, 8)        32        ['conv3d[0][0]']              \n",
      " Normalization)                                                                                   \n",
      "                                                                                                  \n",
      " activation (Activation)     (None, 21, 21, 21, 8)        0         ['batch_normalization[0][0]'] \n",
      "                                                                                                  \n",
      " max_pooling3d (MaxPooling3  (None, 10, 10, 10, 8)        0         ['activation[0][0]']          \n",
      " D)                                                                                               \n",
      "                                                                                                  \n",
      " conv3d_1 (Conv3D)           (None, 10, 10, 10, 8)        1736      ['max_pooling3d[0][0]']       \n",
      "                                                                                                  \n",
      " batch_normalization_1 (Bat  (None, 10, 10, 10, 8)        32        ['conv3d_1[0][0]']            \n",
      " chNormalization)                                                                                 \n",
      "                                                                                                  \n",
      " activation_1 (Activation)   (None, 10, 10, 10, 8)        0         ['batch_normalization_1[0][0]'\n",
      "                                                                    ]                             \n",
      "                                                                                                  \n",
      " conv3d_2 (Conv3D)           (None, 10, 10, 10, 8)        1736      ['activation_1[0][0]']        \n",
      "                                                                                                  \n",
      " batch_normalization_2 (Bat  (None, 10, 10, 10, 8)        32        ['conv3d_2[0][0]']            \n",
      " chNormalization)                                                                                 \n",
      "                                                                                                  \n",
      " add (Add)                   (None, 10, 10, 10, 8)        0         ['batch_normalization_2[0][0]'\n",
      "                                                                    , 'max_pooling3d[0][0]']      \n",
      "                                                                                                  \n",
      " activation_2 (Activation)   (None, 10, 10, 10, 8)        0         ['add[0][0]']                 \n",
      "                                                                                                  \n",
      " conv3d_3 (Conv3D)           (None, 10, 10, 10, 16)       3472      ['activation_2[0][0]']        \n",
      "                                                                                                  \n",
      " batch_normalization_3 (Bat  (None, 10, 10, 10, 16)       64        ['conv3d_3[0][0]']            \n",
      " chNormalization)                                                                                 \n",
      "                                                                                                  \n",
      " activation_3 (Activation)   (None, 10, 10, 10, 16)       0         ['batch_normalization_3[0][0]'\n",
      "                                                                    ]                             \n",
      "                                                                                                  \n",
      " conv3d_4 (Conv3D)           (None, 10, 10, 10, 16)       6928      ['activation_3[0][0]']        \n",
      "                                                                                                  \n",
      " conv3d_5 (Conv3D)           (None, 10, 10, 10, 16)       144       ['activation_2[0][0]']        \n",
      "                                                                                                  \n",
      " batch_normalization_4 (Bat  (None, 10, 10, 10, 16)       64        ['conv3d_4[0][0]']            \n",
      " chNormalization)                                                                                 \n",
      "                                                                                                  \n",
      " batch_normalization_5 (Bat  (None, 10, 10, 10, 16)       64        ['conv3d_5[0][0]']            \n",
      " chNormalization)                                                                                 \n",
      "                                                                                                  \n",
      " add_1 (Add)                 (None, 10, 10, 10, 16)       0         ['batch_normalization_4[0][0]'\n",
      "                                                                    , 'batch_normalization_5[0][0]\n",
      "                                                                    ']                            \n",
      "                                                                                                  \n",
      " activation_4 (Activation)   (None, 10, 10, 10, 16)       0         ['add_1[0][0]']               \n",
      "                                                                                                  \n",
      " max_pooling3d_1 (MaxPoolin  (None, 5, 5, 5, 16)          0         ['activation_4[0][0]']        \n",
      " g3D)                                                                                             \n",
      "                                                                                                  \n",
      " conv3d_6 (Conv3D)           (None, 5, 5, 5, 32)          13856     ['max_pooling3d_1[0][0]']     \n",
      "                                                                                                  \n",
      " batch_normalization_6 (Bat  (None, 5, 5, 5, 32)          128       ['conv3d_6[0][0]']            \n",
      " chNormalization)                                                                                 \n",
      "                                                                                                  \n",
      " activation_5 (Activation)   (None, 5, 5, 5, 32)          0         ['batch_normalization_6[0][0]'\n",
      "                                                                    ]                             \n",
      "                                                                                                  \n",
      " conv3d_7 (Conv3D)           (None, 5, 5, 5, 32)          27680     ['activation_5[0][0]']        \n",
      "                                                                                                  \n",
      " conv3d_8 (Conv3D)           (None, 5, 5, 5, 32)          544       ['max_pooling3d_1[0][0]']     \n",
      "                                                                                                  \n",
      " batch_normalization_7 (Bat  (None, 5, 5, 5, 32)          128       ['conv3d_7[0][0]']            \n",
      " chNormalization)                                                                                 \n",
      "                                                                                                  \n",
      " batch_normalization_8 (Bat  (None, 5, 5, 5, 32)          128       ['conv3d_8[0][0]']            \n",
      " chNormalization)                                                                                 \n",
      "                                                                                                  \n",
      " add_2 (Add)                 (None, 5, 5, 5, 32)          0         ['batch_normalization_7[0][0]'\n",
      "                                                                    , 'batch_normalization_8[0][0]\n",
      "                                                                    ']                            \n",
      "                                                                                                  \n",
      " activation_6 (Activation)   (None, 5, 5, 5, 32)          0         ['add_2[0][0]']               \n",
      "                                                                                                  \n",
      " max_pooling3d_2 (MaxPoolin  (None, 2, 2, 2, 32)          0         ['activation_6[0][0]']        \n",
      " g3D)                                                                                             \n",
      "                                                                                                  \n",
      " global_average_pooling3d (  (None, 32)                   0         ['max_pooling3d_2[0][0]']     \n",
      " GlobalAveragePooling3D)                                                                          \n",
      "                                                                                                  \n",
      " dense (Dense)               (None, 32)                   1056      ['global_average_pooling3d[0][\n",
      "                                                                    0]']                          \n",
      "                                                                                                  \n",
      " dropout (Dropout)           (None, 32)                   0         ['dense[0][0]']               \n",
      "                                                                                                  \n",
      " dense_1 (Dense)             (None, 1)                    33        ['dropout[0][0]']             \n",
      "                                                                                                  \n",
      "==================================================================================================\n",
      "Total params: 58945 (230.25 KB)\n",
      "Trainable params: 58609 (228.94 KB)\n",
      "Non-trainable params: 336 (1.31 KB)\n",
      "__________________________________________________________________________________________________\n"
     ]
    },
    {
     "name": "stderr",
     "output_type": "stream",
     "text": [
      "WARNING:absl:Skipping variable loading for optimizer 'AdamW', because it has 1 variables whereas the saved optimizer has 81 variables. \n"
     ]
    }
   ],
   "source": [
    "checkpoint_dir = f'../checkpoints/{DATA_TYPE1}/data_voxel_num_{DATA_VOXEL_NUM}/{LIGAND_POCKET_DEFINER}/ligand_pocket_voxel_num_{LIGAND_VOXEL_NUM}/{CLASSIFYING_RULE}/{MODEL_NAME}/{TRAINER_NAME}/'\n",
    "# checkpoint_dir = f'../checkpoints/{DATA_TYPE1}_{DATA_TYPE2}/data_voxel_num_{DATA_VOXEL_NUM}/{LIGAND_POCKET_DEFINER}/ligand_pocket_voxel_num_{LIGAND_VOXEL_NUM}/{CLASSIFYING_RULE}/{MODEL_NAME}/{TRAINER_NAME}/'\n",
    "latest_checkpoint = get_latest_checkpoint(checkpoint_dir)\n",
    "model = ResNet1(n_base, input_shape, learning_rate, BinaryCrossentropy(), metrics, BN=BN)\n",
    "model.load_weights(latest_checkpoint)\n"
   ]
  },
  {
   "cell_type": "code",
   "execution_count": 5,
   "metadata": {},
   "outputs": [
    {
     "name": "stdout",
     "output_type": "stream",
     "text": [
      "423/423 [==============================] - 3s 6ms/step\n"
     ]
    }
   ],
   "source": [
    "prediction = model.predict(test_data)\n",
    "prediction_values = prediction.reshape(prediction.shape[0])\n",
    "predicted_label = prediction.round()\n"
   ]
  },
  {
   "cell_type": "code",
   "execution_count": 19,
   "metadata": {},
   "outputs": [
    {
     "name": "stdout",
     "output_type": "stream",
     "text": [
      "Confusion Matrix:\n",
      "[[4981 1516]\n",
      " [2090 4923]]\n",
      "True Negative (TN): 4981\n",
      "False Positive (FP): 1516\n",
      "False Negative (FN): 2090\n",
      "True Positive (TP): 4923\n",
      "0.7044265309008627\n"
     ]
    }
   ],
   "source": [
    "cm = confusion_matrix(test_data_label, predicted_label)\n",
    "\n",
    "# 混同行列の要素を取り出す\n",
    "tn, fp, fn, tp = cm.ravel()\n",
    "\n",
    "# 結果を表示\n",
    "print(\"Confusion Matrix:\")\n",
    "print(cm)\n",
    "print(f\"True Negative (TN): {tn}\")\n",
    "print(f\"False Positive (FP): {fp}\")\n",
    "print(f\"False Negative (FN): {fn}\")\n",
    "print(f\"True Positive (TP): {tp}\")\n",
    "negative_precision = tn / (tn + fn)\n",
    "print(negative_precision)"
   ]
  },
  {
   "cell_type": "code",
   "execution_count": 6,
   "metadata": {},
   "outputs": [],
   "source": [
    "recall = Recall()\n",
    "recall.update_state(test_data_label, predicted_label)\n",
    "recall_value = recall.result().numpy()\n",
    "\n",
    "precision = Precision()\n",
    "precision.update_state(test_data_label, predicted_label)\n",
    "precision_value = precision.result().numpy()\n",
    "\n",
    "accuracy = Accuracy()\n",
    "accuracy.update_state(test_data_label, predicted_label)\n",
    "accuracy_value = accuracy.result().numpy()\n",
    "\n",
    "specificity = SpecificityAtSensitivity(recall_value)\n",
    "specificity.update_state(test_data_label, predicted_label)\n",
    "specificity_value = specificity.result().numpy()\n",
    "\n",
    "auc = AUC()\n",
    "auc.update_state(test_data_label, prediction_values)\n",
    "auc_value = auc.result().numpy()\n"
   ]
  },
  {
   "cell_type": "code",
   "execution_count": 7,
   "metadata": {},
   "outputs": [
    {
     "name": "stdout",
     "output_type": "stream",
     "text": [
      "{'recall': 0.701982, 'precision': 0.7645597, 'accuracy': 0.7330866, 'specificity': 0.7666615, 'dice_coefficient': 0.7319557, 'auc': 0.8041111}\n"
     ]
    }
   ],
   "source": [
    "print({\"recall\": recall_value, \"precision\": precision_value, \"accuracy\": accuracy_value, \"specificity\": specificity_value, \"dice_coefficient\": dice_coefficient(test_data_label, predicted_label).numpy(), \"auc\": auc_value})"
   ]
  },
  {
   "cell_type": "code",
   "execution_count": 8,
   "metadata": {},
   "outputs": [],
   "source": [
    "from sklearn.metrics import roc_curve\n",
    "import matplotlib.pyplot as plt\n",
    "fpr, tpr, thresholds = roc_curve(test_data_label, prediction_values)"
   ]
  },
  {
   "cell_type": "code",
   "execution_count": 9,
   "metadata": {},
   "outputs": [
    {
     "data": {
      "text/plain": [
       "0.52051145"
      ]
     },
     "execution_count": 9,
     "metadata": {},
     "output_type": "execute_result"
    }
   ],
   "source": [
    "J = tpr - fpr\n",
    "optimal_idx = np.argmax(J)\n",
    "optimal_threshold_youden = thresholds[optimal_idx]\n",
    "optimal_threshold_youden"
   ]
  },
  {
   "cell_type": "code",
   "execution_count": 10,
   "metadata": {},
   "outputs": [
    {
     "data": {
      "image/png": "[encoded data removed]",
      "text/plain": [
       "<Figure size 640x480 with 1 Axes>"
      ]
     },
     "metadata": {},
     "output_type": "display_data"
    }
   ],
   "source": [
    "plt.figure(1)\n",
    "plt.plot([0, 1], [0, 1], 'k--')\n",
    "plt.plot(fpr[optimal_idx], tpr[optimal_idx], 'ro', label='Optimal Threshold')\n",
    "plt.plot(fpr, tpr)\n",
    "plt.xlabel('False positive rate')\n",
    "plt.ylabel('True positive rate')\n",
    "plt.title('ROC curve')\n",
    "plt.legend(loc='best')\n",
    "plt.show()"
   ]
  },
  {
   "cell_type": "code",
   "execution_count": 11,
   "metadata": {},
   "outputs": [],
   "source": [
    "def custom_threshold(prediction, threshold):\n",
    "    return (prediction > threshold).astype(int)\n",
    "optimal_predicted_label = custom_threshold(prediction_values, optimal_threshold_youden)"
   ]
  },
  {
   "cell_type": "code",
   "execution_count": 12,
   "metadata": {},
   "outputs": [],
   "source": [
    "recall = Recall()\n",
    "recall.update_state(test_data_label, optimal_predicted_label)\n",
    "optimal_recall_value = recall.result().numpy()\n",
    "\n",
    "precision = Precision()\n",
    "precision.update_state(test_data_label, optimal_predicted_label)\n",
    "optimal_precision_value = precision.result().numpy()\n",
    "\n",
    "accuracy = Accuracy()\n",
    "accuracy.update_state(test_data_label, optimal_predicted_label)\n",
    "optimal_accuracy_value = accuracy.result().numpy()\n",
    "\n",
    "specificity = SpecificityAtSensitivity(optimal_recall_value)\n",
    "specificity.update_state(test_data_label, optimal_predicted_label)\n",
    "optimal_specificity_value = specificity.result().numpy()\n",
    "\n",
    "auc = AUC()\n",
    "auc.update_state(test_data_label, prediction_values)\n",
    "auc_value = auc.result().numpy()\n"
   ]
  },
  {
   "cell_type": "code",
   "execution_count": 20,
   "metadata": {},
   "outputs": [
    {
     "name": "stdout",
     "output_type": "stream",
     "text": [
      "Confusion Matrix:\n",
      "[[5184 1313]\n",
      " [2290 4723]]\n",
      "True Negative (TN): 5184\n",
      "False Positive (FP): 1313\n",
      "False Negative (FN): 2290\n",
      "True Positive (TP): 4723\n",
      "0.6936044955846936\n"
     ]
    }
   ],
   "source": [
    "cm = confusion_matrix(test_data_label, optimal_predicted_label)\n",
    "\n",
    "# 混同行列の要素を取り出す\n",
    "tn, fp, fn, tp = cm.ravel()\n",
    "\n",
    "# 結果を表示\n",
    "print(\"Confusion Matrix:\")\n",
    "print(cm)\n",
    "print(f\"True Negative (TN): {tn}\")\n",
    "print(f\"False Positive (FP): {fp}\")\n",
    "print(f\"False Negative (FN): {fn}\")\n",
    "print(f\"True Positive (TP): {tp}\")\n",
    "negative_precision = tn / (tn + fn)\n",
    "print(negative_precision)"
   ]
  },
  {
   "cell_type": "code",
   "execution_count": 13,
   "metadata": {},
   "outputs": [
    {
     "name": "stdout",
     "output_type": "stream",
     "text": [
      "{'recall': 0.6734636, 'precision': 0.78247184, 'accuracy': 0.7333087, 'specificity': 0.7979067, 'dice_coefficient': 0.72390807, 'auc': 0.8041111}\n"
     ]
    }
   ],
   "source": [
    "print({\"recall\": optimal_recall_value, \"precision\": optimal_precision_value, \"accuracy\": optimal_accuracy_value, \"specificity\": optimal_specificity_value, \"dice_coefficient\": dice_coefficient(test_data_label, optimal_predicted_label).numpy(), \"auc\": auc_value})"
   ]
  },
  {
   "cell_type": "markdown",
   "metadata": {},
   "source": []
  },
  {
   "cell_type": "code",
   "execution_count": null,
   "metadata": {},
   "outputs": [],
   "source": []
  }
 ],
 "metadata": {
  "kernelspec": {
   "display_name": "yuki_research",
   "language": "python",
   "name": "python3"
  },
  "language_info": {
   "codemirror_mode": {
    "name": "ipython",
    "version": 3
   },
   "file_extension": ".py",
   "mimetype": "text/x-python",
   "name": "python",
   "nbconvert_exporter": "python",
   "pygments_lexer": "ipython3",
   "version": "3.10.13"
  }
 },
 "nbformat": 4,
 "nbformat_minor": 2
}
