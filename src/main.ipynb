{
 "cells": [
  {
   "cell_type": "code",
   "execution_count": 1,
   "metadata": {},
   "outputs": [
    {
     "ename": "ModuleNotFoundError",
     "evalue": "No module named 'numpy'",
     "output_type": "error",
     "traceback": [
      "\u001b[0;31m---------------------------------------------------------------------------\u001b[0m",
      "\u001b[0;31mModuleNotFoundError\u001b[0m                       Traceback (most recent call last)",
      "Cell \u001b[0;32mIn[1], line 2\u001b[0m\n\u001b[1;32m      1\u001b[0m \u001b[38;5;28;01mimport\u001b[39;00m \u001b[38;5;21;01mos\u001b[39;00m\n\u001b[0;32m----> 2\u001b[0m \u001b[38;5;28;01mfrom\u001b[39;00m \u001b[38;5;21;01mdata_loader\u001b[39;00m\u001b[38;5;21;01m.\u001b[39;00m\u001b[38;5;21;01mSingleDataLoader\u001b[39;00m \u001b[38;5;28;01mimport\u001b[39;00m SingleDataLoader\n\u001b[1;32m      3\u001b[0m \u001b[38;5;28;01mfrom\u001b[39;00m \u001b[38;5;21;01mdata_loader\u001b[39;00m\u001b[38;5;21;01m.\u001b[39;00m\u001b[38;5;21;01mDoubleDataLoader\u001b[39;00m \u001b[38;5;28;01mimport\u001b[39;00m DoubleDataLoader\n\u001b[1;32m      4\u001b[0m \u001b[38;5;28;01mfrom\u001b[39;00m \u001b[38;5;21;01mmodels\u001b[39;00m\u001b[38;5;21;01m.\u001b[39;00m\u001b[38;5;21;01mResNet_revised\u001b[39;00m \u001b[38;5;28;01mimport\u001b[39;00m ResNet_revised\n",
      "File \u001b[0;32m~/research/src/data_loader/SingleDataLoader.py:1\u001b[0m\n\u001b[0;32m----> 1\u001b[0m \u001b[38;5;28;01mimport\u001b[39;00m \u001b[38;5;21;01mnumpy\u001b[39;00m \u001b[38;5;28;01mas\u001b[39;00m \u001b[38;5;21;01mnp\u001b[39;00m\n\u001b[1;32m      2\u001b[0m \u001b[38;5;28;01mimport\u001b[39;00m \u001b[38;5;21;01mglob\u001b[39;00m\n\u001b[1;32m      3\u001b[0m \u001b[38;5;28;01mimport\u001b[39;00m \u001b[38;5;21;01mos\u001b[39;00m\n",
      "\u001b[0;31mModuleNotFoundError\u001b[0m: No module named 'numpy'"
     ]
    }
   ],
   "source": [
    "import os\n",
    "from data_loader.SingleDataLoader import SingleDataLoader\n",
    "from data_loader.DoubleDataLoader import DoubleDataLoader\n",
    "from models.ResNet_revised import ResNet_revised\n",
    "from trainer.train import train_func\n",
    "from trainer.aug_train import aug_train_func\n",
    "from lib.path import get_training_data_dir\n",
    "from custom_losses.dice import dice_loss, dice_coefficient\n",
    "from tensorflow.keras.metrics import Recall, Precision\n",
    "from tensorflow.keras.losses import BinaryCrossentropy"
   ]
  },
  {
   "cell_type": "code",
   "execution_count": null,
   "metadata": {},
   "outputs": [],
   "source": [
    "import tensorflow as tf\n",
    "print(\"Num GPUs Available: \", len(tf.config.experimental.list_physical_devices('GPU')))"
   ]
  },
  {
   "cell_type": "code",
   "execution_count": null,
   "metadata": {},
   "outputs": [],
   "source": [
    "data_dir = '../data'\n",
    "train_list = os.path.join(data_dir, 'train.txt')\n",
    "test_list = os.path.join(data_dir, 'test.txt')\n",
    "val_list = os.path.join(data_dir, 'val.txt')"
   ]
  },
  {
   "cell_type": "code",
   "execution_count": null,
   "metadata": {},
   "outputs": [],
   "source": [
    "DATA_TYPE1 = 'gr'\n",
    "# DATA_TYPE2 = 'Protein'\n",
    "DATA_VOXEL_NUM = 10\n",
    "CLASSIFYING_RULE = 'WaterClassifyingRuleEmbedding'\n",
    "LIGAND_POCKET_DEFINER = 'LigandPocketDefinerOriginal'\n",
    "LIGAND_VOXEL_NUM = 8\n",
    "\n",
    "training_data_dir1 = get_training_data_dir(DATA_TYPE1, DATA_VOXEL_NUM, CLASSIFYING_RULE, LIGAND_POCKET_DEFINER, LIGAND_VOXEL_NUM)"
   ]
  },
  {
   "cell_type": "code",
   "execution_count": null,
   "metadata": {},
   "outputs": [],
   "source": [
    "data_loader = SingleDataLoader(training_data_dir1)"
   ]
  },
  {
   "cell_type": "code",
   "execution_count": null,
   "metadata": {},
   "outputs": [],
   "source": [
    "train_data, train_labels = data_loader.load_data(train_list)\n",
    "test_data, test_labels = data_loader.load_data(test_list)\n",
    "val_data, val_labels = data_loader.load_data(val_list)"
   ]
  },
  {
   "cell_type": "code",
   "execution_count": null,
   "metadata": {},
   "outputs": [],
   "source": [
    "print('Train data shape: ', train_data.shape)\n",
    "print('Train labels shape: ', train_labels.shape)\n",
    "print('Test data shape: ', test_data.shape)\n",
    "print('Test labels shape: ', test_labels.shape)\n",
    "print('Val data shape: ', val_data.shape)\n",
    "print('Val labels shape: ', val_labels.shape)"
   ]
  },
  {
   "cell_type": "code",
   "execution_count": null,
   "metadata": {},
   "outputs": [],
   "source": [
    "input_shape = (DATA_VOXEL_NUM*2+1, DATA_VOXEL_NUM*2+1, DATA_VOXEL_NUM*2+1, train_data.shape[-1])\n",
    "epochs = 100\n",
    "batch_size = 128\n",
    "n_base = 32\n",
    "learning_rate = 1e-4\n",
    "early_stopping = 40\n",
    "BN = True\n",
    "dropout = 0.5\n",
    "model_func = ResNet_revised\n",
    "MODEL_NAME = model_func.__name__\n",
    "TRAINER_NAME = 'normal_train'\n",
    "losses = [BinaryCrossentropy(), dice_loss]\n",
    "loss= losses[0]\n",
    "metrics = ['accuracy', dice_coefficient, Recall(), Precision()]\n",
    "path_type = f'/{DATA_TYPE1}/data_voxel_num_{DATA_VOXEL_NUM}/{LIGAND_POCKET_DEFINER}/ligand_pocket_voxel_num_{LIGAND_VOXEL_NUM}/{CLASSIFYING_RULE}/{MODEL_NAME}/{TRAINER_NAME}/'\n",
    "# path_type = f'/{DATA_TYPE1}_{DATA_TYPE2}/data_voxel_num_{DATA_VOXEL_NUM}/{LIGAND_POCKET_DEFINER}/ligand_pocket_voxel_num_{LIGAND_VOXEL_NUM}/{CLASSIFYING_RULE}/{MODEL_NAME}/{TRAINER_NAME}/'\n",
    "\n",
    "checkpoint_path = f\"./checkpoints/{path_type}/\" + \"cp-{epoch:04d}.weights.h5\"\n",
    "model_checkpoint = True"
   ]
  },
  {
   "cell_type": "code",
   "execution_count": null,
   "metadata": {},
   "outputs": [],
   "source": [
    "pos = train_labels.sum()\n",
    "neg = train_labels.shape[0] - pos\n",
    "total = train_labels.shape[0]\n",
    "\n",
    "weight_for_0 = (1 / neg) * (total / 2.0)\n",
    "weight_for_1 = (1 / pos) * (total / 2.0)\n",
    "class_weight = {0: weight_for_0, 1: weight_for_1}\n",
    "print(class_weight)"
   ]
  },
  {
   "cell_type": "code",
   "execution_count": null,
   "metadata": {},
   "outputs": [],
   "source": [
    "# clf, clf_hist = aug_train_func(\n",
    "#                                 x_train=train_data,\n",
    "#                                 y_train=train_labels,\n",
    "#                                 x_val=val_data,\n",
    "#                                 y_val=val_labels,\n",
    "#                                 input_shape=input_shape,\n",
    "#                                 model_func=model_func,\n",
    "#                                 loss=loss,\n",
    "#                                 metrics=metrics,\n",
    "#                                 epochs=epochs,\n",
    "#                                 batch_size=batch_size,\n",
    "#                                 num_rotations=1,\n",
    "#                                 angle_unit=45,\n",
    "#                                 n_base=n_base,\n",
    "#                                 learning_rate=learning_rate,\n",
    "#                                 early_stopping=early_stopping,\n",
    "#                                 checkpoint_path=checkpoint_path,\n",
    "#                                 model_checkpoint=model_checkpoint,\n",
    "#                                 class_weight=class_weight,\n",
    "#                                 BN = BN,\n",
    "#                                 dropout=dropout\n",
    "#                             )"
   ]
  },
  {
   "cell_type": "code",
   "execution_count": null,
   "metadata": {},
   "outputs": [],
   "source": [
    "clf, clf_hist, clf_eval = train_func(\n",
    "                                    x_train=train_data,\n",
    "                                    y_train=train_labels,\n",
    "                                    x_test=test_data,\n",
    "                                    y_test=test_labels,\n",
    "                                    x_val=val_data,\n",
    "                                    y_val=val_labels,\n",
    "                                    input_shape=input_shape,\n",
    "                                    model_func=model_func,\n",
    "                                    loss=loss,\n",
    "                                    metrics=metrics,\n",
    "                                    epochs=epochs,\n",
    "                                    batch_size=batch_size,\n",
    "                                    n_base=n_base,\n",
    "                                    learning_rate=learning_rate,\n",
    "                                    early_stopping=early_stopping,\n",
    "                                    checkpoint_path=checkpoint_path,\n",
    "                                    model_checkpoint=model_checkpoint,\n",
    "                                    class_weight=class_weight,\n",
    "                                    BN = BN,\n",
    "                                    dropout=dropout\n",
    "                                )"
   ]
  },
  {
   "cell_type": "code",
   "execution_count": null,
   "metadata": {},
   "outputs": [],
   "source": [
    "prediction = clf.predict(test_data)"
   ]
  },
  {
   "cell_type": "markdown",
   "metadata": {},
   "source": []
  },
  {
   "cell_type": "code",
   "execution_count": null,
   "metadata": {},
   "outputs": [],
   "source": [
    "prediction.round().sum()"
   ]
  }
 ],
 "metadata": {
  "kernelspec": {
   "display_name": "yuki_research",
   "language": "python",
   "name": "python3"
  },
  "language_info": {
   "codemirror_mode": {
    "name": "ipython",
    "version": 3
   },
   "file_extension": ".py",
   "mimetype": "text/x-python",
   "name": "python",
   "nbconvert_exporter": "python",
   "pygments_lexer": "ipython3",
   "version": "3.10.14"
  }
 },
 "nbformat": 4,
 "nbformat_minor": 2
}
