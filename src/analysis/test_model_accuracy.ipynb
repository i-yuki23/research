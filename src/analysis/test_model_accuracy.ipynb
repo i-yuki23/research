{
 "cells": [
  {
   "cell_type": "code",
   "execution_count": 1,
   "metadata": {},
   "outputs": [
    {
     "name": "stderr",
     "output_type": "stream",
     "text": [
      "2024-07-09 12:56:06.473886: I tensorflow/core/util/port.cc:113] oneDNN custom operations are on. You may see slightly different numerical results due to floating-point round-off errors from different computation orders. To turn them off, set the environment variable `TF_ENABLE_ONEDNN_OPTS=0`.\n",
      "2024-07-09 12:56:06.476414: I external/local_tsl/tsl/cuda/cudart_stub.cc:31] Could not find cuda drivers on your machine, GPU will not be used.\n",
      "2024-07-09 12:56:06.508526: E external/local_xla/xla/stream_executor/cuda/cuda_dnn.cc:9261] Unable to register cuDNN factory: Attempting to register factory for plugin cuDNN when one has already been registered\n",
      "2024-07-09 12:56:06.508545: E external/local_xla/xla/stream_executor/cuda/cuda_fft.cc:607] Unable to register cuFFT factory: Attempting to register factory for plugin cuFFT when one has already been registered\n",
      "2024-07-09 12:56:06.509721: E external/local_xla/xla/stream_executor/cuda/cuda_blas.cc:1515] Unable to register cuBLAS factory: Attempting to register factory for plugin cuBLAS when one has already been registered\n",
      "2024-07-09 12:56:06.515283: I external/local_tsl/tsl/cuda/cudart_stub.cc:31] Could not find cuda drivers on your machine, GPU will not be used.\n",
      "2024-07-09 12:56:06.515665: I tensorflow/core/platform/cpu_feature_guard.cc:182] This TensorFlow binary is optimized to use available CPU instructions in performance-critical operations.\n",
      "To enable the following instructions: AVX2 AVX512F AVX512_VNNI FMA, in other operations, rebuild TensorFlow with the appropriate compiler flags.\n",
      "2024-07-09 12:56:07.164461: W tensorflow/compiler/tf2tensorrt/utils/py_utils.cc:38] TF-TRT Warning: Could not find TensorRT\n"
     ]
    }
   ],
   "source": [
    "import sys\n",
    "import os\n",
    "sys.path.append('..')\n",
    "from lib.path import get_training_data_dir, get_predicted_labeled_water_path, get_displaceable_water_path, get_non_displaceable_water_path\n",
    "from lib.pdb import filter_atoms_and_create_new_pdb\n",
    "from data_loader.SingleDataLoader import SingleDataLoader\n",
    "from data_loader.DoubleDataLoader import DoubleDataLoader\n",
    "from models.LeNet import LeNet\n",
    "from models.ResNet import ResNet, ResNet1\n",
    "from lib.helper import get_latest_checkpoint\n",
    "from tensorflow.keras.losses import BinaryCrossentropy\n",
    "from custom_losses.dice import dice_loss, dice_coefficient\n",
    "from tensorflow.keras.metrics import Recall, Precision, Accuracy, SpecificityAtSensitivity, AUC, F1Score\n",
    "from sklearn.metrics import confusion_matrix\n",
    "\n",
    "\n",
    "import numpy as np"
   ]
  },
  {
   "cell_type": "code",
   "execution_count": 18,
   "metadata": {},
   "outputs": [
    {
     "name": "stdout",
     "output_type": "stream",
     "text": [
      "Error processing 4l50: No data found for 4l50\n",
      "Error processing 4n9c: No data found for 4n9c\n",
      "Error processing 4l51: No data found for 4l51\n",
      "Error processing 2xp7: No data found for 2xp7\n",
      "Error processing 2jkp: No data found for 2jkp\n",
      "Error processing 2jke: No data found for 2jke\n",
      "Error processing 5fsy: No data found for 5fsy\n",
      "Error processing 4u0f: No data found for 4u0f\n",
      "Error processing 3i4b: No data found for 3i4b\n",
      "Error processing 2zq0: No data found for 2zq0\n",
      "Error processing 4jn2: No data found for 4jn2\n",
      "Error processing 4r0a: No data found for 4r0a\n",
      "Error processing 5fsx: No data found for 5fsx\n",
      "Error processing 2bys: No data found for 2bys\n",
      "Error processing 4l50: No data found for 4l50\n",
      "Error processing 4n9c: No data found for 4n9c\n",
      "Error processing 4l51: No data found for 4l51\n",
      "Error processing 2xp7: No data found for 2xp7\n",
      "Error processing 2jkp: No data found for 2jkp\n",
      "Error processing 2jke: No data found for 2jke\n",
      "Error processing 5fsy: No data found for 5fsy\n",
      "Error processing 4u0f: No data found for 4u0f\n",
      "Error processing 3i4b: No data found for 3i4b\n",
      "Error processing 2zq0: No data found for 2zq0\n",
      "Error processing 4jn2: No data found for 4jn2\n",
      "Error processing 4r0a: No data found for 4r0a\n",
      "Error processing 5fsx: No data found for 5fsx\n",
      "Error processing 2bys: No data found for 2bys\n"
     ]
    }
   ],
   "source": [
    "DATA_TYPE1 = 'gr'\n",
    "# DATA_TYPE2 = 'Protein'\n",
    "DATA_VOXEL_NUM = 10\n",
    "CLASSIFYING_RULE = 'WaterClassifyingRuleSurface'\n",
    "LIGAND_POCKET_DEFINER = 'LigandPocketDefinerOriginal'\n",
    "LIGAND_VOXEL_NUM = 8\n",
    "MODEL_NAME = 'ResNet'\n",
    "TRAINER_NAME = 'aug_train'\n",
    "training_data_dir1 = get_training_data_dir(DATA_TYPE1, DATA_VOXEL_NUM, CLASSIFYING_RULE, LIGAND_POCKET_DEFINER, LIGAND_VOXEL_NUM)\n",
    "# training_data_dir2 = get_training_data_dir(DATA_TYPE2, DATA_VOXEL_NUM, CLASSIFYING_RULE, LIGAND_POCKET_DEFINER, LIGAND_VOXEL_NUM)\n",
    "\n",
    "data_dir = '../../data'\n",
    "test_list = os.path.join(data_dir, 'pdb_group/hydrophobic/test_hydrophobic_-1000_pdb')\n",
    "data_loader = SingleDataLoader(training_data_dir1)\n",
    "# data_loader = DoubleDataLoader(training_data_dir1, training_data_dir2)\n",
    "test_data, test_data_label = data_loader.load_data(test_list)"
   ]
  },
  {
   "cell_type": "code",
   "execution_count": 19,
   "metadata": {},
   "outputs": [],
   "source": [
    "input_shape = (DATA_VOXEL_NUM*2+1, DATA_VOXEL_NUM*2+1, DATA_VOXEL_NUM*2+1, test_data.shape[-1])\n",
    "n_base = 8\n",
    "learning_rate = 1e-4\n",
    "metrics = ['accuracy', dice_coefficient, Recall(), Precision()]\n",
    "BN = True"
   ]
  },
  {
   "cell_type": "code",
   "execution_count": 20,
   "metadata": {},
   "outputs": [
    {
     "name": "stdout",
     "output_type": "stream",
     "text": [
      "Model: \"model_2\"\n",
      "__________________________________________________________________________________________________\n",
      " Layer (type)                Output Shape                 Param #   Connected to                  \n",
      "==================================================================================================\n",
      " input_3 (InputLayer)        [(None, 21, 21, 21, 1)]      0         []                            \n",
      "                                                                                                  \n",
      " conv3d_18 (Conv3D)          (None, 21, 21, 21, 8)        224       ['input_3[0][0]']             \n",
      "                                                                                                  \n",
      " batch_normalization_18 (Ba  (None, 21, 21, 21, 8)        32        ['conv3d_18[0][0]']           \n",
      " tchNormalization)                                                                                \n",
      "                                                                                                  \n",
      " activation_14 (Activation)  (None, 21, 21, 21, 8)        0         ['batch_normalization_18[0][0]\n",
      "                                                                    ']                            \n",
      "                                                                                                  \n",
      " conv3d_19 (Conv3D)          (None, 21, 21, 21, 8)        1736      ['activation_14[0][0]']       \n",
      "                                                                                                  \n",
      " batch_normalization_19 (Ba  (None, 21, 21, 21, 8)        32        ['conv3d_19[0][0]']           \n",
      " tchNormalization)                                                                                \n",
      "                                                                                                  \n",
      " activation_15 (Activation)  (None, 21, 21, 21, 8)        0         ['batch_normalization_19[0][0]\n",
      "                                                                    ']                            \n",
      "                                                                                                  \n",
      " conv3d_20 (Conv3D)          (None, 21, 21, 21, 8)        1736      ['activation_15[0][0]']       \n",
      "                                                                                                  \n",
      " batch_normalization_20 (Ba  (None, 21, 21, 21, 8)        32        ['conv3d_20[0][0]']           \n",
      " tchNormalization)                                                                                \n",
      "                                                                                                  \n",
      " add_6 (Add)                 (None, 21, 21, 21, 8)        0         ['batch_normalization_20[0][0]\n",
      "                                                                    ',                            \n",
      "                                                                     'activation_14[0][0]']       \n",
      "                                                                                                  \n",
      " activation_16 (Activation)  (None, 21, 21, 21, 8)        0         ['add_6[0][0]']               \n",
      "                                                                                                  \n",
      " max_pooling3d_6 (MaxPoolin  (None, 10, 10, 10, 8)        0         ['activation_16[0][0]']       \n",
      " g3D)                                                                                             \n",
      "                                                                                                  \n",
      " conv3d_21 (Conv3D)          (None, 10, 10, 10, 16)       3472      ['max_pooling3d_6[0][0]']     \n",
      "                                                                                                  \n",
      " batch_normalization_21 (Ba  (None, 10, 10, 10, 16)       64        ['conv3d_21[0][0]']           \n",
      " tchNormalization)                                                                                \n",
      "                                                                                                  \n",
      " activation_17 (Activation)  (None, 10, 10, 10, 16)       0         ['batch_normalization_21[0][0]\n",
      "                                                                    ']                            \n",
      "                                                                                                  \n",
      " conv3d_22 (Conv3D)          (None, 10, 10, 10, 16)       6928      ['activation_17[0][0]']       \n",
      "                                                                                                  \n",
      " conv3d_23 (Conv3D)          (None, 10, 10, 10, 16)       144       ['max_pooling3d_6[0][0]']     \n",
      "                                                                                                  \n",
      " batch_normalization_22 (Ba  (None, 10, 10, 10, 16)       64        ['conv3d_22[0][0]']           \n",
      " tchNormalization)                                                                                \n",
      "                                                                                                  \n",
      " batch_normalization_23 (Ba  (None, 10, 10, 10, 16)       64        ['conv3d_23[0][0]']           \n",
      " tchNormalization)                                                                                \n",
      "                                                                                                  \n",
      " add_7 (Add)                 (None, 10, 10, 10, 16)       0         ['batch_normalization_22[0][0]\n",
      "                                                                    ',                            \n",
      "                                                                     'batch_normalization_23[0][0]\n",
      "                                                                    ']                            \n",
      "                                                                                                  \n",
      " activation_18 (Activation)  (None, 10, 10, 10, 16)       0         ['add_7[0][0]']               \n",
      "                                                                                                  \n",
      " max_pooling3d_7 (MaxPoolin  (None, 5, 5, 5, 16)          0         ['activation_18[0][0]']       \n",
      " g3D)                                                                                             \n",
      "                                                                                                  \n",
      " conv3d_24 (Conv3D)          (None, 5, 5, 5, 32)          13856     ['max_pooling3d_7[0][0]']     \n",
      "                                                                                                  \n",
      " batch_normalization_24 (Ba  (None, 5, 5, 5, 32)          128       ['conv3d_24[0][0]']           \n",
      " tchNormalization)                                                                                \n",
      "                                                                                                  \n",
      " activation_19 (Activation)  (None, 5, 5, 5, 32)          0         ['batch_normalization_24[0][0]\n",
      "                                                                    ']                            \n",
      "                                                                                                  \n",
      " conv3d_25 (Conv3D)          (None, 5, 5, 5, 32)          27680     ['activation_19[0][0]']       \n",
      "                                                                                                  \n",
      " conv3d_26 (Conv3D)          (None, 5, 5, 5, 32)          544       ['max_pooling3d_7[0][0]']     \n",
      "                                                                                                  \n",
      " batch_normalization_25 (Ba  (None, 5, 5, 5, 32)          128       ['conv3d_25[0][0]']           \n",
      " tchNormalization)                                                                                \n",
      "                                                                                                  \n",
      " batch_normalization_26 (Ba  (None, 5, 5, 5, 32)          128       ['conv3d_26[0][0]']           \n",
      " tchNormalization)                                                                                \n",
      "                                                                                                  \n",
      " add_8 (Add)                 (None, 5, 5, 5, 32)          0         ['batch_normalization_25[0][0]\n",
      "                                                                    ',                            \n",
      "                                                                     'batch_normalization_26[0][0]\n",
      "                                                                    ']                            \n",
      "                                                                                                  \n",
      " activation_20 (Activation)  (None, 5, 5, 5, 32)          0         ['add_8[0][0]']               \n",
      "                                                                                                  \n",
      " max_pooling3d_8 (MaxPoolin  (None, 2, 2, 2, 32)          0         ['activation_20[0][0]']       \n",
      " g3D)                                                                                             \n",
      "                                                                                                  \n",
      " global_average_pooling3d_2  (None, 32)                   0         ['max_pooling3d_8[0][0]']     \n",
      "  (GlobalAveragePooling3D)                                                                        \n",
      "                                                                                                  \n",
      " dense_4 (Dense)             (None, 32)                   1056      ['global_average_pooling3d_2[0\n",
      "                                                                    ][0]']                        \n",
      "                                                                                                  \n",
      " dropout_2 (Dropout)         (None, 32)                   0         ['dense_4[0][0]']             \n",
      "                                                                                                  \n",
      " dense_5 (Dense)             (None, 1)                    33        ['dropout_2[0][0]']           \n",
      "                                                                                                  \n",
      "==================================================================================================\n",
      "Total params: 58081 (226.88 KB)\n",
      "Trainable params: 57745 (225.57 KB)\n",
      "Non-trainable params: 336 (1.31 KB)\n",
      "__________________________________________________________________________________________________\n"
     ]
    },
    {
     "name": "stderr",
     "output_type": "stream",
     "text": [
      "WARNING:absl:Skipping variable loading for optimizer 'Adam', because it has 1 variables whereas the saved optimizer has 81 variables. \n"
     ]
    }
   ],
   "source": [
    "checkpoint_dir = f'../checkpoints/{DATA_TYPE1}/data_voxel_num_{DATA_VOXEL_NUM}/{LIGAND_POCKET_DEFINER}/ligand_pocket_voxel_num_{LIGAND_VOXEL_NUM}/{CLASSIFYING_RULE}/{MODEL_NAME}/{TRAINER_NAME}/'\n",
    "# checkpoint_dir = f'../checkpoints/{DATA_TYPE1}_{DATA_TYPE2}/data_voxel_num_{DATA_VOXEL_NUM}/{LIGAND_POCKET_DEFINER}/ligand_pocket_voxel_num_{LIGAND_VOXEL_NUM}/{CLASSIFYING_RULE}/{MODEL_NAME}/{TRAINER_NAME}/'\n",
    "latest_checkpoint = get_latest_checkpoint(checkpoint_dir)\n",
    "model = ResNet(n_base, input_shape, learning_rate, BinaryCrossentropy(), metrics, BN=BN)\n",
    "model.load_weights(latest_checkpoint)"
   ]
  },
  {
   "cell_type": "code",
   "execution_count": 21,
   "metadata": {},
   "outputs": [
    {
     "name": "stdout",
     "output_type": "stream",
     "text": [
      "377/377 [==============================] - 3s 8ms/step\n"
     ]
    }
   ],
   "source": [
    "prediction = model.predict(test_data)\n",
    "prediction_values = prediction.reshape(prediction.shape[0])\n",
    "predicted_label = prediction.round()\n"
   ]
  },
  {
   "cell_type": "code",
   "execution_count": 22,
   "metadata": {},
   "outputs": [
    {
     "name": "stdout",
     "output_type": "stream",
     "text": [
      "Confusion Matrix:\n",
      "[[4484 1275]\n",
      " [1975 4307]]\n",
      "True Negative (TN): 4484\n",
      "False Positive (FP): 1275\n",
      "False Negative (FN): 1975\n",
      "True Positive (TP): 4307\n",
      "0.6942251122464778\n"
     ]
    }
   ],
   "source": [
    "cm = confusion_matrix(test_data_label, predicted_label)\n",
    "\n",
    "# 混同行列の要素を取り出す\n",
    "tn, fp, fn, tp = cm.ravel()\n",
    "\n",
    "# 結果を表示\n",
    "print(\"Confusion Matrix:\")\n",
    "print(cm)\n",
    "print(f\"True Negative (TN): {tn}\")\n",
    "print(f\"False Positive (FP): {fp}\")\n",
    "print(f\"False Negative (FN): {fn}\")\n",
    "print(f\"True Positive (TP): {tp}\")\n",
    "negative_precision = tn / (tn + fn)\n",
    "print(negative_precision)"
   ]
  },
  {
   "cell_type": "code",
   "execution_count": 23,
   "metadata": {},
   "outputs": [],
   "source": [
    "recall = Recall()\n",
    "recall.update_state(test_data_label, predicted_label)\n",
    "recall_value = recall.result().numpy()\n",
    "\n",
    "precision = Precision()\n",
    "precision.update_state(test_data_label, predicted_label)\n",
    "precision_value = precision.result().numpy()\n",
    "\n",
    "accuracy = Accuracy()\n",
    "accuracy.update_state(test_data_label, predicted_label)\n",
    "accuracy_value = accuracy.result().numpy()\n",
    "\n",
    "specificity = SpecificityAtSensitivity(recall_value)\n",
    "specificity.update_state(test_data_label, predicted_label)\n",
    "specificity_value = specificity.result().numpy()\n",
    "\n",
    "auc = AUC()\n",
    "auc.update_state(test_data_label, prediction_values)\n",
    "auc_value = auc.result().numpy()\n"
   ]
  },
  {
   "cell_type": "code",
   "execution_count": 24,
   "metadata": {},
   "outputs": [
    {
     "name": "stdout",
     "output_type": "stream",
     "text": [
      "{'recall': 0.6856097, 'precision': 0.77158725, 'accuracy': 0.7300889, 'specificity': 0.77860737, 'dice_coefficient': 0.7260851, 'auc': 0.8010812}\n"
     ]
    }
   ],
   "source": [
    "print({\"recall\": recall_value, \"precision\": precision_value, \"accuracy\": accuracy_value, \"specificity\": specificity_value, \"dice_coefficient\": dice_coefficient(test_data_label, predicted_label).numpy(), \"auc\": auc_value})"
   ]
  },
  {
   "cell_type": "code",
   "execution_count": 25,
   "metadata": {},
   "outputs": [],
   "source": [
    "from sklearn.metrics import roc_curve\n",
    "import matplotlib.pyplot as plt\n",
    "fpr, tpr, thresholds = roc_curve(test_data_label, prediction_values)"
   ]
  },
  {
   "cell_type": "code",
   "execution_count": 203,
   "metadata": {},
   "outputs": [
    {
     "data": {
      "text/plain": [
       "0.39431885"
      ]
     },
     "execution_count": 203,
     "metadata": {},
     "output_type": "execute_result"
    }
   ],
   "source": [
    "J = tpr - fpr\n",
    "optimal_idx = np.argmax(J)\n",
    "optimal_threshold_youden = thresholds[optimal_idx]\n",
    "optimal_threshold_youden"
   ]
  },
  {
   "cell_type": "code",
   "execution_count": 204,
   "metadata": {},
   "outputs": [
    {
     "data": {
      "image/png": "[encoded data removed]",
      "text/plain": [
       "<Figure size 640x480 with 1 Axes>"
      ]
     },
     "metadata": {},
     "output_type": "display_data"
    }
   ],
   "source": [
    "plt.figure(1)\n",
    "plt.plot([0, 1], [0, 1], 'k--')\n",
    "plt.plot(fpr[optimal_idx], tpr[optimal_idx], 'ro', label='Optimal Threshold')\n",
    "plt.plot(fpr, tpr)\n",
    "plt.xlabel('False positive rate')\n",
    "plt.ylabel('True positive rate')\n",
    "plt.title('ROC curve')\n",
    "plt.legend(loc='best')\n",
    "plt.show()"
   ]
  },
  {
   "cell_type": "code",
   "execution_count": 205,
   "metadata": {},
   "outputs": [],
   "source": [
    "def custom_threshold(prediction, threshold):\n",
    "    return (prediction > threshold).astype(int)\n",
    "optimal_predicted_label = custom_threshold(prediction_values, optimal_threshold_youden)"
   ]
  },
  {
   "cell_type": "code",
   "execution_count": 206,
   "metadata": {},
   "outputs": [],
   "source": [
    "recall = Recall()\n",
    "recall.update_state(test_data_label, optimal_predicted_label)\n",
    "optimal_recall_value = recall.result().numpy()\n",
    "\n",
    "precision = Precision()\n",
    "precision.update_state(test_data_label, optimal_predicted_label)\n",
    "optimal_precision_value = precision.result().numpy()\n",
    "\n",
    "accuracy = Accuracy()\n",
    "accuracy.update_state(test_data_label, optimal_predicted_label)\n",
    "optimal_accuracy_value = accuracy.result().numpy()\n",
    "\n",
    "specificity = SpecificityAtSensitivity(optimal_recall_value)\n",
    "specificity.update_state(test_data_label, optimal_predicted_label)\n",
    "optimal_specificity_value = specificity.result().numpy()\n",
    "\n",
    "auc = AUC()\n",
    "auc.update_state(test_data_label, prediction_values)\n",
    "auc_value = auc.result().numpy()\n"
   ]
  },
  {
   "cell_type": "code",
   "execution_count": 207,
   "metadata": {},
   "outputs": [
    {
     "name": "stdout",
     "output_type": "stream",
     "text": [
      "Confusion Matrix:\n",
      "[[198  59]\n",
      " [102 184]]\n",
      "True Negative (TN): 198\n",
      "False Positive (FP): 59\n",
      "False Negative (FN): 102\n",
      "True Positive (TP): 184\n",
      "0.66\n"
     ]
    }
   ],
   "source": [
    "cm = confusion_matrix(test_data_label, optimal_predicted_label)\n",
    "\n",
    "# 混同行列の要素を取り出す\n",
    "tn, fp, fn, tp = cm.ravel()\n",
    "\n",
    "# 結果を表示\n",
    "print(\"Confusion Matrix:\")\n",
    "print(cm)\n",
    "print(f\"True Negative (TN): {tn}\")\n",
    "print(f\"False Positive (FP): {fp}\")\n",
    "print(f\"False Negative (FN): {fn}\")\n",
    "print(f\"True Positive (TP): {tp}\")\n",
    "negative_precision = tn / (tn + fn)\n",
    "print(negative_precision)"
   ]
  },
  {
   "cell_type": "code",
   "execution_count": 208,
   "metadata": {},
   "outputs": [
    {
     "name": "stdout",
     "output_type": "stream",
     "text": [
      "{'recall': 0.6433566, 'precision': 0.7572017, 'accuracy': 0.7034991, 'specificity': 0.770428, 'dice_coefficient': 0.6962264, 'auc': 0.7486055}\n"
     ]
    }
   ],
   "source": [
    "print({\"recall\": optimal_recall_value, \"precision\": optimal_precision_value, \"accuracy\": optimal_accuracy_value, \"specificity\": optimal_specificity_value, \"dice_coefficient\": dice_coefficient(test_data_label, optimal_predicted_label).numpy(), \"auc\": auc_value})"
   ]
  },
  {
   "cell_type": "markdown",
   "metadata": {},
   "source": []
  },
  {
   "cell_type": "code",
   "execution_count": null,
   "metadata": {},
   "outputs": [],
   "source": []
  }
 ],
 "metadata": {
  "kernelspec": {
   "display_name": "yuki_research",
   "language": "python",
   "name": "python3"
  },
  "language_info": {
   "codemirror_mode": {
    "name": "ipython",
    "version": 3
   },
   "file_extension": ".py",
   "mimetype": "text/x-python",
   "name": "python",
   "nbconvert_exporter": "python",
   "pygments_lexer": "ipython3",
   "version": "3.10.13"
  }
 },
 "nbformat": 4,
 "nbformat_minor": 2
}
