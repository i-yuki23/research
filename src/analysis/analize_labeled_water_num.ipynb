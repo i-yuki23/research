{
 "cells": [
  {
   "cell_type": "markdown",
   "metadata": {},
   "source": [
    "### 分類した水分子を表にする"
   ]
  },
  {
   "cell_type": "code",
   "execution_count": 1,
   "metadata": {},
   "outputs": [],
   "source": [
    "import sys \n",
    "sys.path.append('..')"
   ]
  },
  {
   "cell_type": "code",
   "execution_count": 2,
   "metadata": {},
   "outputs": [],
   "source": [
    "import numpy as np\n",
    "import os\n",
    "import pandas as pd\n",
    "from lib.plot import plot_histogram\n",
    "import matplotlib.pyplot as plt\n",
    "from lib.path import get_analysis_results_labeled_water_path"
   ]
  },
  {
   "cell_type": "code",
   "execution_count": 3,
   "metadata": {},
   "outputs": [],
   "source": [
    "ligand_voxel_nums = [10, 9, 8, 6, 4]\n",
    "classifying_rules = [\"WaterClassifyingRuleCenter\", \"WaterClassifyingRuleSurface\"]\n",
    "ligand_pocket_definers = [\"LigandPocketDefinerGhecom\", \"LigandPocketDefinerOriginal\"]"
   ]
  },
  {
   "cell_type": "code",
   "execution_count": 4,
   "metadata": {},
   "outputs": [],
   "source": [
    "def get_df_info(labeled_water_num_path):\n",
    "    df = pd.read_csv(labeled_water_num_path)\n",
    "    \n",
    "    total_displaceable = df['displaceable_water_num'].sum()\n",
    "    total_non_displaceable = df['non_displaceable_water_num'].sum()\n",
    "    total_water_num = total_displaceable + total_non_displaceable\n",
    "\n",
    "    summary_stats = df.describe()\n",
    "    dis_mean = summary_stats['displaceable_water_num']['mean']\n",
    "    dis_std = summary_stats['displaceable_water_num']['std']\n",
    "\n",
    "    non_dis_mean = summary_stats['non_displaceable_water_num']['mean']\n",
    "    non_dis_std = summary_stats['non_displaceable_water_num']['std']\n",
    "\n",
    "    path_info = labeled_water_num_path.split(\"/\")\n",
    "\n",
    "    return path_info[7:10], total_water_num, f\"{total_displaceable} ({dis_mean:.2f}±{dis_std:.2f})\", f\"{total_non_displaceable} ({non_dis_mean:.2f}±{non_dis_std:.2f})\""
   ]
  },
  {
   "cell_type": "code",
   "execution_count": 15,
   "metadata": {},
   "outputs": [],
   "source": [
    "ligand_voxel_num = ligand_voxel_nums[1]\n",
    "classifying_rule = classifying_rules[0]\n",
    "ligand_pocket_definer = ligand_pocket_definers[1]\n",
    "\n",
    "labeled_water_num_path = get_analysis_results_labeled_water_path(ligand_voxel_num, classifying_rule, ligand_pocket_definer)\n",
    "df_info = get_df_info(labeled_water_num_path)"
   ]
  },
  {
   "cell_type": "code",
   "execution_count": 16,
   "metadata": {},
   "outputs": [
    {
     "data": {
      "text/plain": [
       "(['WaterClassifyingRuleCenter',\n",
       "  'LigandPocketDefinerOriginal',\n",
       "  'ligand_pocket_voxel_num_9'],\n",
       " 32529.0,\n",
       " '15802.0 (5.81±3.28)',\n",
       " '16727.0 (6.15±4.17)')"
      ]
     },
     "execution_count": 16,
     "metadata": {},
     "output_type": "execute_result"
    }
   ],
   "source": [
    "df_info"
   ]
  },
  {
   "cell_type": "code",
   "execution_count": null,
   "metadata": {},
   "outputs": [],
   "source": []
  }
 ],
 "metadata": {
  "kernelspec": {
   "display_name": "yuki_research",
   "language": "python",
   "name": "python3"
  },
  "language_info": {
   "codemirror_mode": {
    "name": "ipython",
    "version": 3
   },
   "file_extension": ".py",
   "mimetype": "text/x-python",
   "name": "python",
   "nbconvert_exporter": "python",
   "pygments_lexer": "ipython3",
   "version": "3.10.13"
  }
 },
 "nbformat": 4,
 "nbformat_minor": 2
}
