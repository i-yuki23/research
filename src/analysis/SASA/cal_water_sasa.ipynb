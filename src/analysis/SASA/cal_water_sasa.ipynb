{
 "cells": [
  {
   "cell_type": "code",
   "execution_count": 54,
   "metadata": {},
   "outputs": [],
   "source": [
    "import os\n",
    "from lib.path import get_training_data_dir\n",
    "from lib.helper import make_dir"
   ]
  },
  {
   "cell_type": "code",
   "execution_count": 1,
   "metadata": {},
   "outputs": [],
   "source": [
    "import sys\n",
    "sys.path.append('../..')\n",
    "\n",
    "import freesasa\n",
    "from lib.path import get_protein_path, get_ligand_path\n",
    "from lib.pdb import get_pdb_names_by_txt\n",
    "import numpy as np\n",
    "from typing import Tuple\n",
    "\n",
    "class ResSASACalculator:\n",
    "    def __init__(self, pdb_path: str, resname: str):\n",
    "        self.pdb_path = pdb_path\n",
    "        self.resname = resname\n",
    "\n",
    "    def _get_sasa(self, path: str) -> float:\n",
    "        try:\n",
    "            structure = freesasa.Structure(path)\n",
    "            sasa_result = freesasa.calc(structure)\n",
    "            return structure, sasa_result\n",
    "        except Exception as e:\n",
    "            raise ValueError(f\"Error calculating SASA for {path}: {e}\")\n",
    "\n",
    "    def calculate_res_sasa(self) -> float:\n",
    "        structure, sasa_result = self._get_sasa(self.pdb_path)\n",
    "        # 指定した残機のSASAを選択する\n",
    "        selection = freesasa.selectArea([f\"water, resn {self.resname}\"], structure, sasa_result)\n",
    "        res_sasa = selection['water']\n",
    "        return res_sasa\n"
   ]
  },
  {
   "cell_type": "code",
   "execution_count": 42,
   "metadata": {},
   "outputs": [
    {
     "name": "stdout",
     "output_type": "stream",
     "text": [
      "4l23\n",
      "0.0\n"
     ]
    },
    {
     "name": "stderr",
     "output_type": "stream",
     "text": [
      "FreeSASA: warning: atom 'BCD   O ' unknown, guessing element is ' O', and radius 1.520 A\n"
     ]
    }
   ],
   "source": [
    "resname = 'BCD'\n",
    "\n",
    "ligand_sasa_list = []\n",
    "pdb_names = get_pdb_names_by_txt('/mnt/ito/pdbbind_raw/general_set/index/monomer_general_protein.txt')\n",
    "for pdb_name in pdb_names:\n",
    "    pdb_name = '4l23'\n",
    "    print(pdb_name)\n",
    "    sasa_calculator = ResSASACalculator(\n",
    "        f'/mnt/ito/data/pdb_bind/{pdb_name}/water_sasa/water_sasa_23.pdb',\n",
    "        resname\n",
    "    )\n",
    "    water_sasa = sasa_calculator.calculate_res_sasa()\n",
    "    ligand_sasa_list.append(water_sasa)\n",
    "    print(water_sasa)\n",
    "    break\n",
    "\n",
    "# np.save('ligand_sasa_general.npy', np.array(ligand_sasa_list))"
   ]
  },
  {
   "cell_type": "code",
   "execution_count": 8,
   "metadata": {},
   "outputs": [],
   "source": [
    "from data_loader.SingleDataLoader import SingleDataLoader\n",
    "data_dir = '../../data'\n",
    "pdb_data_dir = '/mnt/ito/data/pdb_bind'\n",
    "test_list = os.path.join(data_dir, 'all_valid_test.txt')\n",
    "DATA_TYPE1 = 'gr'\n",
    "DATA_VOXEL_NUM = 20\n",
    "CLASSIFYING_RULE = 'WaterClassifyingRuleEmbedding'\n",
    "LIGAND_POCKET_DEFINER = 'LigandPocketDefinerOriginal'\n",
    "LIGAND_VOXEL_NUM = 8\n",
    "\n",
    "\n",
    "training_data_dir1 = get_training_data_dir(DATA_TYPE1, DATA_VOXEL_NUM, CLASSIFYING_RULE, LIGAND_POCKET_DEFINER, LIGAND_VOXEL_NUM)\n",
    "data_loader = SingleDataLoader(training_data_dir1)"
   ]
  },
  {
   "cell_type": "code",
   "execution_count": 53,
   "metadata": {},
   "outputs": [],
   "source": [
    "pdbs = get_pdb_names_by_txt('../../../data/all_valid_test.txt')"
   ]
  },
  {
   "cell_type": "code",
   "execution_count": 58,
   "metadata": {},
   "outputs": [
    {
     "name": "stdout",
     "output_type": "stream",
     "text": [
      "1w70\n"
     ]
    },
    {
     "ename": "FileNotFoundError",
     "evalue": "No data found for 1w70",
     "output_type": "error",
     "traceback": [
      "\u001b[0;31m---------------------------------------------------------------------------\u001b[0m",
      "\u001b[0;31mFileNotFoundError\u001b[0m                         Traceback (most recent call last)",
      "Cell \u001b[0;32mIn[58], line 3\u001b[0m\n\u001b[1;32m      1\u001b[0m \u001b[38;5;28;01mfor\u001b[39;00m pdb \u001b[38;5;129;01min\u001b[39;00m pdbs[\u001b[38;5;241m822\u001b[39m:]:\n\u001b[1;32m      2\u001b[0m     \u001b[38;5;28mprint\u001b[39m(pdb)\n\u001b[0;32m----> 3\u001b[0m     _, water_ids_dis \u001b[38;5;241m=\u001b[39m \u001b[43mdata_loader\u001b[49m\u001b[38;5;241;43m.\u001b[39;49m\u001b[43mget_test_data_and_water_ids\u001b[49m\u001b[43m(\u001b[49m\u001b[43mpdb\u001b[49m\u001b[43m,\u001b[49m\u001b[43m \u001b[49m\u001b[38;5;124;43m'\u001b[39;49m\u001b[38;5;124;43mdisplaceable\u001b[39;49m\u001b[38;5;124;43m'\u001b[39;49m\u001b[43m)\u001b[49m\n\u001b[1;32m      4\u001b[0m     _, water_ids_non_dis \u001b[38;5;241m=\u001b[39m data_loader\u001b[38;5;241m.\u001b[39mget_test_data_and_water_ids(pdb, \u001b[38;5;124m'\u001b[39m\u001b[38;5;124mnon_displaceable\u001b[39m\u001b[38;5;124m'\u001b[39m)\n\u001b[1;32m      5\u001b[0m     water_ids \u001b[38;5;241m=\u001b[39m np\u001b[38;5;241m.\u001b[39mconcatenate([water_ids_dis, water_ids_non_dis])\n",
      "File \u001b[0;32m~/research/src/analysis/SASA/../../data_loader/SingleDataLoader.py:56\u001b[0m, in \u001b[0;36mSingleDataLoader.get_test_data_and_water_ids\u001b[0;34m(self, pdb_name, dis_or_non)\u001b[0m\n\u001b[1;32m     54\u001b[0m data_path_list \u001b[38;5;241m=\u001b[39m glob\u001b[38;5;241m.\u001b[39mglob(data_path)\n\u001b[1;32m     55\u001b[0m \u001b[38;5;28;01mif\u001b[39;00m \u001b[38;5;28mlen\u001b[39m(data_path_list) \u001b[38;5;241m==\u001b[39m \u001b[38;5;241m0\u001b[39m:\n\u001b[0;32m---> 56\u001b[0m     \u001b[38;5;28;01mraise\u001b[39;00m \u001b[38;5;167;01mFileNotFoundError\u001b[39;00m(\u001b[38;5;124mf\u001b[39m\u001b[38;5;124m'\u001b[39m\u001b[38;5;124mNo data found for \u001b[39m\u001b[38;5;132;01m{\u001b[39;00mpdb_name\u001b[38;5;132;01m}\u001b[39;00m\u001b[38;5;124m'\u001b[39m)\n\u001b[1;32m     57\u001b[0m data_list \u001b[38;5;241m=\u001b[39m []\n\u001b[1;32m     58\u001b[0m water_ids \u001b[38;5;241m=\u001b[39m []\n",
      "\u001b[0;31mFileNotFoundError\u001b[0m: No data found for 1w70"
     ]
    }
   ],
   "source": [
    "for pdb in pdbs[822:]:\n",
    "    print(pdb)\n",
    "    _, water_ids_dis = data_loader.get_test_data_and_water_ids(pdb, 'displaceable')\n",
    "    _, water_ids_non_dis = data_loader.get_test_data_and_water_ids(pdb, 'non_displaceable')\n",
    "    water_ids = np.concatenate([water_ids_dis, water_ids_non_dis])\n",
    "\n",
    "    water_path = os.path.join(pdb_data_dir, pdb, f'pred_O_placed_{pdb}_3.0.pdb')\n",
    "    water_list = []\n",
    "    with open(water_path, 'r') as f:\n",
    "        water_lines = f.readlines()\n",
    "    for line in water_lines:\n",
    "        if line.startswith('ATOM'):\n",
    "            atomic_id = line[7:12].strip() \n",
    "            if int(atomic_id) in water_ids:\n",
    "                line = line[:12] + \"  O \" + line[16:]\n",
    "                line = line[:76] + \" O\" + line[78:]            \n",
    "                water_list.append(line)\n",
    "\n",
    "    pdb_path = os.path.join(pdb_data_dir, pdb, f'{pdb}_min.pdb')\n",
    "    for water_line in water_list:\n",
    "        water_id = water_line[7:12].strip()\n",
    "        water_sasa_path = os.path.join(pdb_data_dir, pdb, f'water_sasa/water_sasa_{water_id}.pdb')\n",
    "        make_dir(water_sasa_path)\n",
    "        with open(pdb_path, 'r') as f:\n",
    "            lines = f.readlines()\n",
    "        lines.append(water_line)\n",
    "        with open(water_sasa_path, 'w') as f:\n",
    "            f.writelines(lines)"
   ]
  },
  {
   "cell_type": "code",
   "execution_count": 16,
   "metadata": {},
   "outputs": [],
   "source": []
  },
  {
   "cell_type": "code",
   "execution_count": 52,
   "metadata": {},
   "outputs": [],
   "source": [
    "pdb_path = os.path.join(pdb_data_dir, pdb, f'{pdb}_min.pdb')\n",
    "for water_line in water_list:\n",
    "    water_id = water_line[7:12].strip()\n",
    "    water_sasa_path = os.path.join(pdb_data_dir, pdb, f'water_sasa/water_sasa_{water_id}.pdb')\n",
    "    with open(pdb_path, 'r') as f:\n",
    "        lines = f.readlines()\n",
    "    lines.append(water_line)\n",
    "    with open(water_sasa_path, 'w') as f:\n",
    "        f.writelines(lines)"
   ]
  },
  {
   "cell_type": "code",
   "execution_count": null,
   "metadata": {},
   "outputs": [],
   "source": []
  }
 ],
 "metadata": {
  "kernelspec": {
   "display_name": "yuki_research",
   "language": "python",
   "name": "python3"
  },
  "language_info": {
   "codemirror_mode": {
    "name": "ipython",
    "version": 3
   },
   "file_extension": ".py",
   "mimetype": "text/x-python",
   "name": "python",
   "nbconvert_exporter": "python",
   "pygments_lexer": "ipython3",
   "version": "3.11.9"
  }
 },
 "nbformat": 4,
 "nbformat_minor": 2
}
