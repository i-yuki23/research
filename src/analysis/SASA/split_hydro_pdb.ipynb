{
 "cells": [
  {
   "cell_type": "code",
   "execution_count": 1,
   "metadata": {},
   "outputs": [],
   "source": [
    "import sys\n",
    "sys.path.append('../..')"
   ]
  },
  {
   "cell_type": "code",
   "execution_count": 2,
   "metadata": {},
   "outputs": [],
   "source": [
    "import matplotlib.pyplot as plt\n",
    "import numpy as np\n",
    "\n",
    "hydrophobicities = np.load('ave_sasa.npy')"
   ]
  },
  {
   "cell_type": "code",
   "execution_count": 3,
   "metadata": {},
   "outputs": [
    {
     "data": {
      "image/png": "[encoded data removed]",
      "text/plain": [
       "<Figure size 1000x600 with 1 Axes>"
      ]
     },
     "metadata": {},
     "output_type": "display_data"
    },
    {
     "name": "stdout",
     "output_type": "stream",
     "text": [
      "6.501756276564121\n"
     ]
    }
   ],
   "source": [
    "plt.figure(figsize=(10, 6))\n",
    "counts, bins, _ = plt.hist(hydrophobicities, bins=30, color='skyblue', edgecolor='black')\n",
    "peak_index = np.argmax(counts)\n",
    "peak_x = (bins[peak_index] + bins[peak_index + 1]) / 2\n",
    "plt.title('Distribution of Average pocket SASA')\n",
    "plt.xlabel('Average pocket SASA')\n",
    "plt.ylabel('Frequency')\n",
    "plt.show()\n",
    "print(peak_x)"
   ]
  },
  {
   "cell_type": "code",
   "execution_count": 4,
   "metadata": {},
   "outputs": [],
   "source": [
    "from lib.pdb import get_all_pdb_names"
   ]
  },
  {
   "cell_type": "code",
   "execution_count": 7,
   "metadata": {},
   "outputs": [],
   "source": [
    "hydrophobic = []\n",
    "hydrophilic = []\n",
    "neutral = []\n",
    "\n",
    "for pdb_name, hydrophobicity in zip(get_all_pdb_names(), hydrophobicities):\n",
    "    if hydrophobicity > 6.5017:\n",
    "        hydrophobic.append(pdb_name)\n",
    "    else:\n",
    "        hydrophilic.append(pdb_name)"
   ]
  },
  {
   "cell_type": "code",
   "execution_count": 8,
   "metadata": {},
   "outputs": [
    {
     "data": {
      "text/plain": [
       "(1545, 1174, 0)"
      ]
     },
     "execution_count": 8,
     "metadata": {},
     "output_type": "execute_result"
    }
   ],
   "source": [
    "len(hydrophilic) ,len(hydrophobic), len(neutral)"
   ]
  },
  {
   "cell_type": "code",
   "execution_count": 10,
   "metadata": {},
   "outputs": [],
   "source": [
    "with open('../../../data/pdb_group/ave_SASA_large_pdb', mode='w') as f:\n",
    "    for pdb in hydrophobic:\n",
    "        f.write(pdb + '\\n')"
   ]
  },
  {
   "cell_type": "code",
   "execution_count": 12,
   "metadata": {},
   "outputs": [],
   "source": [
    "with open('../../../data/pdb_group/ave_SASA_small_pdb', mode='w') as f:\n",
    "    for pdb in hydrophilic:\n",
    "        f.write(pdb + '\\n')"
   ]
  },
  {
   "cell_type": "code",
   "execution_count": 93,
   "metadata": {},
   "outputs": [],
   "source": [
    "with open('../../data/neutral_500_pdb', mode='w') as f:\n",
    "    for pdb in neutral:\n",
    "        f.write(pdb + '\\n')"
   ]
  },
  {
   "cell_type": "code",
   "execution_count": 13,
   "metadata": {},
   "outputs": [],
   "source": [
    "with open('../../../data/train_list', mode='r') as f:\n",
    "    train_pdb_list = f.read().splitlines()\n",
    "with open('../../../data/val_list', mode='r') as f:\n",
    "    val_pdb_list = f.read().splitlines()\n",
    "train_pdb_set = set(train_pdb_list)\n",
    "val_pdb_set = set(val_pdb_list)"
   ]
  },
  {
   "cell_type": "code",
   "execution_count": 14,
   "metadata": {},
   "outputs": [],
   "source": [
    "hydrophobic_set = set(hydrophobic)\n",
    "hydrophilic_set = set(hydrophilic)\n",
    "# neutral_set = set(neutral)"
   ]
  },
  {
   "cell_type": "code",
   "execution_count": 15,
   "metadata": {},
   "outputs": [],
   "source": [
    "test_hydrophobic = list(((train_pdb_set | val_pdb_set) & hydrophobic_set))\n",
    "test_hydrophilic = list(((train_pdb_set | val_pdb_set) & hydrophilic_set))\n",
    "# test_neutral = list(((train_pdb_set | val_pdb_set) & neutral_set))"
   ]
  },
  {
   "cell_type": "code",
   "execution_count": 13,
   "metadata": {},
   "outputs": [],
   "source": [
    "with open('../../../data/train_ave_SASA_large_pdb', mode='w') as f:\n",
    "    for pdb in test_hydrophobic:\n",
    "        f.write(pdb + '\\n')"
   ]
  },
  {
   "cell_type": "code",
   "execution_count": 14,
   "metadata": {},
   "outputs": [],
   "source": [
    "with open('../../../data/train_ave_SASA_small_pdb', mode='w') as f:\n",
    "    for pdb in test_hydrophilic:\n",
    "        f.write(pdb + '\\n')"
   ]
  },
  {
   "cell_type": "code",
   "execution_count": 98,
   "metadata": {},
   "outputs": [],
   "source": [
    "with open('../../data/test_neutral_500_pdb', mode='w') as f:\n",
    "    for pdb in test_neutral:\n",
    "        f.write(pdb + '\\n')"
   ]
  },
  {
   "cell_type": "code",
   "execution_count": null,
   "metadata": {},
   "outputs": [],
   "source": []
  }
 ],
 "metadata": {
  "kernelspec": {
   "display_name": "yuki_research",
   "language": "python",
   "name": "python3"
  },
  "language_info": {
   "codemirror_mode": {
    "name": "ipython",
    "version": 3
   },
   "file_extension": ".py",
   "mimetype": "text/x-python",
   "name": "python",
   "nbconvert_exporter": "python",
   "pygments_lexer": "ipython3",
   "version": "3.10.13"
  }
 },
 "nbformat": 4,
 "nbformat_minor": 2
}
