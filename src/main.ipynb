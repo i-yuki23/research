{
 "cells": [
  {
   "cell_type": "code",
   "execution_count": 1,
   "metadata": {},
   "outputs": [
    {
     "name": "stderr",
     "output_type": "stream",
     "text": [
      "2024-10-22 11:14:05.506912: I tensorflow/core/util/port.cc:153] oneDNN custom operations are on. You may see slightly different numerical results due to floating-point round-off errors from different computation orders. To turn them off, set the environment variable `TF_ENABLE_ONEDNN_OPTS=0`.\n",
      "2024-10-22 11:14:05.520318: E external/local_xla/xla/stream_executor/cuda/cuda_fft.cc:485] Unable to register cuFFT factory: Attempting to register factory for plugin cuFFT when one has already been registered\n",
      "2024-10-22 11:14:05.534502: E external/local_xla/xla/stream_executor/cuda/cuda_dnn.cc:8454] Unable to register cuDNN factory: Attempting to register factory for plugin cuDNN when one has already been registered\n",
      "2024-10-22 11:14:05.538652: E external/local_xla/xla/stream_executor/cuda/cuda_blas.cc:1452] Unable to register cuBLAS factory: Attempting to register factory for plugin cuBLAS when one has already been registered\n",
      "2024-10-22 11:14:05.549468: I tensorflow/core/platform/cpu_feature_guard.cc:210] This TensorFlow binary is optimized to use available CPU instructions in performance-critical operations.\n",
      "To enable the following instructions: AVX2 AVX512F AVX512_VNNI FMA, in other operations, rebuild TensorFlow with the appropriate compiler flags.\n",
      "2024-10-22 11:14:06.154897: W tensorflow/compiler/tf2tensorrt/utils/py_utils.cc:38] TF-TRT Warning: Could not find TensorRT\n"
     ]
    }
   ],
   "source": [
    "import os\n",
    "from data_loader.SingleDataLoader import SingleDataLoader\n",
    "from data_loader.DoubleDataLoader import DoubleDataLoader\n",
    "from models.ResNet_revised import ResNet_revised\n",
    "from trainer.train import train_func\n",
    "from trainer.aug_train import aug_train_func\n",
    "from lib.path import get_training_data_dir\n",
    "from custom_losses.dice import dice_loss, dice_coefficient\n",
    "from tensorflow.keras.metrics import Recall, Precision\n",
    "from tensorflow.keras.losses import BinaryCrossentropy"
   ]
  },
  {
   "cell_type": "code",
   "execution_count": 2,
   "metadata": {},
   "outputs": [
    {
     "name": "stdout",
     "output_type": "stream",
     "text": [
      "Num GPUs Available:  2\n"
     ]
    }
   ],
   "source": [
    "import tensorflow as tf\n",
    "print(\"Num GPUs Available: \", len(tf.config.experimental.list_physical_devices('GPU')))"
   ]
  },
  {
   "cell_type": "code",
   "execution_count": null,
   "metadata": {},
   "outputs": [],
   "source": [
    "data_dir = '../data'\n",
    "train_list = os.path.join(data_dir, 'train.txt')\n",
    "test_list = os.path.join(data_dir, 'test.txt')\n",
    "val_list = os.path.join(data_dir, 'val.txt')"
   ]
  },
  {
   "cell_type": "code",
   "execution_count": null,
   "metadata": {},
   "outputs": [],
   "source": [
    "DATA_TYPE1 = 'gr'\n",
    "# DATA_TYPE2 = 'Protein'\n",
    "DATA_VOXEL_NUM = 10\n",
    "CLASSIFYING_RULE = 'WaterClassifyingRuleEmbedding'\n",
    "LIGAND_POCKET_DEFINER = 'LigandPocketDefinerOriginal'\n",
    "LIGAND_VOXEL_NUM = 8\n",
    "\n",
    "training_data_dir1 = get_training_data_dir(DATA_TYPE1, DATA_VOXEL_NUM, CLASSIFYING_RULE, LIGAND_POCKET_DEFINER, LIGAND_VOXEL_NUM)"
   ]
  },
  {
   "cell_type": "code",
   "execution_count": null,
   "metadata": {},
   "outputs": [],
   "source": [
    "data_loader = SingleDataLoader(training_data_dir1)"
   ]
  },
  {
   "cell_type": "code",
   "execution_count": null,
   "metadata": {},
   "outputs": [],
   "source": [
    "train_data, train_labels = data_loader.load_data(train_list)\n",
    "test_data, test_labels = data_loader.load_data(test_list)\n",
    "val_data, val_labels = data_loader.load_data(val_list)"
   ]
  },
  {
   "cell_type": "code",
   "execution_count": null,
   "metadata": {},
   "outputs": [],
   "source": [
    "print('Train data shape: ', train_data.shape)\n",
    "print('Train labels shape: ', train_labels.shape)\n",
    "print('Test data shape: ', test_data.shape)\n",
    "print('Test labels shape: ', test_labels.shape)\n",
    "print('Val data shape: ', val_data.shape)\n",
    "print('Val labels shape: ', val_labels.shape)"
   ]
  },
  {
   "cell_type": "code",
   "execution_count": null,
   "metadata": {},
   "outputs": [],
   "source": [
    "input_shape = (DATA_VOXEL_NUM*2+1, DATA_VOXEL_NUM*2+1, DATA_VOXEL_NUM*2+1, train_data.shape[-1])\n",
    "epochs = 100\n",
    "batch_size = 128\n",
    "n_base = 32\n",
    "learning_rate = 1e-4\n",
    "early_stopping = 40\n",
    "BN = True\n",
    "dropout = 0.5\n",
    "model_func = ResNet_revised\n",
    "MODEL_NAME = model_func.__name__\n",
    "TRAINER_NAME = 'normal_train'\n",
    "losses = [BinaryCrossentropy(), dice_loss]\n",
    "loss= losses[0]\n",
    "metrics = ['accuracy', dice_coefficient, Recall(), Precision()]\n",
    "path_type = f'/{DATA_TYPE1}/data_voxel_num_{DATA_VOXEL_NUM}/{LIGAND_POCKET_DEFINER}/ligand_pocket_voxel_num_{LIGAND_VOXEL_NUM}/{CLASSIFYING_RULE}/{MODEL_NAME}/{TRAINER_NAME}/'\n",
    "# path_type = f'/{DATA_TYPE1}_{DATA_TYPE2}/data_voxel_num_{DATA_VOXEL_NUM}/{LIGAND_POCKET_DEFINER}/ligand_pocket_voxel_num_{LIGAND_VOXEL_NUM}/{CLASSIFYING_RULE}/{MODEL_NAME}/{TRAINER_NAME}/'\n",
    "\n",
    "checkpoint_path = f\"./checkpoints/{path_type}/\" + \"cp-{epoch:04d}.weights.h5\"\n",
    "model_checkpoint = True"
   ]
  },
  {
   "cell_type": "code",
   "execution_count": null,
   "metadata": {},
   "outputs": [],
   "source": [
    "pos = train_labels.sum()\n",
    "neg = train_labels.shape[0] - pos\n",
    "total = train_labels.shape[0]\n",
    "\n",
    "weight_for_0 = (1 / neg) * (total / 2.0)\n",
    "weight_for_1 = (1 / pos) * (total / 2.0)\n",
    "class_weight = {0: weight_for_0, 1: weight_for_1}\n",
    "print(class_weight)"
   ]
  },
  {
   "cell_type": "code",
   "execution_count": null,
   "metadata": {},
   "outputs": [],
   "source": [
    "# clf, clf_hist = aug_train_func(\n",
    "#                                 x_train=train_data,\n",
    "#                                 y_train=train_labels,\n",
    "#                                 x_val=val_data,\n",
    "#                                 y_val=val_labels,\n",
    "#                                 input_shape=input_shape,\n",
    "#                                 model_func=model_func,\n",
    "#                                 loss=loss,\n",
    "#                                 metrics=metrics,\n",
    "#                                 epochs=epochs,\n",
    "#                                 batch_size=batch_size,\n",
    "#                                 num_rotations=1,\n",
    "#                                 angle_unit=45,\n",
    "#                                 n_base=n_base,\n",
    "#                                 learning_rate=learning_rate,\n",
    "#                                 early_stopping=early_stopping,\n",
    "#                                 checkpoint_path=checkpoint_path,\n",
    "#                                 model_checkpoint=model_checkpoint,\n",
    "#                                 class_weight=class_weight,\n",
    "#                                 BN = BN,\n",
    "#                                 dropout=dropout\n",
    "#                             )"
   ]
  },
  {
   "cell_type": "code",
   "execution_count": null,
   "metadata": {},
   "outputs": [],
   "source": [
    "clf, clf_hist, clf_eval = train_func(\n",
    "                                    x_train=train_data,\n",
    "                                    y_train=train_labels,\n",
    "                                    x_test=test_data,\n",
    "                                    y_test=test_labels,\n",
    "                                    x_val=val_data,\n",
    "                                    y_val=val_labels,\n",
    "                                    input_shape=input_shape,\n",
    "                                    model_func=model_func,\n",
    "                                    loss=loss,\n",
    "                                    metrics=metrics,\n",
    "                                    epochs=epochs,\n",
    "                                    batch_size=batch_size,\n",
    "                                    n_base=n_base,\n",
    "                                    learning_rate=learning_rate,\n",
    "                                    early_stopping=early_stopping,\n",
    "                                    checkpoint_path=checkpoint_path,\n",
    "                                    model_checkpoint=model_checkpoint,\n",
    "                                    class_weight=class_weight,\n",
    "                                    BN = BN,\n",
    "                                    dropout=dropout\n",
    "                                )"
   ]
  },
  {
   "cell_type": "code",
   "execution_count": null,
   "metadata": {},
   "outputs": [],
   "source": [
    "prediction = clf.predict(test_data)"
   ]
  },
  {
   "cell_type": "markdown",
   "metadata": {},
   "source": []
  },
  {
   "cell_type": "code",
   "execution_count": null,
   "metadata": {},
   "outputs": [],
   "source": [
    "prediction.round().sum()"
   ]
  }
 ],
 "metadata": {
  "kernelspec": {
   "display_name": "yuki_research",
   "language": "python",
   "name": "python3"
  },
  "language_info": {
   "codemirror_mode": {
    "name": "ipython",
    "version": 3
   },
   "file_extension": ".py",
   "mimetype": "text/x-python",
   "name": "python",
   "nbconvert_exporter": "python",
   "pygments_lexer": "ipython3",
   "version": "3.11.9"
  }
 },
 "nbformat": 4,
 "nbformat_minor": 2
}
