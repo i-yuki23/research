{
 "cells": [
  {
   "cell_type": "markdown",
   "metadata": {},
   "source": [
    "### 分類した水分子を表にする"
   ]
  },
  {
   "cell_type": "code",
   "execution_count": 1,
   "metadata": {},
   "outputs": [],
   "source": [
    "import sys \n",
    "sys.path.append('..')"
   ]
  },
  {
   "cell_type": "code",
   "execution_count": 2,
   "metadata": {},
   "outputs": [],
   "source": [
    "import numpy as np\n",
    "import os\n",
    "import pandas as pd\n",
    "from lib.plot import plot_histogram\n",
    "import matplotlib.pyplot as plt\n",
    "from lib.path import get_analysis_results_labeled_water_path"
   ]
  },
  {
   "cell_type": "code",
   "execution_count": 6,
   "metadata": {},
   "outputs": [],
   "source": [
    "DATA_INFO_START = 7\n",
    "DATA_INFO_END = 10"
   ]
  },
  {
   "cell_type": "code",
   "execution_count": 3,
   "metadata": {},
   "outputs": [],
   "source": [
    "def get_df_info(labeled_water_num_path):\n",
    "    df = pd.read_csv(labeled_water_num_path)\n",
    "    \n",
    "    total_displaceable = df['displaceable_water_num'].sum()\n",
    "    total_non_displaceable = df['non_displaceable_water_num'].sum()\n",
    "    total_water_num = total_displaceable + total_non_displaceable\n",
    "\n",
    "    summary_stats = df.describe()\n",
    "    dis_mean = summary_stats['displaceable_water_num']['mean']\n",
    "    dis_std = summary_stats['displaceable_water_num']['std']\n",
    "\n",
    "    non_dis_mean = summary_stats['non_displaceable_water_num']['mean']\n",
    "    non_dis_std = summary_stats['non_displaceable_water_num']['std']\n",
    "\n",
    "    path_info = labeled_water_num_path.split(\"/\")\n",
    "\n",
    "    return df, path_info[DATA_INFO_START:DATA_INFO_END], int(total_water_num), f\"dis: {int(total_displaceable)} ({dis_mean:.2f}±{dis_std:.2f})\", f\"non: {int(total_non_displaceable)} ({non_dis_mean:.2f}±{non_dis_std:.2f})\""
   ]
  },
  {
   "cell_type": "code",
   "execution_count": 4,
   "metadata": {},
   "outputs": [],
   "source": [
    "ligand_voxel_nums = [10, 9, 8, 6, 4]\n",
    "classifying_rule_names = [\"WaterClassifyingRuleCenter\", \"WaterClassifyingRuleSurface\"]\n",
    "ligand_pocket_definer_names = [\"LigandPocketDefinerGhecom\", \"LigandPocketDefinerOriginal\"]"
   ]
  },
  {
   "cell_type": "code",
   "execution_count": 7,
   "metadata": {},
   "outputs": [],
   "source": [
    "ligand_voxel_num = ligand_voxel_nums[2]\n",
    "classifying_rule = classifying_rule_names[1]\n",
    "ligand_pocket_definer = ligand_pocket_definer_names[1]\n",
    "\n",
    "labeled_water_num_path = get_analysis_results_labeled_water_path(ligand_voxel_num, classifying_rule, ligand_pocket_definer)\n",
    "df_info = get_df_info(labeled_water_num_path)"
   ]
  },
  {
   "cell_type": "code",
   "execution_count": 8,
   "metadata": {},
   "outputs": [
    {
     "data": {
      "text/plain": [
       "(['LigandPocketDefinerOriginal',\n",
       "  'ligand_pocket_voxel_num_8',\n",
       "  'WaterClassifyingRuleSurface'],\n",
       " 74138,\n",
       " 'dis: 38591 (14.19±7.69)',\n",
       " 'non: 35547 (13.07±6.99)')"
      ]
     },
     "execution_count": 8,
     "metadata": {},
     "output_type": "execute_result"
    }
   ],
   "source": [
    "df_info[1:]"
   ]
  },
  {
   "cell_type": "code",
   "execution_count": 9,
   "metadata": {},
   "outputs": [],
   "source": [
    "df = df_info[0]"
   ]
  },
  {
   "cell_type": "code",
   "execution_count": 10,
   "metadata": {},
   "outputs": [
    {
     "data": {
      "text/html": [
       "<div>\n",
       "<style scoped>\n",
       "    .dataframe tbody tr th:only-of-type {\n",
       "        vertical-align: middle;\n",
       "    }\n",
       "\n",
       "    .dataframe tbody tr th {\n",
       "        vertical-align: top;\n",
       "    }\n",
       "\n",
       "    .dataframe thead th {\n",
       "        text-align: right;\n",
       "    }\n",
       "</style>\n",
       "<table border=\"1\" class=\"dataframe\">\n",
       "  <thead>\n",
       "    <tr style=\"text-align: right;\">\n",
       "      <th></th>\n",
       "      <th>pdb_name</th>\n",
       "      <th>displaceable_water_num</th>\n",
       "      <th>non_displaceable_water_num</th>\n",
       "    </tr>\n",
       "  </thead>\n",
       "  <tbody>\n",
       "    <tr>\n",
       "      <th>0</th>\n",
       "      <td>1qan</td>\n",
       "      <td>18.0</td>\n",
       "      <td>8.0</td>\n",
       "    </tr>\n",
       "    <tr>\n",
       "      <th>1</th>\n",
       "      <td>2oxd</td>\n",
       "      <td>11.0</td>\n",
       "      <td>10.0</td>\n",
       "    </tr>\n",
       "    <tr>\n",
       "      <th>2</th>\n",
       "      <td>3t0b</td>\n",
       "      <td>11.0</td>\n",
       "      <td>10.0</td>\n",
       "    </tr>\n",
       "    <tr>\n",
       "      <th>3</th>\n",
       "      <td>4sga</td>\n",
       "      <td>24.0</td>\n",
       "      <td>12.0</td>\n",
       "    </tr>\n",
       "    <tr>\n",
       "      <th>4</th>\n",
       "      <td>10gs</td>\n",
       "      <td>22.0</td>\n",
       "      <td>24.0</td>\n",
       "    </tr>\n",
       "    <tr>\n",
       "      <th>...</th>\n",
       "      <td>...</td>\n",
       "      <td>...</td>\n",
       "      <td>...</td>\n",
       "    </tr>\n",
       "    <tr>\n",
       "      <th>2714</th>\n",
       "      <td>5dey</td>\n",
       "      <td>18.0</td>\n",
       "      <td>20.0</td>\n",
       "    </tr>\n",
       "    <tr>\n",
       "      <th>2715</th>\n",
       "      <td>5dhu</td>\n",
       "      <td>3.0</td>\n",
       "      <td>4.0</td>\n",
       "    </tr>\n",
       "    <tr>\n",
       "      <th>2716</th>\n",
       "      <td>5dit</td>\n",
       "      <td>29.0</td>\n",
       "      <td>23.0</td>\n",
       "    </tr>\n",
       "    <tr>\n",
       "      <th>2717</th>\n",
       "      <td>5dlx</td>\n",
       "      <td>21.0</td>\n",
       "      <td>21.0</td>\n",
       "    </tr>\n",
       "    <tr>\n",
       "      <th>2718</th>\n",
       "      <td>5dq8</td>\n",
       "      <td>6.0</td>\n",
       "      <td>0.0</td>\n",
       "    </tr>\n",
       "  </tbody>\n",
       "</table>\n",
       "<p>2719 rows × 3 columns</p>\n",
       "</div>"
      ],
      "text/plain": [
       "     pdb_name  displaceable_water_num  non_displaceable_water_num\n",
       "0        1qan                    18.0                         8.0\n",
       "1        2oxd                    11.0                        10.0\n",
       "2        3t0b                    11.0                        10.0\n",
       "3        4sga                    24.0                        12.0\n",
       "4        10gs                    22.0                        24.0\n",
       "...       ...                     ...                         ...\n",
       "2714     5dey                    18.0                        20.0\n",
       "2715     5dhu                     3.0                         4.0\n",
       "2716     5dit                    29.0                        23.0\n",
       "2717     5dlx                    21.0                        21.0\n",
       "2718     5dq8                     6.0                         0.0\n",
       "\n",
       "[2719 rows x 3 columns]"
      ]
     },
     "execution_count": 10,
     "metadata": {},
     "output_type": "execute_result"
    }
   ],
   "source": [
    "df"
   ]
  },
  {
   "cell_type": "markdown",
   "metadata": {},
   "source": [
    "## 水分子のヒストグラム"
   ]
  },
  {
   "cell_type": "code",
   "execution_count": 19,
   "metadata": {},
   "outputs": [
    {
     "data": {
      "text/plain": [
       "Text(0, 0.5, 'Frequency')"
      ]
     },
     "execution_count": 19,
     "metadata": {},
     "output_type": "execute_result"
    },
    {
     "data": {
      "image/png": "[encoded data removed]",
      "text/plain": [
       "<Figure size 800x600 with 1 Axes>"
      ]
     },
     "metadata": {},
     "output_type": "display_data"
    }
   ],
   "source": [
    "# 総水分子数の列を追加\n",
    "df['total_water_num'] = df['displaceable_water_num'] + df['non_displaceable_water_num']\n",
    "\n",
    "# ヒストグラムの作成\n",
    "plt.figure(figsize=(8, 6))\n",
    "plt.hist(df['total_water_num'], bins=40, color='purple', edgecolor='black')\n",
    "plt.title('Histogram of Total Water Numbers')\n",
    "plt.xlabel('Total Water Number')\n",
    "plt.ylabel('Frequency')"
   ]
  },
  {
   "cell_type": "code",
   "execution_count": 14,
   "metadata": {},
   "outputs": [
    {
     "data": {
      "image/png": "[encoded data removed]",
      "text/plain": [
       "<Figure size 1400x600 with 2 Axes>"
      ]
     },
     "metadata": {},
     "output_type": "display_data"
    }
   ],
   "source": [
    "# Plot histograms\n",
    "plt.figure(figsize=(14, 6))\n",
    "\n",
    "# Histogram for displaceable_water_num\n",
    "plt.subplot(1, 2, 1)\n",
    "plt.hist(df['displaceable_water_num'], bins=40, color='blue', edgecolor='black')\n",
    "plt.title('Histogram of Displaceable Water Numbers')\n",
    "plt.xlabel('Displaceable Water Number')\n",
    "plt.ylabel('Frequency')\n",
    "\n",
    "# Histogram for non_displaceable_water_num\n",
    "plt.subplot(1, 2, 2)\n",
    "plt.hist(df['non_displaceable_water_num'], bins=40, color='green', edgecolor='black')\n",
    "plt.title('Histogram of Non-displaceable Water Numbers')\n",
    "plt.xlabel('Non-displaceable Water Number')\n",
    "plt.ylabel('Frequency')\n",
    "\n",
    "plt.tight_layout()\n",
    "plt.show()"
   ]
  },
  {
   "cell_type": "markdown",
   "metadata": {},
   "source": [
    "### dis, nonの水分子のpdbをゲット→たんぱく質ごとに数を数える→個数が違うやつを見つける"
   ]
  },
  {
   "cell_type": "code",
   "execution_count": 10,
   "metadata": {},
   "outputs": [],
   "source": [
    "labeled_water_num_path_center = get_analysis_results_labeled_water_path(ligand_voxel_nums[0], classifying_rule_names[0], ligand_pocket_definer_names[1])\n",
    "df_info_center = get_df_info(labeled_water_num_path_center)\n",
    "\n",
    "center_total_water_nums = {}\n",
    "for row in df_info_center[0].iterrows():\n",
    "    total_water_num_in_protein = row[1]['displaceable_water_num'] + row[1]['non_displaceable_water_num']\n",
    "    center_total_water_nums[row[1]['pdb_name']] = total_water_num_in_protein\n"
   ]
  },
  {
   "cell_type": "code",
   "execution_count": 11,
   "metadata": {},
   "outputs": [],
   "source": [
    "labeled_water_num_path_surface = get_analysis_results_labeled_water_path(ligand_voxel_nums[0], classifying_rule_names[1], ligand_pocket_definer_names[1])\n",
    "df_info_surface = get_df_info(labeled_water_num_path_surface)\n",
    "\n",
    "surface_total_water_nums = {}\n",
    "for row in df_info_surface[0].iterrows():\n",
    "    total_water_num_in_protein = row[1]['displaceable_water_num'] + row[1]['non_displaceable_water_num']\n",
    "    surface_total_water_nums[row[1]['pdb_name']] = total_water_num_in_protein"
   ]
  },
  {
   "cell_type": "code",
   "execution_count": 12,
   "metadata": {},
   "outputs": [
    {
     "data": {
      "text/plain": [
       "104483.0"
      ]
     },
     "execution_count": 12,
     "metadata": {},
     "output_type": "execute_result"
    }
   ],
   "source": [
    "sum(center_total_water_nums.values())"
   ]
  },
  {
   "cell_type": "code",
   "execution_count": 13,
   "metadata": {},
   "outputs": [
    {
     "data": {
      "text/plain": [
       "104483.0"
      ]
     },
     "execution_count": 13,
     "metadata": {},
     "output_type": "execute_result"
    }
   ],
   "source": [
    "sum(surface_total_water_nums.values())"
   ]
  },
  {
   "cell_type": "code",
   "execution_count": 14,
   "metadata": {},
   "outputs": [],
   "source": [
    "for center_total_water_num, surface_total_water_num in zip(center_total_water_nums.items(), surface_total_water_nums.items()):\n",
    "    if center_total_water_num[1] != surface_total_water_num[1]:\n",
    "        print(center_total_water_num[0])\n",
    "        print(center_total_water_num[1], surface_total_water_num[1])\n",
    "        # if center_total_water_num.values() != surface_total_water_num.values():\n",
    "        #     print(f\"{center_total_water_num}\")\n"
   ]
  },
  {
   "cell_type": "code",
   "execution_count": null,
   "metadata": {},
   "outputs": [],
   "source": []
  }
 ],
 "metadata": {
  "kernelspec": {
   "display_name": "yuki_research",
   "language": "python",
   "name": "python3"
  },
  "language_info": {
   "codemirror_mode": {
    "name": "ipython",
    "version": 3
   },
   "file_extension": ".py",
   "mimetype": "text/x-python",
   "name": "python",
   "nbconvert_exporter": "python",
   "pygments_lexer": "ipython3",
   "version": "3.10.13"
  }
 },
 "nbformat": 4,
 "nbformat_minor": 2
}
