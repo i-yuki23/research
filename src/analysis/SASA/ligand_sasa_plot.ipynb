{
 "cells": [
  {
   "cell_type": "code",
   "execution_count": 1,
   "metadata": {},
   "outputs": [],
   "source": [
    "import sys\n",
    "sys.path.append('../..')"
   ]
  },
  {
   "cell_type": "code",
   "execution_count": 2,
   "metadata": {},
   "outputs": [],
   "source": [
    "from lib.pdb import get_pdb_names_by_txt"
   ]
  },
  {
   "cell_type": "code",
   "execution_count": 3,
   "metadata": {},
   "outputs": [],
   "source": [
    "import matplotlib.pyplot as plt\n",
    "import numpy as np\n",
    "\n",
    "ligand_sasa = np.load('ligand_sasa_general.npy')"
   ]
  },
  {
   "cell_type": "code",
   "execution_count": 4,
   "metadata": {},
   "outputs": [
    {
     "name": "stdout",
     "output_type": "stream",
     "text": [
      "\n"
     ]
    }
   ],
   "source": [
    "single_pocket_proteins = np.array(get_pdb_names_by_txt('/home/ito/research/data/monomer_general_protein.txt'))\n",
    "print()"
   ]
  },
  {
   "cell_type": "code",
   "execution_count": 25,
   "metadata": {},
   "outputs": [
    {
     "ename": "TypeError",
     "evalue": "ufunc 'bitwise_and' not supported for the input types, and the inputs could not be safely coerced to any supported types according to the casting rule ''safe''",
     "output_type": "error",
     "traceback": [
      "\u001b[0;31m---------------------------------------------------------------------------\u001b[0m",
      "\u001b[0;31mTypeError\u001b[0m                                 Traceback (most recent call last)",
      "Cell \u001b[0;32mIn[25], line 1\u001b[0m\n\u001b[0;32m----> 1\u001b[0m (ligand_sasa \u001b[38;5;241m>\u001b[39m \u001b[38;5;241;43m0.19\u001b[39;49m\u001b[43m \u001b[49m\u001b[38;5;241;43m&\u001b[39;49m\u001b[43m \u001b[49m\u001b[43mligand_sasa\u001b[49m \u001b[38;5;241m<\u001b[39m \u001b[38;5;241m0.2\u001b[39m)\n",
      "\u001b[0;31mTypeError\u001b[0m: ufunc 'bitwise_and' not supported for the input types, and the inputs could not be safely coerced to any supported types according to the casting rule ''safe''"
     ]
    }
   ],
   "source": [
    "ligand_sasa > 0.19 & ligand_sasa < 0.2"
   ]
  },
  {
   "cell_type": "code",
   "execution_count": 33,
   "metadata": {},
   "outputs": [
    {
     "data": {
      "text/plain": [
       "array(['1ugy', '4x9w', '1skj', '1eol', '1r6n', '1kne', '4e3b', '4j82',\n",
       "       '3w69', '1tyn', '1a1c', '2eum', '3d6q', '3mpf', '4bh3', '4o75',\n",
       "       '4hlw', '3d8y', '1p4u', '1ntv', '3so6', '2bdl', '3k26', '5ku3',\n",
       "       '3l5c', '4tmp', '4lkm', '5dhq', '4erq', '4ge5', '3dxh', '1bkm',\n",
       "       '4rh5', '4j81', '5a2j', '1u9v', '3bun', '3kwz', '4jjq', '4nud',\n",
       "       '4abv', '3r69', '5fow', '3dxg', '4ge2', '1n4m', '4os6', '1qja',\n",
       "       '5ivn', '2qbx', '1f8a', '4e9c', '4ezo', '4aif', '1pdq', '3uvm',\n",
       "       '4kza', '4uyh', '4d8i', '4ps5', '2ig0', '1at6', '4z2k', '2veu',\n",
       "       '3bzi', '1wdy', '4mz6', '1w2h', '2zgm', '4os1', '3uvu', '5dhp',\n",
       "       '1evh', '4od7', '4hyb', '2yns', '3wdc', '2hdx', '4j51', '1lqf',\n",
       "       '3wde', '1o46', '4yv8', '2co0', '3hbo', '4gq6', '1utc', '1y57',\n",
       "       '4gwk', '1i3z', '3tl0', '1o4h', '4b60', '3wdd', '3arv', '3fdm',\n",
       "       '4x3h', '1eoj', '1d4w', '5agv', '3jzr', '3arz', '4j78', '2xoi',\n",
       "       '1u9x', '4okp', '4j77', '5ez0', '3bc3', '4tzq', '4drn', '1t7f',\n",
       "       '2asu', '1d4t', '4ff8', '2hdr', '2itk', '5e1o', '1o49', '5lj2',\n",
       "       '1is0', '3mxr', '1njj', '4jfw', '1tyr', '3oq5', '1n1g', '4ijl',\n",
       "       '3bux', '4e81', '3qnj', '4ezw', '4bg6', '4b8p', '4os2', '1iht',\n",
       "       '3mea', '5j19', '3lxs', '5hfb', '3tkh', '1wb0', '5a2k', '1qjb',\n",
       "       '5dw1', '1y2g', '3bho', '4hy9', '4tky', '4lkl', '4nmp', '3q5u',\n",
       "       '4ot6', '4erz', '4x9r', '3diw', '1a1b', '3tpx', '4o76', '2nwn',\n",
       "       '3g2t', '4url', '2g8r', '3b5j', '1q4k', '4ba3', '5dms', '3er5',\n",
       "       '4ipf', '1kna', '3ur0', '3sov', '4mzk', '5gu4', '5hed', '4j84',\n",
       "       '4b8o', '5e1m', '3d7b', '4apo', '2hdu', '4qtc', '4tzm', '3l3q',\n",
       "       '1o47', '4j73', '2cne', '3kwn', '5d75', '3q0z', '4ge6', '1ynd',\n",
       "       '3t0w', '3evc', '4bh4', '5dlz', '3mxs', '5eyz', '4o4r', '5heb',\n",
       "       '3l6x', '5cvd', '4k72', '4a9c', '2yg2', '3mp6', '5hf1', '1aq7',\n",
       "       '1a08', '3rz9', '4u5v', '4drk', '5huy', '5ee7', '3qn7', '3q8d',\n",
       "       '4zhm', '1rwq', '1bm2', '2h6k', '1shd', '5jr2', '1aj6', '3obu',\n",
       "       '4wyp', '4jj7', '1w1d', '3wiy', '5ijj', '3hik', '2ynr', '2ymt',\n",
       "       '3hiv', '1nmk', '5em9', '4hva', '5e1d', '3uvo', '3m94', '5lcj',\n",
       "       '3uvk', '4mr4', '1umw', '4drp', '5f2f', '3d9n', '3kx1', '5du4',\n",
       "       '3d9m', '4joh', '3obx', '3hio', '3zqt', '2a3b', '3al3', '5huw',\n",
       "       '1j07', '3i91', '5e1b', '4o36', '1o4j', '3nfl'], dtype='<U4')"
      ]
     },
     "execution_count": 33,
     "metadata": {},
     "output_type": "execute_result"
    }
   ],
   "source": [
    "single_pocket_proteins[(ligand_sasa > 0.4) & (ligand_sasa < 0.5)]"
   ]
  },
  {
   "cell_type": "code",
   "execution_count": 34,
   "metadata": {},
   "outputs": [
    {
     "name": "stdout",
     "output_type": "stream",
     "text": [
      "ファイルのコピーが完了しました。\n"
     ]
    }
   ],
   "source": [
    "import shutil\n",
    "\n",
    "# コピー元のファイルパス\n",
    "pdb = '1ugy'\n",
    "source_file1 = f'/mnt/ito/pdbbind_raw/general_set/{pdb}/{pdb}_complex.pdb'\n",
    "# source_file2 = f'/mnt/dandan/3drism/dir_3DRISM_20181213_155211/{pdb}/{pdb}_ligand.pdb'\n",
    "\n",
    "# コピー先のディレクトリ\n",
    "destination_directory = '/home/ito/research/'\n",
    "\n",
    "# ファイルをコピー\n",
    "shutil.copy(source_file1, destination_directory)\n",
    "# shutil.copy(source_file2, destination_directory)\n",
    "\n",
    "print(\"ファイルのコピーが完了しました。\")"
   ]
  },
  {
   "cell_type": "code",
   "execution_count": 5,
   "metadata": {},
   "outputs": [],
   "source": [
    "indices = np.where(ligand_sasa < 0.01822527)[0]\n",
    "fully_surrounded_proteins = np.array(single_pocket_proteins)[indices]"
   ]
  },
  {
   "cell_type": "code",
   "execution_count": 6,
   "metadata": {},
   "outputs": [
    {
     "name": "stdout",
     "output_type": "stream",
     "text": [
      "3793\n"
     ]
    }
   ],
   "source": [
    "valid_proteins = single_pocket_proteins[~np.isin(single_pocket_proteins, fully_surrounded_proteins)]\n",
    "print(single_pocket_proteins.shape[0] - fully_surrounded_proteins.shape[0])"
   ]
  },
  {
   "cell_type": "code",
   "execution_count": 14,
   "metadata": {},
   "outputs": [],
   "source": [
    "with open('/home/ito/research/data/general_valid_proteins.txt', 'w') as f:\n",
    "    for protein in valid_proteins:\n",
    "        if protein == '3ppm':\n",
    "            continue\n",
    "        f.write(f'{protein}\\n')"
   ]
  },
  {
   "cell_type": "code",
   "execution_count": 38,
   "metadata": {},
   "outputs": [
    {
     "data": {
      "text/plain": [
       "(191,)"
      ]
     },
     "execution_count": 38,
     "metadata": {},
     "output_type": "execute_result"
    }
   ],
   "source": [
    "ligand_sasa[ligand_sasa < 0.01256868].shape\n",
    "# 0.05, 0.1"
   ]
  },
  {
   "cell_type": "code",
   "execution_count": 5,
   "metadata": {},
   "outputs": [
    {
     "data": {
      "text/plain": [
       "array([], dtype=int64)"
      ]
     },
     "execution_count": 5,
     "metadata": {},
     "output_type": "execute_result"
    }
   ],
   "source": [
    "indices = np.where((ligand_sasa > 49) & (ligand_sasa < 50))[0]\n",
    "indices"
   ]
  },
  {
   "cell_type": "code",
   "execution_count": 6,
   "metadata": {},
   "outputs": [],
   "source": []
  },
  {
   "cell_type": "code",
   "execution_count": 7,
   "metadata": {},
   "outputs": [
    {
     "data": {
      "text/plain": [
       "'1c5x'"
      ]
     },
     "execution_count": 7,
     "metadata": {},
     "output_type": "execute_result"
    }
   ],
   "source": [
    "all_protein[852]"
   ]
  },
  {
   "cell_type": "code",
   "execution_count": 8,
   "metadata": {},
   "outputs": [
    {
     "data": {
      "text/plain": [
       "array([], dtype=float64)"
      ]
     },
     "execution_count": 8,
     "metadata": {},
     "output_type": "execute_result"
    }
   ],
   "source": [
    "ligand_sasa[indices]"
   ]
  },
  {
   "cell_type": "code",
   "execution_count": 7,
   "metadata": {},
   "outputs": [
    {
     "name": "stdout",
     "output_type": "stream",
     "text": [
      "[0.         0.01822527 0.03645054 0.05467581 0.07290108 0.09112635\n",
      " 0.10935163 0.1275769  0.14580217 0.16402744 0.18225271 0.20047798\n",
      " 0.21870325 0.23692852 0.25515379 0.27337906 0.29160433 0.30982961\n",
      " 0.32805488 0.34628015 0.36450542 0.38273069 0.40095596 0.41918123\n",
      " 0.4374065  0.45563177 0.47385704 0.49208232 0.51030759 0.52853286\n",
      " 0.54675813 0.5649834  0.58320867 0.60143394 0.61965921 0.63788448\n",
      " 0.65610975 0.67433502 0.6925603  0.71078557 0.72901084 0.74723611\n",
      " 0.76546138 0.78368665 0.80191192 0.82013719 0.83836246 0.85658773\n",
      " 0.874813   0.89303828 0.91126355]\n"
     ]
    },
    {
     "data": {
      "image/png": "[encoded data removed]",
      "text/plain": [
       "<Figure size 1000x600 with 1 Axes>"
      ]
     },
     "metadata": {},
     "output_type": "display_data"
    },
    {
     "name": "stdout",
     "output_type": "stream",
     "text": [
      "0.15491480295841648\n"
     ]
    }
   ],
   "source": [
    "plt.figure(figsize=(10, 6))\n",
    "counts, bins, _ = plt.hist(ligand_sasa, bins=50, color='skyblue', edgecolor='black')\n",
    "print(bins)\n",
    "peak_index = np.argmax(counts)\n",
    "peak_x = (bins[peak_index] + bins[peak_index + 1]) / 2\n",
    "plt.title('Distribution of Ligand SASA')\n",
    "plt.xlabel('Ligand SASA')\n",
    "plt.ylabel('Frequency')\n",
    "plt.show()\n",
    "print(peak_x)"
   ]
  },
  {
   "cell_type": "code",
   "execution_count": 4,
   "metadata": {},
   "outputs": [],
   "source": [
    "from lib.pdb import get_all_pdb_names"
   ]
  },
  {
   "cell_type": "code",
   "execution_count": 5,
   "metadata": {},
   "outputs": [],
   "source": [
    "hydrophobic = []\n",
    "hydrophilic = []\n",
    "neutral = []\n",
    "\n",
    "for pdb_name, hydrophobicity in zip(get_all_pdb_names(), hydrophobicities):\n",
    "    if hydrophobicity > 9:\n",
    "        hydrophobic.append(pdb_name)\n",
    "    else:\n",
    "        hydrophilic.append(pdb_name)"
   ]
  },
  {
   "cell_type": "code",
   "execution_count": 6,
   "metadata": {},
   "outputs": [
    {
     "data": {
      "text/plain": [
       "(2354, 365, 0)"
      ]
     },
     "execution_count": 6,
     "metadata": {},
     "output_type": "execute_result"
    }
   ],
   "source": [
    "len(hydrophilic) ,len(hydrophobic), len(neutral)"
   ]
  },
  {
   "cell_type": "code",
   "execution_count": 6,
   "metadata": {},
   "outputs": [],
   "source": [
    "with open('../../../data/pdb_group/ave_SASA_large_9_pdb', mode='w') as f:\n",
    "    for pdb in hydrophobic:\n",
    "        f.write(pdb + '\\n')"
   ]
  },
  {
   "cell_type": "code",
   "execution_count": 7,
   "metadata": {},
   "outputs": [],
   "source": [
    "with open('../../../data/pdb_group/ave_SASA_small_9_pdb', mode='w') as f:\n",
    "    for pdb in hydrophilic:\n",
    "        f.write(pdb + '\\n')"
   ]
  },
  {
   "cell_type": "code",
   "execution_count": 93,
   "metadata": {},
   "outputs": [],
   "source": [
    "with open('../../data/neutral_500_pdb', mode='w') as f:\n",
    "    for pdb in neutral:\n",
    "        f.write(pdb + '\\n')"
   ]
  },
  {
   "cell_type": "code",
   "execution_count": 8,
   "metadata": {},
   "outputs": [],
   "source": [
    "with open('../../../data/train_list', mode='r') as f:\n",
    "    train_pdb_list = f.read().splitlines()\n",
    "with open('../../../data/val_list', mode='r') as f:\n",
    "    val_pdb_list = f.read().splitlines()\n",
    "train_pdb_set = set(train_pdb_list)\n",
    "val_pdb_set = set(val_pdb_list)"
   ]
  },
  {
   "cell_type": "code",
   "execution_count": 8,
   "metadata": {},
   "outputs": [],
   "source": [
    "with open('../../../data/test_list', mode='r') as f:\n",
    "    test_pdb_list = f.read().splitlines()\n",
    "test_pdb_set = set(test_pdb_list)\n"
   ]
  },
  {
   "cell_type": "code",
   "execution_count": 9,
   "metadata": {},
   "outputs": [],
   "source": [
    "hydrophobic_set = set(hydrophobic)\n",
    "hydrophilic_set = set(hydrophilic)\n",
    "# neutral_set = set(neutral)"
   ]
  },
  {
   "cell_type": "code",
   "execution_count": 10,
   "metadata": {},
   "outputs": [],
   "source": [
    "test_hydrophobic = list(((train_pdb_set | val_pdb_set) & hydrophobic_set))\n",
    "test_hydrophilic = list(((train_pdb_set | val_pdb_set) & hydrophilic_set))\n",
    "# test_neutral = list(((train_pdb_set | val_pdb_set) & neutral_set))"
   ]
  },
  {
   "cell_type": "code",
   "execution_count": 10,
   "metadata": {},
   "outputs": [],
   "source": [
    "test_hydrophobic = list((test_pdb_set & hydrophobic_set))\n",
    "test_hydrophilic = list((test_pdb_set & hydrophilic_set))"
   ]
  },
  {
   "cell_type": "code",
   "execution_count": 11,
   "metadata": {},
   "outputs": [],
   "source": [
    "with open('../../../data/test_ave_SASA_large_9_pdb', mode='w') as f:\n",
    "    for pdb in test_hydrophobic:\n",
    "        f.write(pdb + '\\n')"
   ]
  },
  {
   "cell_type": "code",
   "execution_count": 12,
   "metadata": {},
   "outputs": [],
   "source": [
    "with open('../../../data/test_ave_SASA_small_9_pdb', mode='w') as f:\n",
    "    for pdb in test_hydrophilic:\n",
    "        f.write(pdb + '\\n')"
   ]
  },
  {
   "cell_type": "code",
   "execution_count": 98,
   "metadata": {},
   "outputs": [],
   "source": [
    "with open('../../data/test_neutral_500_pdb', mode='w') as f:\n",
    "    for pdb in test_neutral:\n",
    "        f.write(pdb + '\\n')"
   ]
  },
  {
   "cell_type": "code",
   "execution_count": null,
   "metadata": {},
   "outputs": [],
   "source": []
  }
 ],
 "metadata": {
  "kernelspec": {
   "display_name": "yuki_research",
   "language": "python",
   "name": "python3"
  },
  "language_info": {
   "codemirror_mode": {
    "name": "ipython",
    "version": 3
   },
   "file_extension": ".py",
   "mimetype": "text/x-python",
   "name": "python",
   "nbconvert_exporter": "python",
   "pygments_lexer": "ipython3",
   "version": "3.11.9"
  }
 },
 "nbformat": 4,
 "nbformat_minor": 2
}
