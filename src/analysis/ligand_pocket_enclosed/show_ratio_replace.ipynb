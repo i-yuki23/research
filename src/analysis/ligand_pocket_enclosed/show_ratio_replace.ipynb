{
 "cells": [
  {
   "cell_type": "markdown",
   "metadata": {},
   "source": [
    "## それぞれのpdbに対してreplaced, non-replaced水分子を取得する"
   ]
  },
  {
   "cell_type": "code",
   "execution_count": 1,
   "metadata": {},
   "outputs": [],
   "source": [
    "import sys\n",
    "sys.path.append('../..')\n",
    "from lib.water import get_displaceable_water_nums_by_pdb_list, get_non_displaceable_water_nums_by_pdb_list\n",
    "from lib.pdb import get_all_pdb_names\n",
    "import numpy as np\n",
    "import matplotlib.pyplot as plt"
   ]
  },
  {
   "cell_type": "code",
   "execution_count": 2,
   "metadata": {},
   "outputs": [],
   "source": [
    "pdb_names = get_all_pdb_names()"
   ]
  },
  {
   "cell_type": "code",
   "execution_count": 21,
   "metadata": {},
   "outputs": [],
   "source": [
    "DATA_TYPE1 = 'gr'\n",
    "DATA_VOXEL_NUM = 10\n",
    "CLASSIFYING_RULE = 'WaterClassifyingRuleEmbedding'\n",
    "LIGAND_POCKET_DEFINER = 'LigandPocketDefinerOriginal'\n",
    "LIGAND_VOXEL_NUM = 8"
   ]
  },
  {
   "cell_type": "code",
   "execution_count": 22,
   "metadata": {},
   "outputs": [],
   "source": [
    "displaced_water = get_displaceable_water_nums_by_pdb_list(pdb_names=pdb_names, data_voxel_num=DATA_VOXEL_NUM, classifying_rule=CLASSIFYING_RULE, ligand_pocket_definer=LIGAND_POCKET_DEFINER, ligand_voxel_num=LIGAND_VOXEL_NUM)\n",
    "non_displaced_water = get_non_displaceable_water_nums_by_pdb_list(pdb_names=pdb_names, data_voxel_num=DATA_VOXEL_NUM, classifying_rule=CLASSIFYING_RULE, ligand_pocket_definer=LIGAND_POCKET_DEFINER, ligand_voxel_num=LIGAND_VOXEL_NUM)"
   ]
  },
  {
   "cell_type": "code",
   "execution_count": 23,
   "metadata": {},
   "outputs": [
    {
     "data": {
      "text/plain": [
       "41871"
      ]
     },
     "execution_count": 23,
     "metadata": {},
     "output_type": "execute_result"
    }
   ],
   "source": [
    "sum(displaced_water)"
   ]
  },
  {
   "cell_type": "code",
   "execution_count": 24,
   "metadata": {},
   "outputs": [
    {
     "data": {
      "text/plain": [
       "82471"
      ]
     },
     "execution_count": 24,
     "metadata": {},
     "output_type": "execute_result"
    }
   ],
   "source": [
    "sum(non_displaced_water) + sum(displaced_water)"
   ]
  },
  {
   "cell_type": "code",
   "execution_count": 25,
   "metadata": {},
   "outputs": [
    {
     "data": {
      "text/plain": [
       "(16, 10)"
      ]
     },
     "execution_count": 25,
     "metadata": {},
     "output_type": "execute_result"
    }
   ],
   "source": [
    "displaced_water[0], non_displaced_water[0]"
   ]
  },
  {
   "cell_type": "code",
   "execution_count": 26,
   "metadata": {},
   "outputs": [],
   "source": [
    "non_dis_ratio = np.array(non_displaced_water) / np.array(displaced_water)"
   ]
  },
  {
   "cell_type": "code",
   "execution_count": 27,
   "metadata": {},
   "outputs": [
    {
     "data": {
      "text/plain": [
       "array([0.625     , 0.90909091, 0.90909091, ..., 0.79310345, 1.        ,\n",
       "       0.8       ])"
      ]
     },
     "execution_count": 27,
     "metadata": {},
     "output_type": "execute_result"
    }
   ],
   "source": [
    "non_dis_ratio"
   ]
  },
  {
   "cell_type": "code",
   "execution_count": 28,
   "metadata": {},
   "outputs": [
    {
     "data": {
      "image/png": "[encoded data removed]",
      "text/plain": [
       "<Figure size 1000x600 with 1 Axes>"
      ]
     },
     "metadata": {},
     "output_type": "display_data"
    },
    {
     "name": "stdout",
     "output_type": "stream",
     "text": [
      "0.9318181818181818\n"
     ]
    }
   ],
   "source": [
    "plt.figure(figsize=(10, 6))\n",
    "counts, bins, _ = plt.hist(non_dis_ratio, bins=50, color='skyblue', edgecolor='black')\n",
    "peak_index = np.argmax(counts)\n",
    "peak_x = (bins[peak_index] + bins[peak_index + 1]) / 2\n",
    "plt.title('Distribution of Average pocket SASA')\n",
    "plt.xlabel('Average pocket SASA')\n",
    "plt.ylabel('Frequency')\n",
    "plt.show()\n",
    "print(peak_x)"
   ]
  },
  {
   "cell_type": "code",
   "execution_count": 29,
   "metadata": {},
   "outputs": [
    {
     "data": {
      "text/plain": [
       "array([0.        , 0.2       , 0.        , 0.        , 0.2       ,\n",
       "       0.2       , 0.33333333, 0.30769231, 0.46666667, 0.23529412,\n",
       "       0.33333333, 0.42857143, 0.25      , 0.16666667, 0.33333333,\n",
       "       0.14285714, 0.42857143, 0.4       , 0.25      , 0.4       ,\n",
       "       0.375     , 0.33333333, 0.4       , 0.42105263, 0.1       ,\n",
       "       0.18181818, 0.33333333, 0.38461538, 0.28571429, 0.19230769,\n",
       "       0.21052632, 0.42857143, 0.42857143, 0.26666667, 0.38888889,\n",
       "       0.23529412, 0.41666667, 0.44444444, 0.4       , 0.16666667,\n",
       "       0.38095238, 0.45454545, 0.38888889, 0.46666667, 0.3125    ,\n",
       "       0.3125    , 0.45714286, 0.28571429, 0.38888889, 0.33333333,\n",
       "       0.47826087, 0.25      , 0.44444444, 0.41666667, 0.375     ,\n",
       "       0.44444444, 0.23529412, 0.        , 0.2       , 0.33333333,\n",
       "       0.21428571, 0.26666667, 0.34782609, 0.        , 0.47368421,\n",
       "       0.38461538, 0.15789474, 0.19047619, 0.29411765, 0.375     ,\n",
       "       0.23809524, 0.25      , 0.375     , 0.46153846, 0.26666667,\n",
       "       0.45454545, 0.21428571, 0.23076923, 0.4       , 0.25      ,\n",
       "       0.3       , 0.34615385, 0.44444444, 0.44444444, 0.40740741,\n",
       "       0.4       , 0.36363636, 0.28571429, 0.14285714, 0.33333333,\n",
       "       0.45454545, 0.44444444, 0.38461538, 0.42857143, 0.44444444,\n",
       "       0.40909091, 0.30769231, 0.06666667, 0.35714286, 0.4       ,\n",
       "       0.375     , 0.27272727, 0.25      , 0.4       , 0.2       ,\n",
       "       0.18181818, 0.27777778, 0.4       , 0.2       , 0.46153846,\n",
       "       0.41176471, 0.23076923, 0.2       , 0.42857143, 0.17647059,\n",
       "       0.26315789, 0.33333333, 0.3       , 0.4       , 0.47058824])"
      ]
     },
     "execution_count": 29,
     "metadata": {},
     "output_type": "execute_result"
    }
   ],
   "source": [
    "ratio_list = non_dis_ratio[non_dis_ratio < 0.33]\n",
    "non_dis_ratio[non_dis_ratio < 0.5]\n"
   ]
  },
  {
   "cell_type": "code",
   "execution_count": 30,
   "metadata": {},
   "outputs": [
    {
     "data": {
      "text/plain": [
       "array([   5,    6,    7,    8,    9,   11,   28,  150,  242,  243,  293,\n",
       "        392,  536,  539,  650,  700,  711,  720,  739,  795,  894,  895,\n",
       "       1035, 1238, 1394, 1427, 1428, 1442, 1471, 1499, 1575, 1582, 1595,\n",
       "       1647, 1649, 1669, 1714, 1745, 1757, 1786, 2212, 2213, 2358, 2359,\n",
       "       2405, 2431, 2442, 2443, 2446, 2467, 2507, 2511, 2523, 2528, 2644])"
      ]
     },
     "execution_count": 30,
     "metadata": {},
     "output_type": "execute_result"
    }
   ],
   "source": [
    "indices = np.where(non_dis_ratio < 0.33)[0]\n",
    "indices"
   ]
  },
  {
   "cell_type": "code",
   "execution_count": 31,
   "metadata": {},
   "outputs": [
    {
     "data": {
      "text/plain": [
       "55"
      ]
     },
     "execution_count": 31,
     "metadata": {},
     "output_type": "execute_result"
    }
   ],
   "source": [
    "len(np.array(pdb_names)[indices].tolist())"
   ]
  },
  {
   "cell_type": "code",
   "execution_count": 33,
   "metadata": {},
   "outputs": [
    {
     "data": {
      "text/plain": [
       "array(['184l', '185l', '186l', '187l', '188l', '1a28', '2p2a', '1xap',\n",
       "       '5t0t', '5tbm', '4xaq', '1lgw', '1dzk', '1e3g', '4zv1', '4omk',\n",
       "       '4p6w', '4poj', '3iod', '3f78', '1fcz', '1fd0', '1n46', '4kwf',\n",
       "       '2w8y', '3f3c', '3f3d', '3b5r', '3uex', '4ykj', '1rjk', '1s19',\n",
       "       '1sr7', '4v24', '4w52', '4pp5', '5hcv', '1kdk', '1l83', '3ctt',\n",
       "       '5l7g', '5l7h', '3b65', '3b66', '4xt2', '1u1w', '1usk', '1i37',\n",
       "       '1ie9', '4m8e', '1qkt', '1z95', '2o4j', '2o4r', '1ajn'],\n",
       "      dtype='<U4')"
      ]
     },
     "execution_count": 33,
     "metadata": {},
     "output_type": "execute_result"
    }
   ],
   "source": [
    "np.array(pdb_names)[indices]"
   ]
  },
  {
   "cell_type": "code",
   "execution_count": 32,
   "metadata": {},
   "outputs": [
    {
     "data": {
      "text/plain": [
       "{'184l': 0.0,\n",
       " '185l': 0.2,\n",
       " '186l': 0.0,\n",
       " '187l': 0.0,\n",
       " '188l': 0.2,\n",
       " '1a28': 0.2,\n",
       " '2p2a': 0.3076923076923077,\n",
       " '1xap': 0.23529411764705882,\n",
       " '5t0t': 0.25,\n",
       " '5tbm': 0.16666666666666666,\n",
       " '4xaq': 0.14285714285714285,\n",
       " '1lgw': 0.25,\n",
       " '1dzk': 0.1,\n",
       " '1e3g': 0.18181818181818182,\n",
       " '4zv1': 0.2857142857142857,\n",
       " '4omk': 0.19230769230769232,\n",
       " '4p6w': 0.21052631578947367,\n",
       " '4poj': 0.26666666666666666,\n",
       " '3iod': 0.23529411764705882,\n",
       " '3f78': 0.16666666666666666,\n",
       " '1fcz': 0.3125,\n",
       " '1fd0': 0.3125,\n",
       " '1n46': 0.2857142857142857,\n",
       " '4kwf': 0.25,\n",
       " '2w8y': 0.23529411764705882,\n",
       " '3f3c': 0.0,\n",
       " '3f3d': 0.2,\n",
       " '3b5r': 0.21428571428571427,\n",
       " '3uex': 0.26666666666666666,\n",
       " '4ykj': 0.0,\n",
       " '1rjk': 0.15789473684210525,\n",
       " '1s19': 0.19047619047619047,\n",
       " '1sr7': 0.29411764705882354,\n",
       " '4v24': 0.23809523809523808,\n",
       " '4w52': 0.25,\n",
       " '4pp5': 0.26666666666666666,\n",
       " '5hcv': 0.21428571428571427,\n",
       " '1kdk': 0.23076923076923078,\n",
       " '1l83': 0.25,\n",
       " '3ctt': 0.3,\n",
       " '5l7g': 0.2857142857142857,\n",
       " '5l7h': 0.14285714285714285,\n",
       " '3b65': 0.3076923076923077,\n",
       " '3b66': 0.06666666666666667,\n",
       " '4xt2': 0.2727272727272727,\n",
       " '1u1w': 0.25,\n",
       " '1usk': 0.2,\n",
       " '1i37': 0.18181818181818182,\n",
       " '1ie9': 0.2777777777777778,\n",
       " '4m8e': 0.2,\n",
       " '1qkt': 0.23076923076923078,\n",
       " '1z95': 0.2,\n",
       " '2o4j': 0.17647058823529413,\n",
       " '2o4r': 0.2631578947368421,\n",
       " '1ajn': 0.3}"
      ]
     },
     "execution_count": 32,
     "metadata": {},
     "output_type": "execute_result"
    }
   ],
   "source": [
    "{pdb: ratio for pdb, ratio in zip(np.array(pdb_names)[indices], ratio_list)}"
   ]
  },
  {
   "cell_type": "code",
   "execution_count": 13,
   "metadata": {},
   "outputs": [
    {
     "data": {
      "text/plain": [
       "'4ynl'"
      ]
     },
     "execution_count": 13,
     "metadata": {},
     "output_type": "execute_result"
    }
   ],
   "source": [
    "pdb_names[non_dis_ratio.argmax()]"
   ]
  },
  {
   "cell_type": "code",
   "execution_count": 29,
   "metadata": {},
   "outputs": [],
   "source": [
    "ratio_list = non_dis_ratio[non_dis_ratio > 2.0]"
   ]
  },
  {
   "cell_type": "code",
   "execution_count": 30,
   "metadata": {},
   "outputs": [],
   "source": [
    "indices = np.where(non_dis_ratio > 2.0)[0]"
   ]
  },
  {
   "cell_type": "code",
   "execution_count": 31,
   "metadata": {},
   "outputs": [
    {
     "data": {
      "text/plain": [
       "{'1oe8': 2.25,\n",
       " '3e12': 2.0833333333333335,\n",
       " '2dw7': 2.3333333333333335,\n",
       " '3gqz': 2.3333333333333335,\n",
       " '4do5': 2.3333333333333335,\n",
       " '4nj9': 2.25,\n",
       " '5am7': 2.272727272727273,\n",
       " '1ado': 3.2,\n",
       " '4fht': 2.5,\n",
       " '4iie': 3.3333333333333335,\n",
       " '3c2f': 2.5,\n",
       " '3cdb': 2.3,\n",
       " '1uto': 2.5,\n",
       " '3n7a': 2.4,\n",
       " '1njd': 2.1818181818181817,\n",
       " '3pwk': 2.1666666666666665,\n",
       " '3q1x': 2.4,\n",
       " '3qfz': 2.2,\n",
       " '2fqx': 3.0,\n",
       " '5efc': 2.1,\n",
       " '4iid': 3.6666666666666665,\n",
       " '4kz3': 2.857142857142857,\n",
       " '3uil': 2.2857142857142856,\n",
       " '4ynl': 3.727272727272727,\n",
       " '4bi6': 2.4,\n",
       " '4umc': 2.2,\n",
       " '4wiv': 2.2,\n",
       " '5hbn': 2.1666666666666665,\n",
       " '3pce': 2.1666666666666665,\n",
       " '1koj': 2.125,\n",
       " '2ha3': 2.5,\n",
       " '2i19': 2.3333333333333335,\n",
       " '3mfw': 2.1666666666666665,\n",
       " '3mjl': 3.0,\n",
       " '3g2z': 2.142857142857143,\n",
       " '2qrl': 2.4285714285714284,\n",
       " '2qtg': 2.111111111111111,\n",
       " '1ew8': 3.25,\n",
       " '2xdx': 2.1666666666666665,\n",
       " '3ng4': 2.3333333333333335,\n",
       " '3zdg': 2.3333333333333335,\n",
       " '4fnn': 2.1666666666666665,\n",
       " '4efk': 2.2,\n",
       " '4cwf': 2.125,\n",
       " '2cht': 2.2857142857142856,\n",
       " '3rbu': 2.4,\n",
       " '1ii5': 2.25,\n",
       " '4m6u': 3.0,\n",
       " '2ot1': 2.875,\n",
       " '2f9k': 2.125,\n",
       " '1yq7': 2.111111111111111,\n",
       " '4b5s': 2.75}"
      ]
     },
     "execution_count": 31,
     "metadata": {},
     "output_type": "execute_result"
    }
   ],
   "source": [
    "{pdb: ratio for pdb, ratio in zip(np.array(pdb_names)[indices], ratio_list)}"
   ]
  },
  {
   "cell_type": "code",
   "execution_count": null,
   "metadata": {},
   "outputs": [],
   "source": []
  }
 ],
 "metadata": {
  "kernelspec": {
   "display_name": "yuki_research",
   "language": "python",
   "name": "python3"
  },
  "language_info": {
   "codemirror_mode": {
    "name": "ipython",
    "version": 3
   },
   "file_extension": ".py",
   "mimetype": "text/x-python",
   "name": "python",
   "nbconvert_exporter": "python",
   "pygments_lexer": "ipython3",
   "version": "3.10.13"
  }
 },
 "nbformat": 4,
 "nbformat_minor": 2
}
