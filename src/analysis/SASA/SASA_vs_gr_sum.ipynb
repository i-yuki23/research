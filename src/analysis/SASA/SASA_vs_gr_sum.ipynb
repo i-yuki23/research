{
 "cells": [
  {
   "cell_type": "code",
   "execution_count": 3,
   "metadata": {},
   "outputs": [],
   "source": [
    "import sys\n",
    "sys.path.append('../..')"
   ]
  },
  {
   "cell_type": "code",
   "execution_count": 13,
   "metadata": {},
   "outputs": [],
   "source": [
    "import os\n",
    "import numpy as np\n",
    "from lib.path import get_training_data_dir\n",
    "from data_loader.SingleDataLoader import SingleDataLoader\n",
    "import matplotlib.pyplot as plt"
   ]
  },
  {
   "cell_type": "code",
   "execution_count": 5,
   "metadata": {},
   "outputs": [],
   "source": [
    "data_dir = '../../../data'\n",
    "pdb_list_path = os.path.join(data_dir, 'all_protein')"
   ]
  },
  {
   "cell_type": "code",
   "execution_count": 6,
   "metadata": {},
   "outputs": [],
   "source": [
    "DATA_TYPE1 = 'gr'\n",
    "DATA_VOXEL_NUM = 10\n",
    "CLASSIFYING_RULE = 'WaterClassifyingRuleSurface'\n",
    "LIGAND_POCKET_DEFINER = 'LigandPocketDefinerOriginal'\n",
    "LIGAND_VOXEL_NUM = 8\n",
    "training_data_dir = get_training_data_dir(DATA_TYPE1, DATA_VOXEL_NUM, CLASSIFYING_RULE, LIGAND_POCKET_DEFINER, LIGAND_VOXEL_NUM)"
   ]
  },
  {
   "cell_type": "code",
   "execution_count": 8,
   "metadata": {},
   "outputs": [
    {
     "name": "stdout",
     "output_type": "stream",
     "text": [
      "Error processing 2p15: No data found for 2p15\n",
      "Error processing 2pog: No data found for 2pog\n",
      "Error processing 3kr4: No data found for 3kr4\n",
      "Error processing 4ajl: No data found for 4ajl\n",
      "Error processing 1olu: No data found for 1olu\n",
      "Error processing 3ebo: No data found for 3ebo\n",
      "Error processing 4lvt: No data found for 4lvt\n",
      "Error processing 4lxd: No data found for 4lxd\n",
      "Error processing 2d3u: No data found for 2d3u\n",
      "Error processing 2d3z: No data found for 2d3z\n",
      "Error processing 2zkj: No data found for 2zkj\n",
      "Error processing 2zq0: No data found for 2zq0\n",
      "Error processing 2j47: No data found for 2j47\n",
      "Error processing 4jn2: No data found for 4jn2\n",
      "Error processing 4u0f: No data found for 4u0f\n",
      "Error processing 5afv: No data found for 5afv\n",
      "Error processing 3t60: No data found for 3t60\n",
      "Error processing 3t70: No data found for 3t70\n",
      "Error processing 4p58: No data found for 4p58\n",
      "Error processing 4poh: No data found for 4poh\n",
      "Error processing 4poj: No data found for 4poj\n",
      "Error processing 3i4b: No data found for 3i4b\n",
      "Error processing 4aji: No data found for 4aji\n",
      "Error processing 2vt3: No data found for 2vt3\n",
      "Error processing 2vvs: No data found for 2vvs\n",
      "Error processing 3f70: No data found for 3f70\n",
      "Error processing 3fee: No data found for 3fee\n",
      "Error processing 3fur: No data found for 3fur\n",
      "Error processing 3ccz: No data found for 3ccz\n",
      "Error processing 3cd7: No data found for 3cd7\n",
      "Error processing 4cg8: No data found for 4cg8\n",
      "Error processing 4cg9: No data found for 4cg9\n",
      "Error processing 4cga: No data found for 4cga\n",
      "Error processing 4eo6: No data found for 4eo6\n",
      "Error processing 4eo8: No data found for 4eo8\n",
      "Error processing 3ms9: No data found for 3ms9\n",
      "Error processing 3mss: No data found for 3mss\n",
      "Error processing 1nhu: No data found for 1nhu\n",
      "Error processing 1np0: No data found for 1np0\n",
      "Error processing 3pyy: No data found for 3pyy\n",
      "Error processing 3qkd: No data found for 3qkd\n",
      "Error processing 2xp7: No data found for 2xp7\n",
      "Error processing 2q8h: No data found for 2q8h\n",
      "Error processing 2jke: No data found for 2jke\n",
      "Error processing 2jkp: No data found for 2jkp\n",
      "Error processing 3zi0: No data found for 3zi0\n",
      "Error processing 3zk6: No data found for 3zk6\n",
      "Error processing 3zln: No data found for 3zln\n",
      "Error processing 5dxt: No data found for 5dxt\n",
      "Error processing 5egu: No data found for 5egu\n",
      "Error processing 4ieh: No data found for 4ieh\n",
      "Error processing 4ih5: No data found for 4ih5\n",
      "Error processing 4ih6: No data found for 4ih6\n",
      "Error processing 4l50: No data found for 4l50\n",
      "Error processing 4l51: No data found for 4l51\n",
      "Error processing 4lj5: No data found for 4lj5\n",
      "Error processing 4lj8: No data found for 4lj8\n",
      "Error processing 4mpn: No data found for 4mpn\n",
      "Error processing 4n9c: No data found for 4n9c\n",
      "Error processing 5bv3: No data found for 5bv3\n",
      "Error processing 5jy3: No data found for 5jy3\n",
      "Error processing 5kby: No data found for 5kby\n",
      "Error processing 2bys: No data found for 2bys\n",
      "Error processing 3b2q: No data found for 3b2q\n",
      "Error processing 2xm2: No data found for 2xm2\n",
      "Error processing 3ebp: No data found for 3ebp\n",
      "Error processing 3u9q: No data found for 3u9q\n",
      "Error processing 4r06: No data found for 4r06\n",
      "Error processing 4r0a: No data found for 4r0a\n",
      "Error processing 4r76: No data found for 4r76\n",
      "Error processing 1y1z: No data found for 1y1z\n",
      "Error processing 3jvr: No data found for 3jvr\n",
      "Error processing 3jvs: No data found for 3jvs\n",
      "Error processing 4b9z: No data found for 4b9z\n",
      "Error processing 4pp3: No data found for 4pp3\n",
      "Error processing 4pp5: No data found for 4pp5\n",
      "Error processing 4zji: No data found for 4zji\n",
      "Error processing 5fsx: No data found for 5fsx\n",
      "Error processing 5fsy: No data found for 5fsy\n",
      "Error processing 5ftg: No data found for 5ftg\n",
      "Error processing 5hcv: No data found for 5hcv\n",
      "Error processing 3ozj: No data found for 3ozj\n",
      "Error processing 2ypo: No data found for 2ypo\n",
      "Error processing 2yxj: No data found for 2yxj\n",
      "Error processing 3mf5: No data found for 3mf5\n",
      "Error processing 5ehr: No data found for 5ehr\n",
      "Error processing 5eqe: No data found for 5eqe\n",
      "Error processing 5eqy: No data found for 5eqy\n",
      "Error processing 4abg: No data found for 4abg\n",
      "Error processing 4aje: No data found for 4aje\n",
      "Error processing 1pb8: No data found for 1pb8\n",
      "Error processing 1pb9: No data found for 1pb9\n",
      "Error processing 3w37: No data found for 3w37\n",
      "Error processing 4e70: No data found for 4e70\n",
      "Error processing 4ek9: No data found for 4ek9\n",
      "Error processing 4da5: No data found for 4da5\n",
      "Error processing 4dcs: No data found for 4dcs\n",
      "Error processing 5l7h: No data found for 5l7h\n",
      "Error processing 4o9w: No data found for 4o9w\n",
      "Error processing 4oiv: No data found for 4oiv\n",
      "Error processing 5ime: No data found for 5ime\n",
      "Error processing 4k6i: No data found for 4k6i\n",
      "Error processing 3qox: No data found for 3qox\n",
      "Error processing 1vfn: No data found for 1vfn\n",
      "Error processing 4m8e: No data found for 4m8e\n",
      "Error processing 4mhz: No data found for 4mhz\n",
      "Error processing 2oax: No data found for 2oax\n",
      "Error processing 4io4: No data found for 4io4\n",
      "Error processing 4io5: No data found for 4io5\n",
      "Error processing 4io6: No data found for 4io6\n",
      "Error processing 1yq7: No data found for 1yq7\n",
      "Error processing 2epn: No data found for 2epn\n",
      "Error processing 3k5v: No data found for 3k5v\n",
      "Error processing 4b1j: No data found for 4b1j\n",
      "Error processing 4z93: No data found for 4z93\n",
      "Error processing 184l: No data found for 184l\n",
      "Error processing 186l: No data found for 186l\n",
      "Error processing 187l: No data found for 187l\n",
      "Error processing 3kr4: No data found for 3kr4\n",
      "Error processing 4ajl: No data found for 4ajl\n",
      "Error processing 1olu: No data found for 1olu\n",
      "Error processing 3ebo: No data found for 3ebo\n",
      "Error processing 4lvt: No data found for 4lvt\n",
      "Error processing 4lxd: No data found for 4lxd\n",
      "Error processing 4xaq: No data found for 4xaq\n",
      "Error processing 4xmr: No data found for 4xmr\n",
      "Error processing 2d3u: No data found for 2d3u\n",
      "Error processing 2d3z: No data found for 2d3z\n",
      "Error processing 2zkj: No data found for 2zkj\n",
      "Error processing 2zq0: No data found for 2zq0\n",
      "Error processing 2j47: No data found for 2j47\n",
      "Error processing 4jn2: No data found for 4jn2\n",
      "Error processing 4u0f: No data found for 4u0f\n",
      "Error processing 3t60: No data found for 3t60\n",
      "Error processing 3t70: No data found for 3t70\n",
      "Error processing 4owv: No data found for 4owv\n",
      "Error processing 3i4b: No data found for 3i4b\n",
      "Error processing 4aji: No data found for 4aji\n",
      "Error processing 2vt3: No data found for 2vt3\n",
      "Error processing 2vvs: No data found for 2vvs\n",
      "Error processing 3f70: No data found for 3f70\n",
      "Error processing 3fee: No data found for 3fee\n",
      "Error processing 3ccz: No data found for 3ccz\n",
      "Error processing 3cd7: No data found for 3cd7\n",
      "Error processing 4cg9: No data found for 4cg9\n",
      "Error processing 4cga: No data found for 4cga\n",
      "Error processing 4eo6: No data found for 4eo6\n",
      "Error processing 4eo8: No data found for 4eo8\n",
      "Error processing 1uwu: No data found for 1uwu\n",
      "Error processing 3ms9: No data found for 3ms9\n",
      "Error processing 3mss: No data found for 3mss\n",
      "Error processing 1nhu: No data found for 1nhu\n",
      "Error processing 1np0: No data found for 1np0\n",
      "Error processing 3pyy: No data found for 3pyy\n",
      "Error processing 3qkd: No data found for 3qkd\n",
      "Error processing 2xp7: No data found for 2xp7\n",
      "Error processing 2q8h: No data found for 2q8h\n",
      "Error processing 2jke: No data found for 2jke\n",
      "Error processing 2jkp: No data found for 2jkp\n",
      "Error processing 5dxt: No data found for 5dxt\n",
      "Error processing 4ieh: No data found for 4ieh\n",
      "Error processing 4ih5: No data found for 4ih5\n",
      "Error processing 4ih6: No data found for 4ih6\n",
      "Error processing 4l50: No data found for 4l50\n",
      "Error processing 4l51: No data found for 4l51\n",
      "Error processing 4lj5: No data found for 4lj5\n",
      "Error processing 4lj8: No data found for 4lj8\n",
      "Error processing 4mpn: No data found for 4mpn\n",
      "Error processing 4n9c: No data found for 4n9c\n",
      "Error processing 5kby: No data found for 5kby\n",
      "Error processing 2bys: No data found for 2bys\n",
      "Error processing 3b2q: No data found for 3b2q\n",
      "Error processing 3f3c: No data found for 3f3c\n",
      "Error processing 2xm2: No data found for 2xm2\n",
      "Error processing 3ebp: No data found for 3ebp\n",
      "Error processing 3u9q: No data found for 3u9q\n",
      "Error processing 4r06: No data found for 4r06\n",
      "Error processing 4r0a: No data found for 4r0a\n",
      "Error processing 4r76: No data found for 4r76\n",
      "Error processing 4ykj: No data found for 4ykj\n",
      "Error processing 3jvr: No data found for 3jvr\n",
      "Error processing 3jvs: No data found for 3jvs\n",
      "Error processing 4b9z: No data found for 4b9z\n",
      "Error processing 5fsx: No data found for 5fsx\n",
      "Error processing 5fsy: No data found for 5fsy\n",
      "Error processing 5ftg: No data found for 5ftg\n",
      "Error processing 5gs9: No data found for 5gs9\n",
      "Error processing 3ozj: No data found for 3ozj\n",
      "Error processing 2yxj: No data found for 2yxj\n",
      "Error processing 3mf5: No data found for 3mf5\n",
      "Error processing 5ehr: No data found for 5ehr\n",
      "Error processing 5eqe: No data found for 5eqe\n",
      "Error processing 4abg: No data found for 4abg\n",
      "Error processing 4aje: No data found for 4aje\n",
      "Error processing 3w37: No data found for 3w37\n",
      "Error processing 4e70: No data found for 4e70\n",
      "Error processing 4ek9: No data found for 4ek9\n",
      "Error processing 4dcs: No data found for 4dcs\n",
      "Error processing 5l7h: No data found for 5l7h\n",
      "Error processing 4o9w: No data found for 4o9w\n",
      "Error processing 4oiv: No data found for 4oiv\n",
      "Error processing 5ime: No data found for 5ime\n",
      "Error processing 4k4j: No data found for 4k4j\n",
      "Error processing 3qox: No data found for 3qox\n",
      "Error processing 4m8e: No data found for 4m8e\n",
      "Error processing 4mhz: No data found for 4mhz\n",
      "Error processing 1yq7: No data found for 1yq7\n",
      "Error processing 2epn: No data found for 2epn\n",
      "Error processing 3k5v: No data found for 3k5v\n",
      "Error processing 4b1j: No data found for 4b1j\n",
      "Error processing 4z93: No data found for 4z93\n",
      "Error processing 5dq8: No data found for 5dq8\n"
     ]
    }
   ],
   "source": [
    "data_loader = SingleDataLoader(training_data_dir)\n",
    "gr_data, label = data_loader.load_data(pdb_list_path)"
   ]
  },
  {
   "cell_type": "code",
   "execution_count": 9,
   "metadata": {},
   "outputs": [],
   "source": [
    "SASA = np.load('ave_sasa.npy')"
   ]
  },
  {
   "cell_type": "code",
   "execution_count": 12,
   "metadata": {},
   "outputs": [],
   "source": [
    "gr_sum = [np.array(gr).sum() for gr in gr_data]"
   ]
  },
  {
   "cell_type": "code",
   "execution_count": 18,
   "metadata": {},
   "outputs": [
    {
     "data": {
      "text/plain": [
       "((2719,), 74138)"
      ]
     },
     "execution_count": 18,
     "metadata": {},
     "output_type": "execute_result"
    }
   ],
   "source": [
    "SASA.shape, len(gr_sum)"
   ]
  },
  {
   "cell_type": "code",
   "execution_count": 14,
   "metadata": {},
   "outputs": [
    {
     "ename": "ValueError",
     "evalue": "x and y must be the same size",
     "output_type": "error",
     "traceback": [
      "\u001b[0;31m---------------------------------------------------------------------------\u001b[0m",
      "\u001b[0;31mValueError\u001b[0m                                Traceback (most recent call last)",
      "Cell \u001b[0;32mIn[14], line 1\u001b[0m\n\u001b[0;32m----> 1\u001b[0m \u001b[43mplt\u001b[49m\u001b[38;5;241;43m.\u001b[39;49m\u001b[43mscatter\u001b[49m\u001b[43m(\u001b[49m\u001b[43mSASA\u001b[49m\u001b[43m,\u001b[49m\u001b[43m \u001b[49m\u001b[43mgr_sum\u001b[49m\u001b[43m,\u001b[49m\u001b[43m \u001b[49m\u001b[43mcolor\u001b[49m\u001b[38;5;241;43m=\u001b[39;49m\u001b[38;5;124;43m'\u001b[39;49m\u001b[38;5;124;43mblue\u001b[39;49m\u001b[38;5;124;43m'\u001b[39;49m\u001b[43m,\u001b[49m\u001b[43m \u001b[49m\u001b[43mlabel\u001b[49m\u001b[38;5;241;43m=\u001b[39;49m\u001b[38;5;124;43m'\u001b[39;49m\u001b[38;5;124;43mData points\u001b[39;49m\u001b[38;5;124;43m'\u001b[39;49m\u001b[43m)\u001b[49m  \u001b[38;5;66;03m# 元のデータポイント\u001b[39;00m\n",
      "File \u001b[0;32m~/anaconda3/envs/yuki_research/lib/python3.10/site-packages/matplotlib/pyplot.py:3699\u001b[0m, in \u001b[0;36mscatter\u001b[0;34m(x, y, s, c, marker, cmap, norm, vmin, vmax, alpha, linewidths, edgecolors, plotnonfinite, data, **kwargs)\u001b[0m\n\u001b[1;32m   3680\u001b[0m \u001b[38;5;129m@_copy_docstring_and_deprecators\u001b[39m(Axes\u001b[38;5;241m.\u001b[39mscatter)\n\u001b[1;32m   3681\u001b[0m \u001b[38;5;28;01mdef\u001b[39;00m \u001b[38;5;21mscatter\u001b[39m(\n\u001b[1;32m   3682\u001b[0m     x: \u001b[38;5;28mfloat\u001b[39m \u001b[38;5;241m|\u001b[39m ArrayLike,\n\u001b[0;32m   (...)\u001b[0m\n\u001b[1;32m   3697\u001b[0m     \u001b[38;5;241m*\u001b[39m\u001b[38;5;241m*\u001b[39mkwargs,\n\u001b[1;32m   3698\u001b[0m ) \u001b[38;5;241m-\u001b[39m\u001b[38;5;241m>\u001b[39m PathCollection:\n\u001b[0;32m-> 3699\u001b[0m     __ret \u001b[38;5;241m=\u001b[39m \u001b[43mgca\u001b[49m\u001b[43m(\u001b[49m\u001b[43m)\u001b[49m\u001b[38;5;241;43m.\u001b[39;49m\u001b[43mscatter\u001b[49m\u001b[43m(\u001b[49m\n\u001b[1;32m   3700\u001b[0m \u001b[43m        \u001b[49m\u001b[43mx\u001b[49m\u001b[43m,\u001b[49m\n\u001b[1;32m   3701\u001b[0m \u001b[43m        \u001b[49m\u001b[43my\u001b[49m\u001b[43m,\u001b[49m\n\u001b[1;32m   3702\u001b[0m \u001b[43m        \u001b[49m\u001b[43ms\u001b[49m\u001b[38;5;241;43m=\u001b[39;49m\u001b[43ms\u001b[49m\u001b[43m,\u001b[49m\n\u001b[1;32m   3703\u001b[0m \u001b[43m        \u001b[49m\u001b[43mc\u001b[49m\u001b[38;5;241;43m=\u001b[39;49m\u001b[43mc\u001b[49m\u001b[43m,\u001b[49m\n\u001b[1;32m   3704\u001b[0m \u001b[43m        \u001b[49m\u001b[43mmarker\u001b[49m\u001b[38;5;241;43m=\u001b[39;49m\u001b[43mmarker\u001b[49m\u001b[43m,\u001b[49m\n\u001b[1;32m   3705\u001b[0m \u001b[43m        \u001b[49m\u001b[43mcmap\u001b[49m\u001b[38;5;241;43m=\u001b[39;49m\u001b[43mcmap\u001b[49m\u001b[43m,\u001b[49m\n\u001b[1;32m   3706\u001b[0m \u001b[43m        \u001b[49m\u001b[43mnorm\u001b[49m\u001b[38;5;241;43m=\u001b[39;49m\u001b[43mnorm\u001b[49m\u001b[43m,\u001b[49m\n\u001b[1;32m   3707\u001b[0m \u001b[43m        \u001b[49m\u001b[43mvmin\u001b[49m\u001b[38;5;241;43m=\u001b[39;49m\u001b[43mvmin\u001b[49m\u001b[43m,\u001b[49m\n\u001b[1;32m   3708\u001b[0m \u001b[43m        \u001b[49m\u001b[43mvmax\u001b[49m\u001b[38;5;241;43m=\u001b[39;49m\u001b[43mvmax\u001b[49m\u001b[43m,\u001b[49m\n\u001b[1;32m   3709\u001b[0m \u001b[43m        \u001b[49m\u001b[43malpha\u001b[49m\u001b[38;5;241;43m=\u001b[39;49m\u001b[43malpha\u001b[49m\u001b[43m,\u001b[49m\n\u001b[1;32m   3710\u001b[0m \u001b[43m        \u001b[49m\u001b[43mlinewidths\u001b[49m\u001b[38;5;241;43m=\u001b[39;49m\u001b[43mlinewidths\u001b[49m\u001b[43m,\u001b[49m\n\u001b[1;32m   3711\u001b[0m \u001b[43m        \u001b[49m\u001b[43medgecolors\u001b[49m\u001b[38;5;241;43m=\u001b[39;49m\u001b[43medgecolors\u001b[49m\u001b[43m,\u001b[49m\n\u001b[1;32m   3712\u001b[0m \u001b[43m        \u001b[49m\u001b[43mplotnonfinite\u001b[49m\u001b[38;5;241;43m=\u001b[39;49m\u001b[43mplotnonfinite\u001b[49m\u001b[43m,\u001b[49m\n\u001b[1;32m   3713\u001b[0m \u001b[43m        \u001b[49m\u001b[38;5;241;43m*\u001b[39;49m\u001b[38;5;241;43m*\u001b[39;49m\u001b[43m(\u001b[49m\u001b[43m{\u001b[49m\u001b[38;5;124;43m\"\u001b[39;49m\u001b[38;5;124;43mdata\u001b[39;49m\u001b[38;5;124;43m\"\u001b[39;49m\u001b[43m:\u001b[49m\u001b[43m \u001b[49m\u001b[43mdata\u001b[49m\u001b[43m}\u001b[49m\u001b[43m \u001b[49m\u001b[38;5;28;43;01mif\u001b[39;49;00m\u001b[43m \u001b[49m\u001b[43mdata\u001b[49m\u001b[43m \u001b[49m\u001b[38;5;129;43;01mis\u001b[39;49;00m\u001b[43m \u001b[49m\u001b[38;5;129;43;01mnot\u001b[39;49;00m\u001b[43m \u001b[49m\u001b[38;5;28;43;01mNone\u001b[39;49;00m\u001b[43m \u001b[49m\u001b[38;5;28;43;01melse\u001b[39;49;00m\u001b[43m \u001b[49m\u001b[43m{\u001b[49m\u001b[43m}\u001b[49m\u001b[43m)\u001b[49m\u001b[43m,\u001b[49m\n\u001b[1;32m   3714\u001b[0m \u001b[43m        \u001b[49m\u001b[38;5;241;43m*\u001b[39;49m\u001b[38;5;241;43m*\u001b[39;49m\u001b[43mkwargs\u001b[49m\u001b[43m,\u001b[49m\n\u001b[1;32m   3715\u001b[0m \u001b[43m    \u001b[49m\u001b[43m)\u001b[49m\n\u001b[1;32m   3716\u001b[0m     sci(__ret)\n\u001b[1;32m   3717\u001b[0m     \u001b[38;5;28;01mreturn\u001b[39;00m __ret\n",
      "File \u001b[0;32m~/anaconda3/envs/yuki_research/lib/python3.10/site-packages/matplotlib/__init__.py:1465\u001b[0m, in \u001b[0;36m_preprocess_data.<locals>.inner\u001b[0;34m(ax, data, *args, **kwargs)\u001b[0m\n\u001b[1;32m   1462\u001b[0m \u001b[38;5;129m@functools\u001b[39m\u001b[38;5;241m.\u001b[39mwraps(func)\n\u001b[1;32m   1463\u001b[0m \u001b[38;5;28;01mdef\u001b[39;00m \u001b[38;5;21minner\u001b[39m(ax, \u001b[38;5;241m*\u001b[39margs, data\u001b[38;5;241m=\u001b[39m\u001b[38;5;28;01mNone\u001b[39;00m, \u001b[38;5;241m*\u001b[39m\u001b[38;5;241m*\u001b[39mkwargs):\n\u001b[1;32m   1464\u001b[0m     \u001b[38;5;28;01mif\u001b[39;00m data \u001b[38;5;129;01mis\u001b[39;00m \u001b[38;5;28;01mNone\u001b[39;00m:\n\u001b[0;32m-> 1465\u001b[0m         \u001b[38;5;28;01mreturn\u001b[39;00m \u001b[43mfunc\u001b[49m\u001b[43m(\u001b[49m\u001b[43max\u001b[49m\u001b[43m,\u001b[49m\u001b[43m \u001b[49m\u001b[38;5;241;43m*\u001b[39;49m\u001b[38;5;28;43mmap\u001b[39;49m\u001b[43m(\u001b[49m\u001b[43msanitize_sequence\u001b[49m\u001b[43m,\u001b[49m\u001b[43m \u001b[49m\u001b[43margs\u001b[49m\u001b[43m)\u001b[49m\u001b[43m,\u001b[49m\u001b[43m \u001b[49m\u001b[38;5;241;43m*\u001b[39;49m\u001b[38;5;241;43m*\u001b[39;49m\u001b[43mkwargs\u001b[49m\u001b[43m)\u001b[49m\n\u001b[1;32m   1467\u001b[0m     bound \u001b[38;5;241m=\u001b[39m new_sig\u001b[38;5;241m.\u001b[39mbind(ax, \u001b[38;5;241m*\u001b[39margs, \u001b[38;5;241m*\u001b[39m\u001b[38;5;241m*\u001b[39mkwargs)\n\u001b[1;32m   1468\u001b[0m     auto_label \u001b[38;5;241m=\u001b[39m (bound\u001b[38;5;241m.\u001b[39marguments\u001b[38;5;241m.\u001b[39mget(label_namer)\n\u001b[1;32m   1469\u001b[0m                   \u001b[38;5;129;01mor\u001b[39;00m bound\u001b[38;5;241m.\u001b[39mkwargs\u001b[38;5;241m.\u001b[39mget(label_namer))\n",
      "File \u001b[0;32m~/anaconda3/envs/yuki_research/lib/python3.10/site-packages/matplotlib/axes/_axes.py:4655\u001b[0m, in \u001b[0;36mAxes.scatter\u001b[0;34m(self, x, y, s, c, marker, cmap, norm, vmin, vmax, alpha, linewidths, edgecolors, plotnonfinite, **kwargs)\u001b[0m\n\u001b[1;32m   4653\u001b[0m y \u001b[38;5;241m=\u001b[39m np\u001b[38;5;241m.\u001b[39mma\u001b[38;5;241m.\u001b[39mravel(y)\n\u001b[1;32m   4654\u001b[0m \u001b[38;5;28;01mif\u001b[39;00m x\u001b[38;5;241m.\u001b[39msize \u001b[38;5;241m!=\u001b[39m y\u001b[38;5;241m.\u001b[39msize:\n\u001b[0;32m-> 4655\u001b[0m     \u001b[38;5;28;01mraise\u001b[39;00m \u001b[38;5;167;01mValueError\u001b[39;00m(\u001b[38;5;124m\"\u001b[39m\u001b[38;5;124mx and y must be the same size\u001b[39m\u001b[38;5;124m\"\u001b[39m)\n\u001b[1;32m   4657\u001b[0m \u001b[38;5;28;01mif\u001b[39;00m s \u001b[38;5;129;01mis\u001b[39;00m \u001b[38;5;28;01mNone\u001b[39;00m:\n\u001b[1;32m   4658\u001b[0m     s \u001b[38;5;241m=\u001b[39m (\u001b[38;5;241m20\u001b[39m \u001b[38;5;28;01mif\u001b[39;00m mpl\u001b[38;5;241m.\u001b[39mrcParams[\u001b[38;5;124m'\u001b[39m\u001b[38;5;124m_internal.classic_mode\u001b[39m\u001b[38;5;124m'\u001b[39m] \u001b[38;5;28;01melse\u001b[39;00m\n\u001b[1;32m   4659\u001b[0m          mpl\u001b[38;5;241m.\u001b[39mrcParams[\u001b[38;5;124m'\u001b[39m\u001b[38;5;124mlines.markersize\u001b[39m\u001b[38;5;124m'\u001b[39m] \u001b[38;5;241m*\u001b[39m\u001b[38;5;241m*\u001b[39m \u001b[38;5;241m2.0\u001b[39m)\n",
      "\u001b[0;31mValueError\u001b[0m: x and y must be the same size"
     ]
    },
    {
     "data": {
      "image/png": "[encoded data removed]",
      "text/plain": [
       "<Figure size 640x480 with 1 Axes>"
      ]
     },
     "metadata": {},
     "output_type": "display_data"
    }
   ],
   "source": [
    "plt.scatter(SASA, gr_sum, color='blue', label='Data points')  # 元のデータポイント"
   ]
  },
  {
   "cell_type": "code",
   "execution_count": null,
   "metadata": {},
   "outputs": [],
   "source": []
  }
 ],
 "metadata": {
  "kernelspec": {
   "display_name": "yuki_research",
   "language": "python",
   "name": "python3"
  },
  "language_info": {
   "codemirror_mode": {
    "name": "ipython",
    "version": 3
   },
   "file_extension": ".py",
   "mimetype": "text/x-python",
   "name": "python",
   "nbconvert_exporter": "python",
   "pygments_lexer": "ipython3",
   "version": "3.10.13"
  }
 },
 "nbformat": 4,
 "nbformat_minor": 2
}
